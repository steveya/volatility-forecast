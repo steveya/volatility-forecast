{
 "cells": [
  {
   "cell_type": "markdown",
   "metadata": {},
   "source": [
    "## Extending Smooth Transitioning Exponential Smoothing Volatility Forecasts\n",
    "\n",
    "This notebook corresponds to the blog series [Extending Smooth Transitioning Exponential Smoothing Volatility Forecasts](https://steveya.github.io/2024/07/12/volatility-forecast-1.html). The aim is to replace the logistic function used by the STES model with a xgboost model, and evaluate their relative performance. It is a work in progress and will be updated as I wrap up my implementations."
   ]
  },
  {
   "cell_type": "code",
   "execution_count": 1,
   "metadata": {},
   "outputs": [],
   "source": [
    "import numpy as np\n",
    "import pandas as pd\n",
    "from functools import partial\n",
    "from scipy.optimize import minimize, least_squares\n",
    "from scipy.special import expit\n",
    "from matplotlib import pyplot as plt\n",
    "from operator import itemgetter\n",
    "import yfinance as yf\n",
    "import xgboost as xgb\n",
    "import random"
   ]
  },
  {
   "cell_type": "markdown",
   "metadata": {},
   "source": [
    "### Replicating the Results Presented in [Part 1](https://steveya.github.io/2024/07/12/volatility-forecast-1.html) of the Volatility Forecasting Series\n",
    "\n",
    "The code in this section will reproduce Table 1 and Table 2of the blog post, which implements the Smooth Transition Exponential Smoothing (STES) model in [(Taylor, 2004)](https://doi.org/10.1016/j.ijforecast.2003.09.010) and further analyzed in [(Liu, Taylor, Choo 2020)](https://doi.org/10.1016/j.econmod.2020.02.021)\n",
    "\n",
    "The `simulated_contaminated_garch` function implements the simulation used in Liu et al. The rest of this section implements STES on different feature sets and follows the convention used in (Taylor 2004)."
   ]
  },
  {
   "cell_type": "code",
   "execution_count": 2,
   "metadata": {},
   "outputs": [],
   "source": [
    "def simulate_contaminated_garch(n, mu, omega, alpha, beta, eta):\n",
    "    returns = np.zeros(n)\n",
    "    sigma2s = np.zeros(n)\n",
    "    shocks = (np.random.uniform(0, 1, n) < 0.005).astype(float)\n",
    "    for t in range(1, n):\n",
    "        sigma2s[t] = omega + alpha * returns[t-1]**2 + beta * sigma2s[t-1]\n",
    "        returns[t] = np.random.normal(mu, np.sqrt(sigma2s[t])) + eta * shocks[t]\n",
    "\n",
    "    return returns, sigma2s"
   ]
  },
  {
   "cell_type": "code",
   "execution_count": 3,
   "metadata": {},
   "outputs": [],
   "source": [
    "def stes_template(params, returns, features_func):\n",
    "    \"\"\"\n",
    "    This function generates the variance forecasts and the \n",
    "    alphas for each time step using the STES model.\n",
    "\n",
    "    Parameters\n",
    "    ----------\n",
    "    params : numpy.ndarray\n",
    "        The parameters of the STES model.\n",
    "    returns : numpy.ndarray\n",
    "        The returns of the time series.\n",
    "    features_func : list\n",
    "        A list of functions that extract features from the returns.\n",
    "\n",
    "    Returns\n",
    "    -------\n",
    "    sigma2s : numpy.ndarray\n",
    "        The variance forecasts.\n",
    "    alphas : numpy.ndarray\n",
    "        The alphas for each time step.\n",
    "    \"\"\"\n",
    "    assert len(params) == len(features_func)\n",
    "    n = len(returns)\n",
    "    sigma2s = np.zeros(n)\n",
    "    alphas = np.zeros(n)\n",
    "    for t in range(1, n):\n",
    "        features = np.array([f(returns[t-1]) for f in features_func])\n",
    "        alpha = expit(params @ features)\n",
    "        alphas[t-1] = alpha\n",
    "        sigma2s[t] = (1 - alphas[t-1]) * sigma2s[t-1] + alphas[t-1] * returns[t-1]**2\n",
    "\n",
    "    return sigma2s, alphas\n"
   ]
  },
  {
   "cell_type": "code",
   "execution_count": 4,
   "metadata": {},
   "outputs": [],
   "source": [
    "# feature functions used in the `feature_func` argument of `stes_template``\n",
    "const = lambda _: 1\n",
    "abs_x = np.abs\n",
    "sqr_x = lambda x: x**2\n",
    "id_x = lambda x: x"
   ]
  },
  {
   "cell_type": "markdown",
   "metadata": {},
   "source": [
    "We use the above `stes_template` function to define the set of STES models used in (Taylor, 2004)."
   ]
  },
  {
   "cell_type": "code",
   "execution_count": 308,
   "metadata": {},
   "outputs": [],
   "source": [
    "# building all the STES models (with ES being a special case)\n",
    "es = partial(stes_template, features_func=(const,)) \n",
    "stes_ae = partial(stes_template, features_func=(const, abs_x))\n",
    "stes_se = partial(stes_template, features_func=(const, sqr_x))\n",
    "stes_eae = partial(stes_template, features_func=(const, abs_x, id_x))\n",
    "stes_ese = partial(stes_template, features_func=(const, sqr_x, id_x))\n",
    "stes_aese = partial(stes_template, features_func=(const, abs_x, sqr_x))\n",
    "stes_eaese = partial(stes_template, features_func=(const, id_x, abs_x, sqr_x))"
   ]
  },
  {
   "cell_type": "markdown",
   "metadata": {},
   "source": [
    "We also define loss of each observation as the squared of the forecasting error. We also define two metrics that help us compute root mean squared error (`rmse_metric`) and negative log-likelihood (`nllh_metric`)."
   ]
  },
  {
   "cell_type": "code",
   "execution_count": 6,
   "metadata": {},
   "outputs": [],
   "source": [
    "def squared_residual(params, model, returns, is_index=500, os_index=2000):\n",
    "    sigma2s, _ = model(params, returns)\n",
    "    sse = (returns ** 2 - sigma2s)\n",
    "    residual = sse[is_index:os_index]\n",
    "    return residual\n",
    "\n",
    "def rmse_metric(model, params, returns, is_index=500, os_index=2000):\n",
    "    sigma2s, alphas = model(params, returns)\n",
    "    \n",
    "    sse = (returns ** 2 - sigma2s) ** 2\n",
    "    is_rmse = np.sqrt(np.mean(sse[is_index:os_index]))\n",
    "    os_rmse = np.sqrt(np.mean(sse[os_index:]))\n",
    "    return is_rmse, os_rmse, sigma2s, alphas\n",
    "\n",
    "def nllh_metric(model, params, returns, is_index=500, os_index=2000):\n",
    "    sigma2s, alphas = model(params, returns)\n",
    "   \n",
    "    llh = -np.log(sigma2s[2:]) - (returns[2:] ** 2 / sigma2s[2:])\n",
    "    is_nllh = -np.sum(llh[is_index:os_index])\n",
    "    os_nllh = -np.sum(llh[os_index:])\n",
    "    return is_nllh, os_nllh, sigma2s, alphas"
   ]
  },
  {
   "cell_type": "markdown",
   "metadata": {},
   "source": [
    "I tested two ways to optimize the parameters of the general stes model. The first is to directly compute the root mean squared error (RMSE) from `rmse_metric` function, take the first output `is_rmse`, and use  `scipy.optimize.minimize` to find the optimal parameters. The second is to compute the residuals from `squared_residual` and then use `scipy.optimize.least_squares` to find the optimal parameters. I initialize the initial parameters to the optimizer using random draws from a standard gaussian distribution. \n",
    "\n",
    "I found that the second method is more robust to parameters initialization. Below are the expeiment fitting the `stes_ae` model using the two approaches with 10 random initialization."
   ]
  },
  {
   "cell_type": "code",
   "execution_count": 309,
   "metadata": {},
   "outputs": [],
   "source": [
    "def fit_model_minimize(model, param_dim, returns, is_index=500, os_index=2000):\n",
    "    initial_params = np.random.normal(0, 1, size=param_dim)\n",
    "    obj_func_inner = lambda *args, **kwargs: itemgetter(0)(partial(rmse_metric, model)(*args, **kwargs))\n",
    "    result = minimize(obj_func_inner, initial_params, args=(returns, is_index, os_index), method = 'SLSQP')\n",
    "    \n",
    "    if not result.success:\n",
    "        raise ValueError(\"Optimization failed: \" + result.message)\n",
    "    \n",
    "    is_mse, os_mse, sigmas, alphas = rmse_metric(model,result.x, returns, is_index, os_index)\n",
    "    is_llh, os_llh, _, _ = nllh_metric(model, result.x, returns, is_index, os_index)\n",
    "    return (result.x, os_mse, os_llh, sigmas, alphas, is_mse, is_llh)\n",
    "\n",
    "def fit_model_least_square(model, param_dim, returns, is_index=500, os_index=2000):\n",
    "    initial_params = np.random.normal(0, 1, size=param_dim)\n",
    "    obj_func_inner = partial(squared_residual, model=model, returns=returns, is_index=is_index, os_index=os_index)\n",
    "    result = least_squares(obj_func_inner, initial_params)\n",
    "    \n",
    "    if not result.success:\n",
    "        raise ValueError(\"Optimization failed: \" + result.message)\n",
    "    \n",
    "    is_mse, os_mse, sigmas, alphas = rmse_metric(model,result.x, returns, is_index, os_index)\n",
    "    is_llh, os_llh, _, _ = nllh_metric(model, result.x, returns, is_index, os_index)\n",
    "    return (result.x, os_mse, os_llh, sigmas, alphas, is_mse, is_llh)\n",
    "\n",
    "fit_es_minimize = partial(fit_model_minimize, model=es, param_dim=1)\n",
    "fit_stes_ae_minimize = partial(fit_model_minimize, model=stes_ae, param_dim=2)\n",
    "fit_stes_se_minimize = partial(fit_model_minimize, model=stes_se, param_dim=2)\n",
    "fit_stes_eae_minimize = partial(fit_model_minimize, model=stes_eae, param_dim=3)\n",
    "fit_stes_ese_minimize = partial(fit_model_minimize, model=stes_ese, param_dim=3)\n",
    "fit_stes_aese_minimize = partial(fit_model_minimize, model=stes_aese, param_dim=3)\n",
    "\n",
    "fit_es_least_square = partial(fit_model_least_square, model=es, param_dim=1)\n",
    "fit_stes_ae_least_square = partial(fit_model_least_square, model=stes_ae, param_dim=2)\n",
    "fit_stes_se_least_square = partial(fit_model_least_square, model=stes_se, param_dim=2)\n",
    "fit_stes_ese_least_square = partial(fit_model_least_square, model=stes_ese, param_dim=3)\n",
    "fit_stes_eae_least_square = partial(fit_model_least_square, model=stes_eae, param_dim=3)\n",
    "fit_stes_aese_least_square = partial(fit_model_least_square, model=stes_aese, param_dim=3)\n",
    "fit_stes_eaese_least_square = partial(fit_model_least_square, model=stes_eaese, param_dim=4)\n",
    "\n"
   ]
  },
  {
   "cell_type": "markdown",
   "metadata": {},
   "source": [
    "To demonstrate that the `least_squares` optimizer works better in this case, we fit the same STES model with the same random initialization to a fixed return time series, and assess the stability of the fitted parameters."
   ]
  },
  {
   "cell_type": "code",
   "execution_count": 10,
   "metadata": {},
   "outputs": [],
   "source": [
    "np.random.seed(0)\n",
    "np.random.seed(np.random.randint(0, 1e4, size=1))\n",
    "simulated_garch_return, simulated_garch_var = simulate_contaminated_garch(\n",
    "    n=2500, mu=0, omega=0.02, alpha=0.11, beta=0.87, eta=4\n",
    ")"
   ]
  },
  {
   "cell_type": "code",
   "execution_count": 11,
   "metadata": {},
   "outputs": [
    {
     "name": "stdout",
     "output_type": "stream",
     "text": [
      "[-2.1670995  -0.11246057]\n",
      "[-2.16702008 -0.11246866]\n",
      "[-2.16714041 -0.11245641]\n",
      "[-2.16711731 -0.11245876]\n",
      "[-2.16701855 -0.11246882]\n",
      "[-2.16712513 -0.11245797]\n",
      "[-2.16697288 -0.11247378]\n",
      "[-2.16716552 -0.11245386]\n",
      "[-2.16707807 -0.11246275]\n",
      "[-2.16712244 -0.11245824]\n"
     ]
    }
   ],
   "source": [
    "np.random.seed(0)\n",
    "for _ in range(10):\n",
    "    lss = least_squares(\n",
    "        partial(\n",
    "            squared_residual, \n",
    "            model=stes_ae, \n",
    "            returns=simulated_garch_return\n",
    "        ), x0=np.random.normal(0, 1, 2)) \n",
    "    print(lss.x)"
   ]
  },
  {
   "cell_type": "code",
   "execution_count": 12,
   "metadata": {},
   "outputs": [
    {
     "name": "stdout",
     "output_type": "stream",
     "text": [
      "[-2.16674593 -0.11249054]\n",
      "[-11.80986301 -16.08684575]\n",
      "[-2.1676799  -0.11233752]\n",
      "[-2.1670345  -0.11249873]\n",
      "[-2.16680262 -0.11192826]\n",
      "[-2.16696151 -0.11245809]\n",
      "[-2.1671567  -0.11248048]\n",
      "[-2.16675334 -0.11247579]\n",
      "[-2.16611258 -0.11210408]\n",
      "[-2.16630593 -0.11304955]\n"
     ]
    }
   ],
   "source": [
    "np.random.seed(0)\n",
    "for _ in range(10):\n",
    "    p, _, _, _, _, _, _ = fit_stes_ae_minimize(\n",
    "        returns=simulated_garch_return\n",
    "    )\n",
    "    print(p)"
   ]
  },
  {
   "cell_type": "markdown",
   "metadata": {},
   "source": [
    "Given exact same simualted sequence and random seeds used to gnerate the initial values to the optimizer, the `fit_stest_ae_minimize` function unstable optimas. After some playing around, the `fit_stest_ae_leastsquares` function seems to converge to a stable solution in repeated random runs.\n",
    "\n",
    "Perhaps the `fit_stest_ae_minimize` function can (and should) be further tuned, but the `fit_stest_ae_leastsquares` function seems to converge to a stable solution in repeated random runs without any tuning."
   ]
  },
  {
   "cell_type": "markdown",
   "metadata": {},
   "source": [
    "#### STES and ES Performance on Simulated Contaminated GARCH Data\n",
    "I simulate the contaminated GARCH time series using the same parameters as in the Taylor (2020) paper. I then fit the STES and ES models to the simulated data and measure their performance on the test sample 1-step ahead root mean square forecast error. The results are shown in Table 1."
   ]
  },
  {
   "cell_type": "code",
   "execution_count": 111,
   "metadata": {},
   "outputs": [],
   "source": [
    "stes_ae_os_rmses = []\n",
    "stes_se_os_rmses = []\n",
    "es_os_rmses = []\n",
    "\n",
    "num_runs = 1000\n",
    "np.random.seed(0)\n",
    "rand_seeds = np.random.randint(0, 1e6, size=num_runs)\n",
    "for i in range(num_runs):\n",
    "    np.random.seed(rand_seeds[i])\n",
    "    simulated_garch_return, simulated_garch_var = simulate_contaminated_garch(n=2500, mu=0, omega=0.02, alpha=0.11, beta=0.87, eta=4)\n",
    "    _, os_stes_se_rmse, _, _, _, _, _ = fit_stes_se_least_square(returns=simulated_garch_return)\n",
    "    _, os_stes_ae_rmse, _, _, _, _, _ = fit_stes_ae_least_square(returns=simulated_garch_return)\n",
    "    _,      os_es_rmse,      _, _, _, _, _ = fit_es_least_square(returns=simulated_garch_return)\n",
    "    stes_ae_os_rmses.append(os_stes_ae_rmse)\n",
    "    stes_se_os_rmses.append(os_stes_se_rmse)\n",
    "    es_os_rmses.append(os_es_rmse)\n"
   ]
  },
  {
   "cell_type": "code",
   "execution_count": 112,
   "metadata": {},
   "outputs": [
    {
     "data": {
      "image/png": "[encoded data removed]",
      "text/plain": [
       "<Figure size 640x480 with 1 Axes>"
      ]
     },
     "metadata": {},
     "output_type": "display_data"
    },
    {
     "name": "stdout",
     "output_type": "stream",
     "text": [
      "The mean of RMSE of the STES-AE model is 2.8452412258472464\n",
      "The mean of RMSE of the STES-SE model is 2.8787248873818627\n",
      "The mean of RMSE of the ES model is 2.85216396301645\n"
     ]
    }
   ],
   "source": [
    "plt.hist(stes_ae_os_rmses, bins=50, alpha=0.5, label='STES-AE')\n",
    "plt.hist(stes_se_os_rmses, bins=50, alpha=0.5, label='STES-SE')\n",
    "plt.hist(es_os_rmses, bins=50, alpha=0.5, label='ES')\n",
    "\n",
    "plt.legend()\n",
    "plt.show()\n",
    "\n",
    "print(f\"The mean of RMSE of the STES-AE model is {np.mean(stes_ae_os_rmses)}\")\n",
    "print(f\"The mean of RMSE of the STES-SE model is {np.mean(stes_se_os_rmses)}\")\n",
    "print(f\"The mean of RMSE of the ES model is {np.mean(es_os_rmses)}\")\n"
   ]
  },
  {
   "cell_type": "markdown",
   "metadata": {},
   "source": [
    "#### STES and ES on SPY Data\n",
    "I take the data from 2000 and fit the first 4000 data points (this part deviate from Taylor (2020), where they fit to data up to 2010.) Our test-sample starts from 2015-11-27.\n",
    "\n",
    "The RMSE reported is the average RMST of 100 different random initialization."
   ]
  },
  {
   "cell_type": "code",
   "execution_count": null,
   "metadata": {},
   "outputs": [
    {
     "name": "stderr",
     "output_type": "stream",
     "text": [
      "[*********************100%%**********************]  1 of 1 completed\n"
     ]
    }
   ],
   "source": [
    "spy_adj_close = yf.download(\"SPY\", start=\"2000-01-01\", end=\"2023-12-31\")\n",
    "spy_log_returns = np.log(spy_adj_close[\"Adj Close\"]).diff().dropna() * 100"
   ]
  },
  {
   "cell_type": "code",
   "execution_count": null,
   "metadata": {},
   "outputs": [
    {
     "name": "stdout",
     "output_type": "stream",
     "text": [
      "SPY daily returns series has length 6036\n",
      "Test data starts from 2015-11-27 00:00:00\n"
     ]
    }
   ],
   "source": [
    "print(f\"SPY daily returns series has length {len(spy_log_returns)}\")\n",
    "print(f\"Test data starts from {spy_log_returns.index[4000]}\")"
   ]
  },
  {
   "cell_type": "code",
   "execution_count": 313,
   "metadata": {},
   "outputs": [],
   "source": [
    "np.random.seed(0)\n",
    "stes_eaese_spy_res = [fit_stes_eaese_least_square(returns=spy_log_returns.to_numpy(), is_index=200, os_index=4000) for _ in range(100)]"
   ]
  },
  {
   "cell_type": "code",
   "execution_count": 314,
   "metadata": {},
   "outputs": [],
   "source": [
    "np.random.seed(0)\n",
    "stes_aese_spy_res = [fit_stes_aese_least_square(returns=spy_log_returns.to_numpy(), is_index=200, os_index=4000) for _ in range(100)]"
   ]
  },
  {
   "cell_type": "code",
   "execution_count": null,
   "metadata": {},
   "outputs": [],
   "source": [
    "np.random.seed(0)\n",
    "stes_eae_spy_res = [fit_stes_eae_least_square(returns=spy_log_returns.to_numpy(), is_index=200, os_index=4000) for _ in range(100)]"
   ]
  },
  {
   "cell_type": "code",
   "execution_count": null,
   "metadata": {},
   "outputs": [],
   "source": [
    "np.random.seed(0)\n",
    "stes_ese_spy_res = [fit_stes_ese_least_square(returns=spy_log_returns.to_numpy(), is_index=200, os_index=4000) for _ in range(100)]"
   ]
  },
  {
   "cell_type": "code",
   "execution_count": null,
   "metadata": {},
   "outputs": [],
   "source": [
    "np.random.seed(0)\n",
    "es_spy_res = [fit_es_least_square(returns=spy_log_returns.to_numpy(), is_index=200, os_index=4000) for _ in range(100)]"
   ]
  },
  {
   "cell_type": "code",
   "execution_count": 315,
   "metadata": {},
   "outputs": [
    {
     "name": "stdout",
     "output_type": "stream",
     "text": [
      "\n",
      "      STES E&AE&SE Parameter Estimated on SPY Returns using MLE: [-2.13971751 -0.1875335   0.19358432 -0.04260397],  \n",
      "      Out-of-Sample Mean Squared Error = 4.482820, \n",
      "      Out-of-Sample Neg Log-Likelihood = 1675.407590, \n",
      "      In-Sample Mean Squared Error = 4.982193,\n",
      "      In-Sample Neg Log-Likelihood = 3810.830719,\n",
      "\n"
     ]
    }
   ],
   "source": [
    "print(f\"\"\"\n",
    "      STES E&AE&SE Parameter Estimated on SPY Returns using MLE: {np.mean([s[0] for s in stes_eaese_spy_res], axis=0)},  \n",
    "      Out-of-Sample Mean Squared Error = {np.mean([s[1] for s in stes_eaese_spy_res]):.6f}, \n",
    "      Out-of-Sample Neg Log-Likelihood = {np.mean([s[2] for s in stes_eaese_spy_res]):.6f}, \n",
    "      In-Sample Mean Squared Error = {np.mean([s[5] for s in stes_eaese_spy_res]):.6f},\n",
    "      In-Sample Neg Log-Likelihood = {np.mean([s[6] for s in stes_eaese_spy_res]):.6f},\n",
    "\"\"\")"
   ]
  },
  {
   "cell_type": "code",
   "execution_count": null,
   "metadata": {},
   "outputs": [
    {
     "name": "stdout",
     "output_type": "stream",
     "text": [
      "\n",
      "      STES AE&SE Parameter Estimated on SPY Returns using MLE: [-1.99369875  0.14583494 -0.01878969],  \n",
      "      Out-of-Sample Mean Squared Error = 4.489537, \n",
      "      Out-of-Sample Neg Log-Likelihood = 1694.970797, \n",
      "      In-Sample Mean Squared Error = 5.015911,\n",
      "      In-Sample Neg Log-Likelihood = 3881.140969,\n",
      "\n"
     ]
    }
   ],
   "source": [
    "print(f\"\"\"\n",
    "      STES AE&SE Parameter Estimated on SPY Returns using MLE: {np.mean([s[0] for s in stes_aese_spy_res], axis=0)},  \n",
    "      Out-of-Sample Mean Squared Error = {np.mean([s[1] for s in stes_aese_spy_res]):.6f}, \n",
    "      Out-of-Sample Neg Log-Likelihood = {np.mean([s[2] for s in stes_aese_spy_res]):.6f}, \n",
    "      In-Sample Mean Squared Error = {np.mean([s[5] for s in stes_aese_spy_res]):.6f},\n",
    "      In-Sample Neg Log-Likelihood = {np.mean([s[6] for s in stes_aese_spy_res]):.6f},\n",
    "\"\"\")"
   ]
  },
  {
   "cell_type": "code",
   "execution_count": null,
   "metadata": {},
   "outputs": [
    {
     "name": "stdout",
     "output_type": "stream",
     "text": [
      "\n",
      "      STES E&AE Parameter Estimated on SPY Returns using MLE: [-1.74420506 -0.0881549  -0.07851254],  \n",
      "      Out-of-Sample Mean Squared Error = 4.518936, \n",
      "      Out-of-Sample Neg Log-Likelihood = 1758.061537, \n",
      "      In-Sample Mean Squared Error = 5.010678,\n",
      "      In-Sample Neg Log-Likelihood = 3967.358026,\n",
      "\n"
     ]
    }
   ],
   "source": [
    "print(f\"\"\"\n",
    "      STES E&AE Parameter Estimated on SPY Returns using MLE: {np.mean([s[0] for s in stes_eae_spy_res], axis=0)},  \n",
    "      Out-of-Sample Mean Squared Error = {np.mean([s[1] for s in stes_eae_spy_res]):.6f}, \n",
    "      Out-of-Sample Neg Log-Likelihood = {np.mean([s[2] for s in stes_eae_spy_res]):.6f}, \n",
    "      In-Sample Mean Squared Error = {np.mean([s[5] for s in stes_eae_spy_res]):.6f},\n",
    "      In-Sample Neg Log-Likelihood = {np.mean([s[6] for s in stes_eae_spy_res]):.6f},\n",
    "\"\"\")"
   ]
  },
  {
   "cell_type": "code",
   "execution_count": null,
   "metadata": {},
   "outputs": [
    {
     "name": "stdout",
     "output_type": "stream",
     "text": [
      "\n",
      "      STES E&SE Parameter Estimated on SPY Returns using MLE: [-1.9648798  -0.03371338 -0.28462538],  \n",
      "      Out-of-Sample Mean Squared Error = 4.495169, \n",
      "      Out-of-Sample Neg Log-Likelihood = 1715.324391, \n",
      "      In-Sample Mean Squared Error = 4.987671,\n",
      "      In-Sample Neg Log-Likelihood = 3849.004265,\n",
      "\n"
     ]
    }
   ],
   "source": [
    "print(f\"\"\"\n",
    "      STES E&SE Parameter Estimated on SPY Returns using MLE: {np.mean([s[0] for s in stes_ese_spy_res], axis=0)},  \n",
    "      Out-of-Sample Mean Squared Error = {np.mean([s[1] for s in stes_ese_spy_res]):.6f}, \n",
    "      Out-of-Sample Neg Log-Likelihood = {np.mean([s[2] for s in stes_ese_spy_res]):.6f}, \n",
    "      In-Sample Mean Squared Error = {np.mean([s[5] for s in stes_ese_spy_res]):.6f},\n",
    "      In-Sample Neg Log-Likelihood = {np.mean([s[6] for s in stes_ese_spy_res]):.6f},\n",
    "\"\"\")"
   ]
  },
  {
   "cell_type": "code",
   "execution_count": null,
   "metadata": {},
   "outputs": [
    {
     "name": "stdout",
     "output_type": "stream",
     "text": [
      "\n",
      "      ES Parameter Estimated on SPY Returns using MLE: [-2.18338667],  \n",
      "      Out-of-Sample Mean Squared Error = 4.637673, \n",
      "      Out-of-Sample Neg Log-Likelihood = 1696.482945, \n",
      "      In-Sample Mean Squared Error = 5.056481,\n",
      "      In-Sample Neg Log-Likelihood = 3854.738697,\n",
      "\n"
     ]
    }
   ],
   "source": [
    "print(f\"\"\"\n",
    "      ES Parameter Estimated on SPY Returns using MLE: {np.mean([s[0] for s in es_spy_res], axis=0)},  \n",
    "      Out-of-Sample Mean Squared Error = {np.mean([s[1] for s in es_spy_res]):.6f}, \n",
    "      Out-of-Sample Neg Log-Likelihood = {np.mean([s[2] for s in es_spy_res]):.6f}, \n",
    "      In-Sample Mean Squared Error = {np.mean([s[5] for s in es_spy_res]):.6f},\n",
    "      In-Sample Neg Log-Likelihood = {np.mean([s[6] for s in es_spy_res]):.6f},\n",
    "\"\"\")"
   ]
  },
  {
   "cell_type": "markdown",
   "metadata": {},
   "source": [
    "### XGBoost-Based Exponential Smoothing Model, Code and Results in [Part 2](https://steveya.github.io/2024/07/12/volatility-forecast-2.html) of the Volatility Forecasting Series"
   ]
  },
  {
   "cell_type": "markdown",
   "metadata": {},
   "source": [
    "#### XGBoost-STES Implementation"
   ]
  },
  {
   "cell_type": "code",
   "execution_count": 210,
   "metadata": {},
   "outputs": [],
   "source": [
    "from sklearn.base import BaseEstimator, RegressorMixin"
   ]
  },
  {
   "cell_type": "code",
   "execution_count": 296,
   "metadata": {},
   "outputs": [],
   "source": [
    "class XGBoostExponentialSmoothing(BaseEstimator, RegressorMixin):\n",
    "    def __init__(self, **xgb_params):\n",
    "        self.xgb_params = xgb_params\n",
    "        self.model = None\n",
    "        \n",
    "    def stes_variance_objective(self, preds, dtrain):\n",
    "        labels = dtrain.get_label()\n",
    "        alphas = expit(preds)\n",
    "        \n",
    "        returns2 = self.data['returns^2'].to_numpy()\n",
    "        \n",
    "        grads = np.zeros_like(preds)\n",
    "        hesss = np.zeros_like(preds)\n",
    "        varhs = np.zeros_like(preds)\n",
    "\n",
    "        assert len(preds) == len(labels), \"Mismatch between lengths of preds, returns, and labels\"\n",
    "\n",
    "        for t in range(len(alphas)):\n",
    "            if t == 0:\n",
    "                lvar_f = np.mean(returns2[:500])\n",
    "                varhs[t] = alphas[t] * returns2[t] + (1 - alphas[t]) * lvar_f\n",
    "                d_alpha = returns2[t] - lvar_f\n",
    "            else:\n",
    "                varhs[t] = alphas[t] * returns2[t] + (1 - alphas[t]) * varhs[t-1]\n",
    "                d_alpha = returns2[t] - varhs[t-1]\n",
    "            \n",
    "            d_pred = -alphas[t] * (1 - alphas[t]) * d_alpha\n",
    "            grads[t] = 2 * (labels[t] - varhs[t]) * d_pred\n",
    "            hesss[t] = 2 * d_pred**2\n",
    "\n",
    "        return grads, hesss\n",
    "\n",
    "    def fit(self, X, y):\n",
    "        assert 'returns^2' in X, \"returns^2 must be in the features!\"\n",
    "        \n",
    "        self.data = X.copy()\n",
    "        dtrain = xgb.DMatrix(X, label=y)\n",
    "        \n",
    "        self.model = xgb.train(\n",
    "            self.xgb_params, dtrain, \n",
    "            obj=self.stes_variance_objective, \n",
    "            evals=[(dtrain, 'train')], verbose_eval=False\n",
    "        )\n",
    "\n",
    "        if self.model is None:\n",
    "            raise RuntimeError(\"Model training failed and no model was created.\")\n",
    "        \n",
    "        return self.model\n",
    "\n",
    "    def predict(self, X):\n",
    "        assert 'returns^2' in X, \"returns^2 must be in the features!\"\n",
    "\n",
    "        if self.model is None:\n",
    "            raise RuntimeError(\"You must train the model before predicting data!\")\n",
    "        \n",
    "        if \"label\" in X:\n",
    "            dtest = xgb.DMatrix(X.drop('label', axis=1))\n",
    "        else:\n",
    "            dtest = xgb.DMatrix(X)\n",
    "\n",
    "        preds = self.model.predict(dtest)\n",
    "        \n",
    "        return preds\n",
    "\n",
    "    def forecast_variance(self, X, burnin_size):\n",
    "        \"\"\"\n",
    "        This function generates predictions for the 1-step ahead variance\n",
    "        from the features time series. Since the variance is recursively \n",
    "        computed, X should be the full sample of features. Once computed,\n",
    "        one can take the slice of indices of interest (val_index for example)\n",
    "        to compute the metrics.\n",
    "\n",
    "        Args:\n",
    "            X (pd.DataFrame): The features time series.\n",
    "            burnin_size (int): The number of samples to use to initialize\n",
    "            the variance.\n",
    "\n",
    "        Returns:\n",
    "            np.ndarray: The 1-step ahead variance predictions.\n",
    "        \"\"\"\n",
    "        assert 'returns^2' in X, \"returns^2 must be in the features!\"\n",
    "\n",
    "        alphas = expit(self.predict(X))\n",
    "        \n",
    "        returns2 = X['returns^2'].to_numpy()\n",
    "        var_pred = np.zeros_like(alphas)\n",
    "        var_pred[:burnin_size] = np.mean(returns2[:burnin_size])\n",
    "        \n",
    "        for t in range(burnin_size, len(returns2)):\n",
    "            var_pred[t] = alphas[t] * returns2[t] + (1 - alphas[t]) * var_pred[t-1]\n",
    "        \n",
    "        return var_pred\n",
    "\n",
    "    # Scikit-learn interface\n",
    "    def get_params(self, deep=True):\n",
    "        \"\"\"\n",
    "        Return the parameters of the estimator.\n",
    "        \"\"\"\n",
    "        return self.xgb_params\n",
    "\n",
    "    def set_params(self, **params):\n",
    "        for key, value in params.items():\n",
    "            self.xgb_params[key] = value\n",
    "\n",
    "        return self\n"
   ]
  },
  {
   "cell_type": "code",
   "execution_count": 297,
   "metadata": {},
   "outputs": [],
   "source": [
    "xgb_params = {\n",
    "    'num_boost_round': 10,     # Number of boosting iterations\n",
    "    'max_depth': 3,            # Maximum depth of the tree\n",
    "    'learning_rate': 0.1,      # Learning rate\n",
    "    'colsample_bytree': 0.8,   # Column subsampling at tree level\n",
    "    'colsample_bylevel': 0.8,  # Column subsampling at level level\n",
    "    'colsample_bynode': 0.8,   # Column subsampling at node level\n",
    "    'reg_lambda': 1.0,         # L2 regularization\n",
    "    'random_state': 42,        # Seed for reproducibility\n",
    "}"
   ]
  },
  {
   "cell_type": "markdown",
   "metadata": {},
   "source": [
    "#### XGBoost-STES and ES Performance on Simulated Contaminated GARCH Data\n",
    "Again, we test how XGBoost-Based Exponential Smoothing Model (untuned) perform against the simple ES model on simulated contaminated GARCH data. Previously, I did not find STES outperforming ES on this data, and I actually do not expect either STES or XGBoost to outperform ES, given that the groudtruth is a constant parameter GARCH with some added outliers."
   ]
  },
  {
   "cell_type": "code",
   "execution_count": 298,
   "metadata": {},
   "outputs": [],
   "source": [
    "import warnings\n",
    "warnings.simplefilter(\"error\")"
   ]
  },
  {
   "cell_type": "code",
   "execution_count": 299,
   "metadata": {},
   "outputs": [],
   "source": [
    "xgb_stes_is_rmses = []\n",
    "es_is_rmses = []\n",
    "\n",
    "xgb_stes_os_rmses = []\n",
    "es_os_rmses = []\n",
    "\n",
    "num_runs = 1000\n",
    "np.random.seed(0)\n",
    "rand_seeds = np.random.randint(0, 1e6, size=num_runs)\n",
    "for i in range(num_runs):\n",
    "    np.random.seed(rand_seeds[i])\n",
    "    \n",
    "    simulated_garch_return, simulated_garch_var = simulate_contaminated_garch(\n",
    "        n=2500, mu=0, omega=0.02, alpha=0.11, beta=0.87, eta=4\n",
    "    )\n",
    "    simulated_garch_feature_matrix = pd.DataFrame.from_dict({\n",
    "        'returns': simulated_garch_return[:-1],\n",
    "        'abs(returns)': np.abs(simulated_garch_return[:-1]),\n",
    "        'returns^2': simulated_garch_return[:-1]**2,\n",
    "        'label': simulated_garch_return[1:]**2,\n",
    "    })\n",
    "    \n",
    "    xgb_params_iter = xgb_params.copy()\n",
    "    xgb_stes_model = XGBoostExponentialSmoothing(**xgb_params_iter)\n",
    "    xgb_stes_model.fit(\n",
    "        simulated_garch_feature_matrix.iloc[500:2000, :-1], \n",
    "        simulated_garch_feature_matrix.iloc[500:2000, -1]\n",
    "    )\n",
    "\n",
    "    xgb_stes_predicted_garch_var_fs = xgb_stes_model.forecast_variance(\n",
    "        simulated_garch_feature_matrix.iloc[:, :-1], burnin_size=500\n",
    "    )\n",
    "    is_xgb_stes_rmse = np.sqrt(\n",
    "        np.mean((\n",
    "            xgb_stes_predicted_garch_var_fs[500:2000] - \n",
    "            simulated_garch_feature_matrix.iloc[500:2000, -1]\n",
    "        )**2)\n",
    "    )\n",
    "    os_xgb_stes_rmse = np.sqrt(\n",
    "        np.mean((\n",
    "            xgb_stes_predicted_garch_var_fs[-500:] - \n",
    "            simulated_garch_feature_matrix.iloc[-500:, -1]\n",
    "        )**2)\n",
    "    )\n",
    "\n",
    "    _, os_es_rmse, _, _, _, is_es_rmse, _ = fit_es_least_square(\n",
    "        returns=simulated_garch_return\n",
    "    )\n",
    "\n",
    "    xgb_stes_is_rmses.append(is_xgb_stes_rmse)\n",
    "    es_is_rmses.append(is_es_rmse)\n",
    "\n",
    "    xgb_stes_os_rmses.append(os_xgb_stes_rmse)\n",
    "    es_os_rmses.append(os_es_rmse)\n"
   ]
  },
  {
   "cell_type": "code",
   "execution_count": 302,
   "metadata": {},
   "outputs": [
    {
     "data": {
      "image/png": "[encoded data removed]",
      "text/plain": [
       "<Figure size 640x480 with 1 Axes>"
      ]
     },
     "metadata": {},
     "output_type": "display_data"
    },
    {
     "name": "stdout",
     "output_type": "stream",
     "text": [
      "Average RMSE of the XGBoost-STES model on the test set is 2.9953074686499144\n",
      "Average RMSE of the ES model on the test set is 2.8521640302629376\n"
     ]
    }
   ],
   "source": [
    "plt.hist(xgb_stes_os_rmses, bins=50, alpha=0.5, label='XGBoost-STES')\n",
    "plt.hist(es_os_rmses, bins=50, alpha=0.5, label='ES')\n",
    "\n",
    "plt.legend()\n",
    "plt.show()\n",
    "\n",
    "print(f\"Average RMSE of the XGBoost-STES model on the test set is {np.mean(xgb_stes_os_rmses)}\")\n",
    "print(f\"Average RMSE of the ES model on the test set is {np.mean(es_os_rmses)}\")\n"
   ]
  },
  {
   "cell_type": "code",
   "execution_count": 303,
   "metadata": {},
   "outputs": [
    {
     "data": {
      "image/png": "[encoded data removed]",
      "text/plain": [
       "<Figure size 640x480 with 1 Axes>"
      ]
     },
     "metadata": {},
     "output_type": "display_data"
    },
    {
     "name": "stdout",
     "output_type": "stream",
     "text": [
      "Average RMSE of the XGBoost-STES model on the train set is 3.1892718469428547\n",
      "Average RMSE of the ES model on the train setis 3.12996515517658\n"
     ]
    }
   ],
   "source": [
    "plt.hist(xgb_stes_is_rmses, bins=50, alpha=0.5, label='XGBoost-STES')\n",
    "plt.hist(es_is_rmses, bins=50, alpha=0.5, label='ES')\n",
    "\n",
    "plt.legend()\n",
    "plt.show()\n",
    "\n",
    "print(f\"Average RMSE of the XGBoost-STES model on the train set is {np.mean(xgb_stes_is_rmses)}\")\n",
    "print(f\"Average RMSE of the ES model on the train setis {np.mean(es_is_rmses)}\")\n"
   ]
  },
  {
   "cell_type": "markdown",
   "metadata": {},
   "source": [
    "On the simulated data, without tuning, the XGBoostExponentialSmoothing model has a higher RMSE than the exponential smoothing model. This actually does not surprise me, as the ground truth is primarily driven by a GARCH(1,1) model with constant parameters, which the constant ES model is better at capturing."
   ]
  },
  {
   "cell_type": "markdown",
   "metadata": {},
   "source": [
    "#### XGBoost-STES and ES Performance on SPY Data\n",
    "Now we test the XGBoost-STES model on SPY variance forecasts versus the ES model. Previously, we did not tune the XGBoost-STES model on the simulated GARCH data. For this analysis on real market data, I test both the tuned and untuned version of the XGBoost-STES model. The results are shown in Table 2. Train sample: 2000-01-01 - 2015-11-26, Test sample: 2015-11-27 - 2023-12-31."
   ]
  },
  {
   "cell_type": "code",
   "execution_count": 194,
   "metadata": {},
   "outputs": [],
   "source": [
    "spy_feature_matrix = pd.DataFrame.from_dict({\n",
    "    'returns': spy_log_returns.to_numpy()[:-1],\n",
    "    'abs(returns)': np.abs(spy_log_returns.to_numpy()[:-1]),\n",
    "    'returns^2': spy_log_returns.to_numpy()[:-1]**2,\n",
    "    'label': spy_log_returns.to_numpy()[1:]**2,\n",
    "})"
   ]
  },
  {
   "cell_type": "code",
   "execution_count": 195,
   "metadata": {},
   "outputs": [],
   "source": [
    "X_train = spy_feature_matrix.iloc[:4000, :-1]\n",
    "y_train = spy_feature_matrix.iloc[:4000:, -1] \n",
    "X_test = spy_feature_matrix.iloc[4000:, :-1]\n",
    "y_test = spy_feature_matrix.iloc[4000:, -1]\n"
   ]
  },
  {
   "cell_type": "markdown",
   "metadata": {},
   "source": [
    "##### Out-of-the-Box XGBoost-STES Forecast on SPY Realized Variance\n",
    "Fit and calculate the RMSE of an Untuned XGBoost-based exponential smoothing model on SPY returns."
   ]
  },
  {
   "cell_type": "code",
   "execution_count": null,
   "metadata": {},
   "outputs": [
    {
     "name": "stdout",
     "output_type": "stream",
     "text": [
      "5.01551322667555 4.4194610714382145\n"
     ]
    }
   ],
   "source": [
    "xgb_stes_spy_model_untuned = XGBoostExponentialSmoothing(\n",
    "    **xgb_params)\n",
    "xgb_stes_spy_model_untuned.fit(X_train, y_train)\n",
    "xgb_stes_spy_model_untuned_pred = xgb_stes_spy_model_untuned.forecast_variance(\n",
    "    spy_feature_matrix, burnin_size=10\n",
    ")\n",
    "os_xgb_stes_spy_untuned_rmse = np.sqrt(\n",
    "    np.mean(\n",
    "        (xgb_stes_spy_model_untuned_pred[4000:] - y_test.to_numpy())**2\n",
    "    )\n",
    ")\n",
    "is_xgb_stes_spy_untuned_rmse = np.sqrt(\n",
    "    np.mean(\n",
    "        (xgb_stes_spy_model_untuned_pred[10:4000] - y_train.to_numpy()[10:])**2\n",
    "    )\n",
    ")\n",
    "print('XGBoost-STES SPY Untuned RMSE:', os_xgb_stes_spy_untuned_rmse)\n",
    "print(is_xgb_stes_spy_untuned_rmse, os_xgb_stes_spy_untuned_rmse)"
   ]
  },
  {
   "cell_type": "markdown",
   "metadata": {},
   "source": [
    "##### XGBoost-STES (Tuned using RandomizedSearchCV) Forecast on SPY Realized Variance"
   ]
  },
  {
   "cell_type": "code",
   "execution_count": 209,
   "metadata": {},
   "outputs": [],
   "source": [
    "\n",
    "def xgb_stes_scoring_function(y_true, y_pred, starting_index=0):\n",
    "    \"\"\"\n",
    "    Calculates the RMSE of the predicted variance against \n",
    "    the true 1-day realized variance. The prediction from \n",
    "    the XGBoost model needs to go through sigmoid first \n",
    "    to be transformed into alpha, which is then used to \n",
    "    recursively compute the 1-day ahead variance forecast.\n",
    "\n",
    "    Arguments\n",
    "    ---------\n",
    "    y_true : numpy.ndarray\n",
    "        The squared returns of the return time series.\n",
    "    y_pred : numpy.ndarray\n",
    "        The predicted values from XGBoost.\n",
    "\n",
    "    Returns\n",
    "    -------\n",
    "    mse : float\n",
    "        The mean squared error between the true and predicted variance.\n",
    "    \"\"\"\n",
    "    alphas = expit(y_pred)\n",
    "    var_pred = np.zeros_like(alphas)\n",
    "    y_true_np = y_true.to_numpy()\n",
    "    # y_true is 1-day squared returns.\n",
    "    var_pred[0] = y_true_np[0]  \n",
    "\n",
    "    for t in range(1, len(y_true)):\n",
    "        var_pred[t] = alphas[t] * y_true_np[t-1] + (1 - alphas[t]) * var_pred[t-1]\n",
    "\n",
    "    mse = np.mean((y_true_np - var_pred)[starting_index:] ** 2)\n",
    "    return -mse  # Negate the MSE because GridSearchCV maximizes the score\n"
   ]
  },
  {
   "cell_type": "code",
   "execution_count": 211,
   "metadata": {},
   "outputs": [],
   "source": [
    "from sklearn.model_selection import RandomizedSearchCV, TimeSeriesSplit\n",
    "from sklearn.metrics import make_scorer\n",
    "from scipy.stats import randint, uniform, loguniform"
   ]
  },
  {
   "cell_type": "code",
   "execution_count": 213,
   "metadata": {},
   "outputs": [],
   "source": [
    "\n",
    "def random_cv_tune_xgboost_model(X, y):\n",
    "    param_dist = {\n",
    "        'num_boost_round': [1, 5, 10, 20, 50, 100],\n",
    "        'max_depth': randint(1, 5),\n",
    "        'learning_rate': loguniform(0.01, 10),\n",
    "        #'ts_subsample': uniform(0.3, 0.3),\n",
    "        'reg_lambda': loguniform(0.1, 10.0),\n",
    "        'colsample_bytree': uniform(0.1, 0.6),\n",
    "        'colsample_bylevel': uniform(0.1, 0.6),\n",
    "        'colsample_bynode': uniform(0.1, 0.6),\n",
    "    }\n",
    "    \n",
    "    # Initialize the model\n",
    "    model = XGBoostExponentialSmoothing()\n",
    "    \n",
    "    tscv = TimeSeriesSplit(n_splits=3)\n",
    "    \n",
    "    # Use RandomizedSearchCV to find the best parameters\n",
    "    random_search = RandomizedSearchCV(\n",
    "        estimator=model,\n",
    "        param_distributions=param_dist,\n",
    "        scoring=make_scorer(xgb_stes_scoring_function),\n",
    "        cv=tscv,\n",
    "        n_iter=80,\n",
    "        verbose=1,\n",
    "        random_state=42,\n",
    "        error_score='raise',\n",
    "    )\n",
    "\n",
    "    random_search.fit(X, y)\n",
    "    \n",
    "    return random_search"
   ]
  },
  {
   "cell_type": "code",
   "execution_count": 214,
   "metadata": {},
   "outputs": [
    {
     "name": "stdout",
     "output_type": "stream",
     "text": [
      "Fitting 3 folds for each of 80 candidates, totalling 240 fits\n",
      "Best Parameters: {'colsample_bylevel': 0.3591670111852695, 'colsample_bynode': 0.27473748411882515, 'colsample_bytree': 0.46711173683342766, 'learning_rate': 0.02621087878265441, 'max_depth': 4, 'num_boost_round': 20, 'reg_lambda': 0.5404103854647329}\n"
     ]
    }
   ],
   "source": [
    "# Perform hyperparameter tuning\n",
    "xgb_stes_spy_tuner_rcv = random_cv_tune_xgboost_model(X_train, y_train)\n",
    "xgb_stes_spy_best_params_rcv = xgb_stes_spy_tuner_rcv.best_params_\n",
    "\n",
    "print(\"Best Parameters:\", xgb_stes_spy_best_params_rcv)\n"
   ]
  },
  {
   "cell_type": "code",
   "execution_count": 215,
   "metadata": {},
   "outputs": [
    {
     "data": {
      "text/html": [
       "<div>\n",
       "<style scoped>\n",
       "    .dataframe tbody tr th:only-of-type {\n",
       "        vertical-align: middle;\n",
       "    }\n",
       "\n",
       "    .dataframe tbody tr th {\n",
       "        vertical-align: top;\n",
       "    }\n",
       "\n",
       "    .dataframe thead th {\n",
       "        text-align: right;\n",
       "    }\n",
       "</style>\n",
       "<table border=\"1\" class=\"dataframe\">\n",
       "  <thead>\n",
       "    <tr style=\"text-align: right;\">\n",
       "      <th></th>\n",
       "      <th>params</th>\n",
       "      <th>mean_test_score</th>\n",
       "    </tr>\n",
       "  </thead>\n",
       "  <tbody>\n",
       "    <tr>\n",
       "      <th>28</th>\n",
       "      <td>{'colsample_bylevel': 0.2955753431211309, 'col...</td>\n",
       "      <td>-30.111501</td>\n",
       "    </tr>\n",
       "    <tr>\n",
       "      <th>49</th>\n",
       "      <td>{'colsample_bylevel': 0.3468123430340071, 'col...</td>\n",
       "      <td>-30.111501</td>\n",
       "    </tr>\n",
       "    <tr>\n",
       "      <th>67</th>\n",
       "      <td>{'colsample_bylevel': 0.6703642881625336, 'col...</td>\n",
       "      <td>-30.111501</td>\n",
       "    </tr>\n",
       "    <tr>\n",
       "      <th>20</th>\n",
       "      <td>{'colsample_bylevel': 0.3137787028461849, 'col...</td>\n",
       "      <td>-30.111501</td>\n",
       "    </tr>\n",
       "    <tr>\n",
       "      <th>61</th>\n",
       "      <td>{'colsample_bylevel': 0.331237972579339, 'cols...</td>\n",
       "      <td>-30.111501</td>\n",
       "    </tr>\n",
       "    <tr>\n",
       "      <th>...</th>\n",
       "      <td>...</td>\n",
       "      <td>...</td>\n",
       "    </tr>\n",
       "    <tr>\n",
       "      <th>24</th>\n",
       "      <td>{'colsample_bylevel': 0.260068608565171, 'cols...</td>\n",
       "      <td>-35.582677</td>\n",
       "    </tr>\n",
       "    <tr>\n",
       "      <th>62</th>\n",
       "      <td>{'colsample_bylevel': 0.30900196267191843, 'co...</td>\n",
       "      <td>-35.582677</td>\n",
       "    </tr>\n",
       "    <tr>\n",
       "      <th>44</th>\n",
       "      <td>{'colsample_bylevel': 0.35186851386776585, 'co...</td>\n",
       "      <td>-35.582677</td>\n",
       "    </tr>\n",
       "    <tr>\n",
       "      <th>60</th>\n",
       "      <td>{'colsample_bylevel': 0.14161678052509927, 'co...</td>\n",
       "      <td>-35.582677</td>\n",
       "    </tr>\n",
       "    <tr>\n",
       "      <th>22</th>\n",
       "      <td>{'colsample_bylevel': 0.24647531334866452, 'co...</td>\n",
       "      <td>-35.582677</td>\n",
       "    </tr>\n",
       "  </tbody>\n",
       "</table>\n",
       "<p>80 rows × 2 columns</p>\n",
       "</div>"
      ],
      "text/plain": [
       "                                               params  mean_test_score\n",
       "28  {'colsample_bylevel': 0.2955753431211309, 'col...       -30.111501\n",
       "49  {'colsample_bylevel': 0.3468123430340071, 'col...       -30.111501\n",
       "67  {'colsample_bylevel': 0.6703642881625336, 'col...       -30.111501\n",
       "20  {'colsample_bylevel': 0.3137787028461849, 'col...       -30.111501\n",
       "61  {'colsample_bylevel': 0.331237972579339, 'cols...       -30.111501\n",
       "..                                                ...              ...\n",
       "24  {'colsample_bylevel': 0.260068608565171, 'cols...       -35.582677\n",
       "62  {'colsample_bylevel': 0.30900196267191843, 'co...       -35.582677\n",
       "44  {'colsample_bylevel': 0.35186851386776585, 'co...       -35.582677\n",
       "60  {'colsample_bylevel': 0.14161678052509927, 'co...       -35.582677\n",
       "22  {'colsample_bylevel': 0.24647531334866452, 'co...       -35.582677\n",
       "\n",
       "[80 rows x 2 columns]"
      ]
     },
     "execution_count": 215,
     "metadata": {},
     "output_type": "execute_result"
    }
   ],
   "source": [
    "pd.DataFrame(xgb_stes_spy_tuner_rcv.cv_results_)[['params','mean_test_score']].sort_values('mean_test_score', ascending=False)"
   ]
  },
  {
   "cell_type": "code",
   "execution_count": 216,
   "metadata": {},
   "outputs": [
    {
     "data": {
      "text/plain": [
       "{'max_depth': 4,\n",
       " 'learning_rate': 0.02621087878265441,\n",
       " 'colsample_bytree': 0.46711173683342766,\n",
       " 'colsample_bylevel': 0.3591670111852695,\n",
       " 'colsample_bynode': 0.27473748411882515,\n",
       " 'reg_lambda': 0.5404103854647329,\n",
       " 'random_state': 42,\n",
       " 'num_boost_round': 20}"
      ]
     },
     "execution_count": 216,
     "metadata": {},
     "output_type": "execute_result"
    }
   ],
   "source": [
    "xgb_params_rcv_tuned = xgb_params | xgb_stes_spy_best_params_rcv  #xgb_params | xgb_stes_spy_best_params\n",
    "xgb_params_rcv_tuned"
   ]
  },
  {
   "cell_type": "code",
   "execution_count": 217,
   "metadata": {},
   "outputs": [
    {
     "data": {
      "text/plain": [
       "(4.428388206980347, 5.201166237381078)"
      ]
     },
     "execution_count": 217,
     "metadata": {},
     "output_type": "execute_result"
    }
   ],
   "source": [
    "xgb_stes_spy_model_tuned = XGBoostExponentialSmoothing(**xgb_params_rcv_tuned)\n",
    "xgb_stes_spy_model_tuned.fit(X_train, y_train)\n",
    "xgb_stes_spy_model_tuned_pred = xgb_stes_spy_model_tuned.forecast_variance(\n",
    "    spy_feature_matrix, burnin_size=10\n",
    ")\n",
    "os_xgb_stes_spy_tuned_rmse = np.sqrt(np.mean((xgb_stes_spy_model_tuned_pred[4000:] - y_test.to_numpy())**2))\n",
    "os_xgb_stes_spy_tuned_rmse\n",
    "\n",
    "is_xgb_stes_spy_tuned_rmse = np.sqrt(np.mean((xgb_stes_spy_model_tuned_pred[10:4000] - y_train.to_numpy()[10:])**2))\n",
    "os_xgb_stes_spy_tuned_rmse, is_xgb_stes_spy_tuned_rmse\n"
   ]
  },
  {
   "cell_type": "markdown",
   "metadata": {},
   "source": [
    "Let's plot the alpha time series."
   ]
  },
  {
   "cell_type": "code",
   "execution_count": 222,
   "metadata": {},
   "outputs": [
    {
     "data": {
      "text/plain": [
       "Text(0.5, 1.0, 'XGBoost-STES Tuned Alpha')"
      ]
     },
     "execution_count": 222,
     "metadata": {},
     "output_type": "execute_result"
    },
    {
     "data": {
      "image/png": "[encoded data removed]",
      "text/plain": [
       "<Figure size 640x480 with 1 Axes>"
      ]
     },
     "metadata": {},
     "output_type": "display_data"
    }
   ],
   "source": [
    "xgb_stes_spy_model_tuned_alpha = expit(xgb_stes_spy_model_tuned.predict(spy_feature_matrix))\n",
    "plt.plot(xgb_stes_spy_model_tuned_alpha)\n",
    "plt.title('XGBoost-STES Tuned Alpha');"
   ]
  },
  {
   "cell_type": "markdown",
   "metadata": {},
   "source": [
    "##### XGBoost-STES (Tuned using Optuna) Forecast on SPY Realized Variance"
   ]
  },
  {
   "cell_type": "code",
   "execution_count": 293,
   "metadata": {},
   "outputs": [],
   "source": [
    "\n",
    "import optuna\n",
    "\n",
    "def xgb_stes_optuna_objective(trial):\n",
    "    param = {\n",
    "        \"verbosity\": 0,\n",
    "        \"num_boost_round\": trial.suggest_int(\"num_boost_round\", 1, 20),\n",
    "        \"reg_lambda\": trial.suggest_float(\"reg_lambda\", 1e-1, 10.0, log=True),\n",
    "        \"learning_rate\": trial.suggest_float(\"learning_rate\", 1e-2, 10.0, log=True),\n",
    "        \"colsample_bytree\": trial.suggest_float(\"colsample_bytree\", 0.3, 0.6),\n",
    "        \"colsample_bylevel\": trial.suggest_float(\"colsample_bylevel\", 0.3, 0.6),\n",
    "        \"colsample_bynode\": trial.suggest_float(\"colsample_bylevel\", 0.3, 0.6),\n",
    "    }\n",
    "\n",
    "    xgb_stes_model = XGBoostExponentialSmoothing(**param)\n",
    "    tscv = TimeSeriesSplit(n_splits=3)\n",
    "\n",
    "    rmses = []\n",
    "    for _, (train_idx, valid_idx) in enumerate(tscv.split(\n",
    "        X_train,\n",
    "        y_train,\n",
    "    )):\n",
    "        xgb_stes_model.fit(X_train.iloc[train_idx, :], y_train.iloc[train_idx])\n",
    "        preds = xgb_stes_model.forecast_variance(X_train, burnin_size=10)\n",
    "        score = xgb_stes_scoring_function(y_train.iloc[:valid_idx[-1]], preds[:valid_idx[-1]], valid_idx[0])\n",
    "        rmses.append(score)\n",
    "    return np.mean(rmses)\n",
    "\n"
   ]
  },
  {
   "cell_type": "code",
   "execution_count": 294,
   "metadata": {},
   "outputs": [],
   "source": [
    "from optuna.samplers import TPESampler\n",
    "sampler = TPESampler(seed = 0)"
   ]
  },
  {
   "cell_type": "code",
   "execution_count": 295,
   "metadata": {},
   "outputs": [
    {
     "name": "stderr",
     "output_type": "stream",
     "text": [
      "[I 2024-07-25 10:51:41,606] A new study created in memory with name: no-name-4ce208a7-292a-4b6a-bcd5-80d72876c9ad\n",
      "[I 2024-07-25 10:51:42,029] Trial 0 finished with value: -60.08919158682274 and parameters: {'num_boost_round': 11, 'reg_lambda': 2.693883019285411, 'learning_rate': 0.6431172050131994, 'colsample_bytree': 0.463464954899069, 'colsample_bylevel': 0.4270964398016714}. Best is trial 0 with value: -60.08919158682274.\n",
      "[I 2024-07-25 10:51:42,505] Trial 1 finished with value: -51.23637480166976 and parameters: {'num_boost_round': 13, 'reg_lambda': 0.7501954443620121, 'learning_rate': 4.734989304499476, 'colsample_bytree': 0.5890988281503088, 'colsample_bylevel': 0.4150324556477333}. Best is trial 1 with value: -51.23637480166976.\n",
      "[I 2024-07-25 10:51:43,092] Trial 2 finished with value: -60.18369956481593 and parameters: {'num_boost_round': 16, 'reg_lambda': 1.1423254155608376, 'learning_rate': 0.5059803874660431, 'colsample_bytree': 0.5776789914877983, 'colsample_bylevel': 0.32131081745936607}. Best is trial 1 with value: -51.23637480166976.\n",
      "[I 2024-07-25 10:51:43,208] Trial 3 finished with value: -60.59516129781597 and parameters: {'num_boost_round': 2, 'reg_lambda': 0.10975815419380158, 'learning_rate': 3.146730406166005, 'colsample_bytree': 0.5334470252849551, 'colsample_bylevel': 0.5610036444740457}. Best is trial 1 with value: -51.23637480166976.\n",
      "[I 2024-07-25 10:51:43,923] Trial 4 finished with value: -60.27386316251295 and parameters: {'num_boost_round': 20, 'reg_lambda': 3.9656750817710114, 'learning_rate': 0.24234724484675937, 'colsample_bytree': 0.5341587528859366, 'colsample_bylevel': 0.33548232776067993}. Best is trial 1 with value: -51.23637480166976.\n",
      "[I 2024-07-25 10:51:44,368] Trial 5 finished with value: -39.11316232054889 and parameters: {'num_boost_round': 13, 'reg_lambda': 0.1935114088559527, 'learning_rate': 6.823493012435788, 'colsample_bytree': 0.4565544965250215, 'colsample_bylevel': 0.4243985819971571}. Best is trial 5 with value: -39.11316232054889.\n",
      "[I 2024-07-25 10:51:44,615] Trial 6 finished with value: -60.641238835541316 and parameters: {'num_boost_round': 6, 'reg_lambda': 3.535634629148813, 'learning_rate': 0.2335882519483356, 'colsample_bytree': 0.47053018466059454, 'colsample_bylevel': 0.30563694013090653}. Best is trial 5 with value: -39.11316232054889.\n",
      "[I 2024-07-25 10:51:45,097] Trial 7 finished with value: -59.965978443726534 and parameters: {'num_boost_round': 13, 'reg_lambda': 1.6756813861488495, 'learning_rate': 0.7092543214735831, 'colsample_bytree': 0.5831244235543872, 'colsample_bylevel': 0.504546089731045}. Best is trial 5 with value: -39.11316232054889.\n",
      "[I 2024-07-25 10:51:45,411] Trial 8 finished with value: -59.37767174225839 and parameters: {'num_boost_round': 8, 'reg_lambda': 0.7482796037620797, 'learning_rate': 1.23849308982564, 'colsample_bytree': 0.3180676414887809, 'colsample_bylevel': 0.5000300146337003}. Best is trial 5 with value: -39.11316232054889.\n",
      "[I 2024-07-25 10:51:45,993] Trial 9 finished with value: -60.875038378080774 and parameters: {'num_boost_round': 14, 'reg_lambda': 0.2634905974115613, 'learning_rate': 0.024365700014641997, 'colsample_bytree': 0.3946285052772551, 'colsample_bylevel': 0.40911323128278676}. Best is trial 5 with value: -39.11316232054889.\n",
      "[I 2024-07-25 10:51:46,684] Trial 10 finished with value: -60.88746554901824 and parameters: {'num_boost_round': 19, 'reg_lambda': 0.22424463263210936, 'learning_rate': 0.01154267597361745, 'colsample_bytree': 0.39364272729324257, 'colsample_bylevel': 0.36927391321472974}. Best is trial 5 with value: -39.11316232054889.\n",
      "[I 2024-07-25 10:51:47,021] Trial 11 finished with value: -50.009529214392224 and parameters: {'num_boost_round': 9, 'reg_lambda': 0.5349562706464672, 'learning_rate': 8.996334968390238, 'colsample_bytree': 0.40506542889040276, 'colsample_bylevel': 0.4719061456075075}. Best is trial 5 with value: -39.11316232054889.\n",
      "[I 2024-07-25 10:51:47,331] Trial 12 finished with value: -48.65673995547281 and parameters: {'num_boost_round': 8, 'reg_lambda': 9.07766754368782, 'learning_rate': 9.945911393063673, 'colsample_bytree': 0.4004674242381521, 'colsample_bylevel': 0.479434058740563}. Best is trial 5 with value: -39.11316232054889.\n",
      "[I 2024-07-25 10:51:47,563] Trial 13 finished with value: -59.24931839493385 and parameters: {'num_boost_round': 5, 'reg_lambda': 8.869010698031431, 'learning_rate': 2.815338372076351, 'colsample_bytree': 0.33604677640610986, 'colsample_bylevel': 0.564891254335516}. Best is trial 5 with value: -39.11316232054889.\n",
      "[I 2024-07-25 10:51:47,661] Trial 14 finished with value: -53.01380257398622 and parameters: {'num_boost_round': 1, 'reg_lambda': 8.581355476302905, 'learning_rate': 9.315715829864581, 'colsample_bytree': 0.43233077213437876, 'colsample_bylevel': 0.469667293213355}. Best is trial 5 with value: -39.11316232054889.\n",
      "[I 2024-07-25 10:51:48,259] Trial 15 finished with value: -60.72384415074419 and parameters: {'num_boost_round': 16, 'reg_lambda': 0.111223870603703, 'learning_rate': 0.0685621527271268, 'colsample_bytree': 0.35882463338406845, 'colsample_bylevel': 0.37292083087851047}. Best is trial 5 with value: -39.11316232054889.\n",
      "[I 2024-07-25 10:51:48,488] Trial 16 finished with value: -58.76707062010353 and parameters: {'num_boost_round': 5, 'reg_lambda': 0.38442500061477314, 'learning_rate': 1.7759954667876852, 'colsample_bytree': 0.4970879929699727, 'colsample_bylevel': 0.5301458494794783}. Best is trial 5 with value: -39.11316232054889.\n",
      "[I 2024-07-25 10:51:48,862] Trial 17 finished with value: -58.907036097605506 and parameters: {'num_boost_round': 10, 'reg_lambda': 0.22207676353603523, 'learning_rate': 5.190882243624264, 'colsample_bytree': 0.42758025563527347, 'colsample_bylevel': 0.4492313559740168}. Best is trial 5 with value: -39.11316232054889.\n",
      "[I 2024-07-25 10:51:49,172] Trial 18 finished with value: -59.85409694296731 and parameters: {'num_boost_round': 7, 'reg_lambda': 1.7501166640977175, 'learning_rate': 1.5897166992852618, 'colsample_bytree': 0.3639229877332444, 'colsample_bylevel': 0.5941109823975095}. Best is trial 5 with value: -39.11316232054889.\n",
      "[I 2024-07-25 10:51:49,575] Trial 19 finished with value: -56.196094608289854 and parameters: {'num_boost_round': 11, 'reg_lambda': 4.933003120535488, 'learning_rate': 9.578620069154427, 'colsample_bytree': 0.3003760608278366, 'colsample_bylevel': 0.3781230148380798}. Best is trial 5 with value: -39.11316232054889.\n",
      "[I 2024-07-25 10:51:49,740] Trial 20 finished with value: -60.879767145938125 and parameters: {'num_boost_round': 3, 'reg_lambda': 6.051573892196859, 'learning_rate': 0.09116543510882445, 'colsample_bytree': 0.4923502653454971, 'colsample_bylevel': 0.4481956888529367}. Best is trial 5 with value: -39.11316232054889.\n",
      "[I 2024-07-25 10:51:50,092] Trial 21 finished with value: -51.90162814613215 and parameters: {'num_boost_round': 9, 'reg_lambda': 0.43796376848047147, 'learning_rate': 6.548668196582911, 'colsample_bytree': 0.4035937795155249, 'colsample_bylevel': 0.48246605923381053}. Best is trial 5 with value: -39.11316232054889.\n",
      "[I 2024-07-25 10:51:50,459] Trial 22 finished with value: -59.40678734337266 and parameters: {'num_boost_round': 9, 'reg_lambda': 0.4011090418445827, 'learning_rate': 3.349368682849235, 'colsample_bytree': 0.4242530284089212, 'colsample_bylevel': 0.519175146409272}. Best is trial 5 with value: -39.11316232054889.\n",
      "[I 2024-07-25 10:51:50,881] Trial 23 finished with value: -60.28459695797094 and parameters: {'num_boost_round': 12, 'reg_lambda': 0.15508172199402045, 'learning_rate': 9.731005314854565, 'colsample_bytree': 0.37512879043015096, 'colsample_bylevel': 0.4693424858616085}. Best is trial 5 with value: -39.11316232054889.\n",
      "[I 2024-07-25 10:51:51,448] Trial 24 finished with value: -57.3474192097004 and parameters: {'num_boost_round': 15, 'reg_lambda': 0.5884814293317562, 'learning_rate': 2.484072828496586, 'colsample_bytree': 0.4517928435074042, 'colsample_bylevel': 0.43415559119244523}. Best is trial 5 with value: -39.11316232054889.\n",
      "[I 2024-07-25 10:51:51,782] Trial 25 finished with value: -55.385441897851905 and parameters: {'num_boost_round': 8, 'reg_lambda': 1.1722348561321447, 'learning_rate': 4.7761689797413736, 'colsample_bytree': 0.4131096080301704, 'colsample_bylevel': 0.394605819916466}. Best is trial 5 with value: -39.11316232054889.\n",
      "[I 2024-07-25 10:51:52,462] Trial 26 finished with value: -60.103174376735545 and parameters: {'num_boost_round': 17, 'reg_lambda': 0.3233596257847822, 'learning_rate': 1.1651306554362901, 'colsample_bytree': 0.4777137445366982, 'colsample_bylevel': 0.48365661707404556}. Best is trial 5 with value: -39.11316232054889.\n",
      "[I 2024-07-25 10:51:52,653] Trial 27 finished with value: -54.601709122844056 and parameters: {'num_boost_round': 4, 'reg_lambda': 0.16193243364781332, 'learning_rate': 5.414992709239087, 'colsample_bytree': 0.44862488207036333, 'colsample_bylevel': 0.5455183664746015}. Best is trial 5 with value: -39.11316232054889.\n",
      "[I 2024-07-25 10:51:53,047] Trial 28 finished with value: -55.95470286149032 and parameters: {'num_boost_round': 10, 'reg_lambda': 1.9863116973095007, 'learning_rate': 2.2672327058695765, 'colsample_bytree': 0.5025586289845144, 'colsample_bylevel': 0.46378965425453283}. Best is trial 5 with value: -39.11316232054889.\n",
      "[I 2024-07-25 10:51:53,510] Trial 29 finished with value: -59.96590529775497 and parameters: {'num_boost_round': 12, 'reg_lambda': 2.447400607698712, 'learning_rate': 0.772584390007695, 'colsample_bytree': 0.3469542310198413, 'colsample_bylevel': 0.43231168247259955}. Best is trial 5 with value: -39.11316232054889.\n",
      "[I 2024-07-25 10:51:53,797] Trial 30 finished with value: -52.24058836252352 and parameters: {'num_boost_round': 7, 'reg_lambda': 0.7981767166692249, 'learning_rate': 6.371053202568191, 'colsample_bytree': 0.3863218029771244, 'colsample_bylevel': 0.49756055379966363}. Best is trial 5 with value: -39.11316232054889.\n",
      "[I 2024-07-25 10:51:54,263] Trial 31 finished with value: -39.755151544742205 and parameters: {'num_boost_round': 12, 'reg_lambda': 0.5057629305729952, 'learning_rate': 4.0809008189809735, 'colsample_bytree': 0.5568514381707048, 'colsample_bylevel': 0.4252300342586423}. Best is trial 5 with value: -39.11316232054889.\n",
      "[I 2024-07-25 10:51:54,711] Trial 32 finished with value: -53.69590917491868 and parameters: {'num_boost_round': 12, 'reg_lambda': 0.5247202745276114, 'learning_rate': 3.935251178131232, 'colsample_bytree': 0.5541870981577905, 'colsample_bylevel': 0.4168719650382996}. Best is trial 5 with value: -39.11316232054889.\n",
      "[I 2024-07-25 10:51:55,202] Trial 33 finished with value: -56.52572148404789 and parameters: {'num_boost_round': 14, 'reg_lambda': 0.9682195564048104, 'learning_rate': 7.88660502848555, 'colsample_bytree': 0.5209395277906613, 'colsample_bylevel': 0.3936986704027116}. Best is trial 5 with value: -39.11316232054889.\n",
      "[I 2024-07-25 10:51:55,585] Trial 34 finished with value: -60.12765385025133 and parameters: {'num_boost_round': 10, 'reg_lambda': 0.5469708176556641, 'learning_rate': 4.000548666844984, 'colsample_bytree': 0.5602259066481469, 'colsample_bylevel': 0.34840964012249287}. Best is trial 5 with value: -39.11316232054889.\n",
      "[I 2024-07-25 10:51:56,053] Trial 35 finished with value: -51.00698345655198 and parameters: {'num_boost_round': 13, 'reg_lambda': 1.1557119656092445, 'learning_rate': 6.178095478710753, 'colsample_bytree': 0.45073587430424455, 'colsample_bylevel': 0.43988397058478373}. Best is trial 5 with value: -39.11316232054889.\n",
      "[I 2024-07-25 10:51:56,474] Trial 36 finished with value: -50.656738957137975 and parameters: {'num_boost_round': 11, 'reg_lambda': 0.3054105383483556, 'learning_rate': 3.713998016403069, 'colsample_bytree': 0.5986271720560233, 'colsample_bylevel': 0.4580937865505778}. Best is trial 5 with value: -39.11316232054889.\n",
      "[I 2024-07-25 10:51:56,838] Trial 37 finished with value: -60.26409424739302 and parameters: {'num_boost_round': 9, 'reg_lambda': 0.17721093218956716, 'learning_rate': 0.3707670075938153, 'colsample_bytree': 0.4134853374250629, 'colsample_bylevel': 0.420680158572903}. Best is trial 5 with value: -39.11316232054889.\n",
      "[I 2024-07-25 10:51:57,480] Trial 38 finished with value: -51.7393342749674 and parameters: {'num_boost_round': 18, 'reg_lambda': 0.6954009966159725, 'learning_rate': 2.1826486274991916, 'colsample_bytree': 0.5188934818149763, 'colsample_bylevel': 0.5188240116112409}. Best is trial 5 with value: -39.11316232054889.\n",
      "[I 2024-07-25 10:51:58,001] Trial 39 finished with value: -60.43302280782583 and parameters: {'num_boost_round': 14, 'reg_lambda': 0.12300854366341328, 'learning_rate': 0.14700301774281485, 'colsample_bytree': 0.5625184934377337, 'colsample_bylevel': 0.4009447347298951}. Best is trial 5 with value: -39.11316232054889.\n",
      "[I 2024-07-25 10:51:58,294] Trial 40 finished with value: -59.998276444416206 and parameters: {'num_boost_round': 7, 'reg_lambda': 0.9036720604042857, 'learning_rate': 1.0782519128474306, 'colsample_bytree': 0.3781628674117714, 'colsample_bylevel': 0.4817084941011529}. Best is trial 5 with value: -39.11316232054889.\n",
      "[I 2024-07-25 10:51:58,741] Trial 41 finished with value: -58.70057714651468 and parameters: {'num_boost_round': 12, 'reg_lambda': 0.3078613816515878, 'learning_rate': 3.196177629129491, 'colsample_bytree': 0.5965172367965395, 'colsample_bylevel': 0.4622039447023424}. Best is trial 5 with value: -39.11316232054889.\n",
      "[I 2024-07-25 10:51:59,051] Trial 42 finished with value: -60.81113756863564 and parameters: {'num_boost_round': 8, 'reg_lambda': 0.2236570900114359, 'learning_rate': 6.65697047567618, 'colsample_bytree': 0.5993330655238245, 'colsample_bylevel': 0.45143170392401855}. Best is trial 5 with value: -39.11316232054889.\n",
      "[I 2024-07-25 10:51:59,461] Trial 43 finished with value: -58.18727490559615 and parameters: {'num_boost_round': 11, 'reg_lambda': 0.29651116352208384, 'learning_rate': 4.487146328534752, 'colsample_bytree': 0.5765424476697709, 'colsample_bylevel': 0.4249564949237018}. Best is trial 5 with value: -39.11316232054889.\n",
      "[I 2024-07-25 10:51:59,859] Trial 44 finished with value: -58.90047421879614 and parameters: {'num_boost_round': 11, 'reg_lambda': 0.4590059671149593, 'learning_rate': 7.712933873323206, 'colsample_bytree': 0.5445075990889144, 'colsample_bylevel': 0.49127686263848164}. Best is trial 5 with value: -39.11316232054889.\n",
      "[I 2024-07-25 10:52:00,346] Trial 45 finished with value: -52.01490333926287 and parameters: {'num_boost_round': 13, 'reg_lambda': 0.6472130811219026, 'learning_rate': 3.4000406974412685, 'colsample_bytree': 0.587495385609898, 'colsample_bylevel': 0.5110739755894559}. Best is trial 5 with value: -39.11316232054889.\n",
      "[I 2024-07-25 10:52:00,607] Trial 46 finished with value: -59.16148690215042 and parameters: {'num_boost_round': 6, 'reg_lambda': 0.2535320597644309, 'learning_rate': 1.8812357218927775, 'colsample_bytree': 0.47954462854614643, 'colsample_bylevel': 0.4587526844913548}. Best is trial 5 with value: -39.11316232054889.\n",
      "[I 2024-07-25 10:52:01,127] Trial 47 finished with value: -60.58187642923004 and parameters: {'num_boost_round': 15, 'reg_lambda': 0.34700498991655626, 'learning_rate': 9.965111569622822, 'colsample_bytree': 0.5737621188238957, 'colsample_bylevel': 0.40859716633081655}. Best is trial 5 with value: -39.11316232054889.\n",
      "[I 2024-07-25 10:52:01,501] Trial 48 finished with value: -59.84058818052237 and parameters: {'num_boost_round': 9, 'reg_lambda': 0.49656259869588826, 'learning_rate': 1.5214603409797378, 'colsample_bytree': 0.4427133260506145, 'colsample_bylevel': 0.4757721409795015}. Best is trial 5 with value: -39.11316232054889.\n",
      "[I 2024-07-25 10:52:01,907] Trial 49 finished with value: -60.87483817257885 and parameters: {'num_boost_round': 10, 'reg_lambda': 0.19419720771018342, 'learning_rate': 0.03293995691744057, 'colsample_bytree': 0.4606550495342504, 'colsample_bylevel': 0.35506244188295993}. Best is trial 5 with value: -39.11316232054889.\n",
      "[I 2024-07-25 10:52:02,237] Trial 50 finished with value: -60.373063038835845 and parameters: {'num_boost_round': 8, 'reg_lambda': 1.3468104659620557, 'learning_rate': 0.45275135068278255, 'colsample_bytree': 0.4040750990669092, 'colsample_bylevel': 0.4427456046614692}. Best is trial 5 with value: -39.11316232054889.\n",
      "[I 2024-07-25 10:52:02,728] Trial 51 finished with value: -58.78989970330385 and parameters: {'num_boost_round': 13, 'reg_lambda': 2.9013634257423715, 'learning_rate': 5.559387344481533, 'colsample_bytree': 0.4352261548230594, 'colsample_bylevel': 0.43612175984989704}. Best is trial 5 with value: -39.11316232054889.\n",
      "[I 2024-07-25 10:52:03,271] Trial 52 finished with value: -50.246990370606916 and parameters: {'num_boost_round': 15, 'reg_lambda': 6.093044466120547, 'learning_rate': 7.149655561214862, 'colsample_bytree': 0.5345679317431032, 'colsample_bylevel': 0.4537273382310267}. Best is trial 5 with value: -39.11316232054889.\n",
      "[I 2024-07-25 10:52:03,862] Trial 53 finished with value: -51.29165908491661 and parameters: {'num_boost_round': 15, 'reg_lambda': 6.041675814826603, 'learning_rate': 7.139876142469695, 'colsample_bytree': 0.5282989959280675, 'colsample_bylevel': 0.4553422790374158}. Best is trial 5 with value: -39.11316232054889.\n",
      "[I 2024-07-25 10:52:04,466] Trial 54 finished with value: -59.5068854668298 and parameters: {'num_boost_round': 16, 'reg_lambda': 7.320076100153722, 'learning_rate': 4.7354025763135486, 'colsample_bytree': 0.5453264063266728, 'colsample_bylevel': 0.49149944181328326}. Best is trial 5 with value: -39.11316232054889.\n",
      "[I 2024-07-25 10:52:04,993] Trial 55 finished with value: -54.39483020686141 and parameters: {'num_boost_round': 14, 'reg_lambda': 4.307372622813913, 'learning_rate': 2.906233122775177, 'colsample_bytree': 0.568808781661267, 'colsample_bylevel': 0.4249625313022447}. Best is trial 5 with value: -39.11316232054889.\n",
      "[I 2024-07-25 10:52:05,403] Trial 56 finished with value: -47.40873940124922 and parameters: {'num_boost_round': 11, 'reg_lambda': 8.386842363358285, 'learning_rate': 7.955514125242577, 'colsample_bytree': 0.5479642314036303, 'colsample_bylevel': 0.38738519040849545}. Best is trial 5 with value: -39.11316232054889.\n",
      "[I 2024-07-25 10:52:06,001] Trial 57 finished with value: -49.31421323019632 and parameters: {'num_boost_round': 17, 'reg_lambda': 9.84921303279626, 'learning_rate': 8.901634307224338, 'colsample_bytree': 0.5096383869183538, 'colsample_bylevel': 0.3823469828998574}. Best is trial 5 with value: -39.11316232054889.\n",
      "[I 2024-07-25 10:52:06,703] Trial 58 finished with value: -48.974496743983956 and parameters: {'num_boost_round': 20, 'reg_lambda': 9.898090470958271, 'learning_rate': 8.472900330180183, 'colsample_bytree': 0.48757898736020316, 'colsample_bylevel': 0.37675241934050874}. Best is trial 5 with value: -39.11316232054889.\n",
      "[I 2024-07-25 10:52:07,357] Trial 59 finished with value: -41.00598163177715 and parameters: {'num_boost_round': 18, 'reg_lambda': 9.97650805706646, 'learning_rate': 8.954646092393224, 'colsample_bytree': 0.5150945844442396, 'colsample_bylevel': 0.31504399884655687}. Best is trial 5 with value: -39.11316232054889.\n",
      "[I 2024-07-25 10:52:08,105] Trial 60 finished with value: -49.34261558445639 and parameters: {'num_boost_round': 19, 'reg_lambda': 7.499096091722398, 'learning_rate': 5.4034956346517715, 'colsample_bytree': 0.49101886196356126, 'colsample_bylevel': 0.3083950883044723}. Best is trial 5 with value: -39.11316232054889.\n",
      "[I 2024-07-25 10:52:08,802] Trial 61 finished with value: -56.37724785833233 and parameters: {'num_boost_round': 20, 'reg_lambda': 9.656766614014927, 'learning_rate': 8.503275040264066, 'colsample_bytree': 0.5040704310166115, 'colsample_bylevel': 0.33137408994743833}. Best is trial 5 with value: -39.11316232054889.\n",
      "[I 2024-07-25 10:52:09,445] Trial 62 finished with value: -50.52009266499119 and parameters: {'num_boost_round': 18, 'reg_lambda': 7.610431495478785, 'learning_rate': 8.289166940963517, 'colsample_bytree': 0.4686358904876352, 'colsample_bylevel': 0.37834574946156896}. Best is trial 5 with value: -39.11316232054889.\n",
      "[I 2024-07-25 10:52:10,104] Trial 63 finished with value: -47.3947174283282 and parameters: {'num_boost_round': 19, 'reg_lambda': 9.75599617170357, 'learning_rate': 9.888337749013207, 'colsample_bytree': 0.5117902183068475, 'colsample_bylevel': 0.36160747867882026}. Best is trial 5 with value: -39.11316232054889.\n",
      "[I 2024-07-25 10:52:10,877] Trial 64 finished with value: -49.18038001830424 and parameters: {'num_boost_round': 20, 'reg_lambda': 4.964908895174575, 'learning_rate': 5.909962834366334, 'colsample_bytree': 0.48749448680818336, 'colsample_bylevel': 0.3594498685414249}. Best is trial 5 with value: -39.11316232054889.\n",
      "[I 2024-07-25 10:52:11,549] Trial 65 finished with value: -58.727258769702836 and parameters: {'num_boost_round': 19, 'reg_lambda': 8.042420413658249, 'learning_rate': 4.644828957514123, 'colsample_bytree': 0.5212165396109487, 'colsample_bylevel': 0.33542723496304144}. Best is trial 5 with value: -39.11316232054889.\n",
      "[I 2024-07-25 10:52:12,221] Trial 66 finished with value: -42.61986026976144 and parameters: {'num_boost_round': 20, 'reg_lambda': 6.2849113725247525, 'learning_rate': 9.55360955371714, 'colsample_bytree': 0.5129233180677405, 'colsample_bylevel': 0.3128217947711794}. Best is trial 5 with value: -39.11316232054889.\n",
      "[I 2024-07-25 10:52:12,831] Trial 67 finished with value: -50.80199473843077 and parameters: {'num_boost_round': 18, 'reg_lambda': 6.418565165871279, 'learning_rate': 9.846996160898595, 'colsample_bytree': 0.5403919710111188, 'colsample_bylevel': 0.31599065845123375}. Best is trial 5 with value: -39.11316232054889.\n",
      "[I 2024-07-25 10:52:13,446] Trial 68 finished with value: -59.42152413550366 and parameters: {'num_boost_round': 17, 'reg_lambda': 3.5622088615306144, 'learning_rate': 6.571637888302077, 'colsample_bytree': 0.5512676265030667, 'colsample_bylevel': 0.3251330610645848}. Best is trial 5 with value: -39.11316232054889.\n",
      "[I 2024-07-25 10:52:14,150] Trial 69 finished with value: -55.92223254644685 and parameters: {'num_boost_round': 19, 'reg_lambda': 5.026322620316893, 'learning_rate': 2.583951253642205, 'colsample_bytree': 0.5114508318659042, 'colsample_bylevel': 0.34643181955976265}. Best is trial 5 with value: -39.11316232054889.\n",
      "[I 2024-07-25 10:52:14,797] Trial 70 finished with value: -51.36311424276992 and parameters: {'num_boost_round': 18, 'reg_lambda': 6.779286874517988, 'learning_rate': 4.0106858527672555, 'colsample_bytree': 0.529852785635642, 'colsample_bylevel': 0.30657922715965985}. Best is trial 5 with value: -39.11316232054889.\n",
      "[I 2024-07-25 10:52:15,492] Trial 71 finished with value: -53.67681739940087 and parameters: {'num_boost_round': 20, 'reg_lambda': 9.027858265799283, 'learning_rate': 7.509551930410322, 'colsample_bytree': 0.4754451089882476, 'colsample_bylevel': 0.3850240084598039}. Best is trial 5 with value: -39.11316232054889.\n",
      "[I 2024-07-25 10:52:16,246] Trial 72 finished with value: -50.55429787901806 and parameters: {'num_boost_round': 20, 'reg_lambda': 8.682336447511926, 'learning_rate': 5.380178480064749, 'colsample_bytree': 0.5135713251327468, 'colsample_bylevel': 0.35956209831541847}. Best is trial 5 with value: -39.11316232054889.\n",
      "[I 2024-07-25 10:52:16,894] Trial 73 finished with value: -47.01598487112267 and parameters: {'num_boost_round': 19, 'reg_lambda': 5.327177055249283, 'learning_rate': 7.688091812523557, 'colsample_bytree': 0.5011124704744768, 'colsample_bylevel': 0.4066488577359693}. Best is trial 5 with value: -39.11316232054889.\n",
      "[I 2024-07-25 10:52:17,591] Trial 74 finished with value: -60.335505921906 and parameters: {'num_boost_round': 19, 'reg_lambda': 5.208376472801569, 'learning_rate': 0.23274121780022833, 'colsample_bytree': 0.49878959043351223, 'colsample_bylevel': 0.40247337991117393}. Best is trial 5 with value: -39.11316232054889.\n",
      "[I 2024-07-25 10:52:18,177] Trial 75 finished with value: -59.60419969411137 and parameters: {'num_boost_round': 16, 'reg_lambda': 8.42840767586857, 'learning_rate': 6.325094070709684, 'colsample_bytree': 0.4610691865844119, 'colsample_bylevel': 0.3671703694680434}. Best is trial 5 with value: -39.11316232054889.\n",
      "[I 2024-07-25 10:52:18,772] Trial 76 finished with value: -53.17259624061839 and parameters: {'num_boost_round': 17, 'reg_lambda': 5.588094889623123, 'learning_rate': 9.917325872835333, 'colsample_bytree': 0.5266348399949976, 'colsample_bylevel': 0.4105666248602986}. Best is trial 5 with value: -39.11316232054889.\n",
      "[I 2024-07-25 10:52:19,434] Trial 77 finished with value: -50.85315486576545 and parameters: {'num_boost_round': 18, 'reg_lambda': 4.344868153732132, 'learning_rate': 4.28709022720588, 'colsample_bytree': 0.32323961933199685, 'colsample_bylevel': 0.3430243393975909}. Best is trial 5 with value: -39.11316232054889.\n",
      "[I 2024-07-25 10:52:20,108] Trial 78 finished with value: -52.65251806043732 and parameters: {'num_boost_round': 19, 'reg_lambda': 6.9596881358954, 'learning_rate': 7.721444674602844, 'colsample_bytree': 0.557937415542402, 'colsample_bylevel': 0.3926206881040176}. Best is trial 5 with value: -39.11316232054889.\n",
      "[I 2024-07-25 10:52:20,606] Trial 79 finished with value: -58.79172305334169 and parameters: {'num_boost_round': 12, 'reg_lambda': 0.14027414851963907, 'learning_rate': 5.175186121586459, 'colsample_bytree': 0.5353812602122414, 'colsample_bylevel': 0.315433963950086}. Best is trial 5 with value: -39.11316232054889.\n",
      "[I 2024-07-25 10:52:20,842] Trial 80 finished with value: -59.19516070359549 and parameters: {'num_boost_round': 5, 'reg_lambda': 2.7371157325131685, 'learning_rate': 3.2122176594001925, 'colsample_bytree': 0.5040943871736123, 'colsample_bylevel': 0.3884841193598426}. Best is trial 5 with value: -39.11316232054889.\n",
      "[I 2024-07-25 10:52:21,558] Trial 81 finished with value: -50.73279494787383 and parameters: {'num_boost_round': 20, 'reg_lambda': 9.458374503220806, 'learning_rate': 8.268351313405335, 'colsample_bytree': 0.4812325864811696, 'colsample_bylevel': 0.3714584116562356}. Best is trial 5 with value: -39.11316232054889.\n",
      "[I 2024-07-25 10:52:22,236] Trial 82 finished with value: -51.53549187810189 and parameters: {'num_boost_round': 19, 'reg_lambda': 7.9590859992340395, 'learning_rate': 6.487009906111326, 'colsample_bytree': 0.4884052558315916, 'colsample_bylevel': 0.4045477226924863}. Best is trial 5 with value: -39.11316232054889.\n",
      "[I 2024-07-25 10:52:22,944] Trial 83 finished with value: -40.47764240098807 and parameters: {'num_boost_round': 20, 'reg_lambda': 6.858744383974129, 'learning_rate': 9.89477535435412, 'colsample_bytree': 0.5174996659333717, 'colsample_bylevel': 0.3255894358906978}. Best is trial 5 with value: -39.11316232054889.\n",
      "[I 2024-07-25 10:52:23,678] Trial 84 finished with value: -51.28068913724622 and parameters: {'num_boost_round': 19, 'reg_lambda': 6.471250121623759, 'learning_rate': 7.51611904118569, 'colsample_bytree': 0.5193216144447469, 'colsample_bylevel': 0.30185537380565775}. Best is trial 5 with value: -39.11316232054889.\n",
      "[I 2024-07-25 10:52:24,358] Trial 85 finished with value: -60.88791365727749 and parameters: {'num_boost_round': 18, 'reg_lambda': 5.651720040349148, 'learning_rate': 0.011931600405662178, 'colsample_bytree': 0.5493955011570004, 'colsample_bylevel': 0.3269595788107341}. Best is trial 5 with value: -39.11316232054889.\n",
      "[I 2024-07-25 10:52:24,753] Trial 86 finished with value: -49.999675414899286 and parameters: {'num_boost_round': 10, 'reg_lambda': 4.29602441043741, 'learning_rate': 5.726297805043692, 'colsample_bytree': 0.5663718977945282, 'colsample_bylevel': 0.31862451065134006}. Best is trial 5 with value: -39.11316232054889.\n",
      "[I 2024-07-25 10:52:25,156] Trial 87 finished with value: -49.1147872522372 and parameters: {'num_boost_round': 11, 'reg_lambda': 3.3451842385619917, 'learning_rate': 9.214101873968941, 'colsample_bytree': 0.5112363787990568, 'colsample_bylevel': 0.3418795875727931}. Best is trial 5 with value: -39.11316232054889.\n",
      "[I 2024-07-25 10:52:25,257] Trial 88 finished with value: -53.92359093358558 and parameters: {'num_boost_round': 1, 'reg_lambda': 2.144245423966412, 'learning_rate': 4.749038230245063, 'colsample_bytree': 0.5391494143846826, 'colsample_bylevel': 0.429807487231816}. Best is trial 5 with value: -39.11316232054889.\n",
      "[I 2024-07-25 10:52:25,517] Trial 89 finished with value: -53.86306160353715 and parameters: {'num_boost_round': 6, 'reg_lambda': 8.443262322577292, 'learning_rate': 3.621913277815681, 'colsample_bytree': 0.4966542086320228, 'colsample_bylevel': 0.44449973865000353}. Best is trial 5 with value: -39.11316232054889.\n",
      "[I 2024-07-25 10:52:26,108] Trial 90 finished with value: -48.84771451880263 and parameters: {'num_boost_round': 17, 'reg_lambda': 7.0415463256221535, 'learning_rate': 6.900034227824906, 'colsample_bytree': 0.5829901115050287, 'colsample_bylevel': 0.4167999063281816}. Best is trial 5 with value: -39.11316232054889.\n",
      "[I 2024-07-25 10:52:26,704] Trial 91 finished with value: -49.006324031916485 and parameters: {'num_boost_round': 17, 'reg_lambda': 6.9823484358693575, 'learning_rate': 9.98813523188477, 'colsample_bytree': 0.5789457165141959, 'colsample_bylevel': 0.41230256666212145}. Best is trial 5 with value: -39.11316232054889.\n",
      "[I 2024-07-25 10:52:27,378] Trial 92 finished with value: -51.98407884644744 and parameters: {'num_boost_round': 20, 'reg_lambda': 1.48089999743381, 'learning_rate': 6.462905716009085, 'colsample_bytree': 0.5890411550058732, 'colsample_bylevel': 0.4197937079084044}. Best is trial 5 with value: -39.11316232054889.\n",
      "[I 2024-07-25 10:52:28,063] Trial 93 finished with value: -45.992401408736505 and parameters: {'num_boost_round': 18, 'reg_lambda': 7.736092002194409, 'learning_rate': 7.591551318602719, 'colsample_bytree': 0.525279083853559, 'colsample_bylevel': 0.39729013691097687}. Best is trial 5 with value: -39.11316232054889.\n",
      "[I 2024-07-25 10:52:28,544] Trial 94 finished with value: -49.85282912971487 and parameters: {'num_boost_round': 13, 'reg_lambda': 5.5954188214140474, 'learning_rate': 7.3496857554625, 'colsample_bytree': 0.516766672610781, 'colsample_bylevel': 0.3103880440869418}. Best is trial 5 with value: -39.11316232054889.\n",
      "[I 2024-07-25 10:52:29,208] Trial 95 finished with value: -56.06502227126443 and parameters: {'num_boost_round': 19, 'reg_lambda': 7.873236869580358, 'learning_rate': 8.187822158718761, 'colsample_bytree': 0.5248758827171949, 'colsample_bylevel': 0.3994750652890441}. Best is trial 5 with value: -39.11316232054889.\n",
      "[I 2024-07-25 10:52:29,665] Trial 96 finished with value: -51.43636555839921 and parameters: {'num_boost_round': 12, 'reg_lambda': 9.014490766679524, 'learning_rate': 5.224339717757531, 'colsample_bytree': 0.5064618675549708, 'colsample_bylevel': 0.3644627161857022}. Best is trial 5 with value: -39.11316232054889.\n",
      "[I 2024-07-25 10:52:30,285] Trial 97 finished with value: -58.79535283040269 and parameters: {'num_boost_round': 18, 'reg_lambda': 5.977947025279272, 'learning_rate': 8.745967382544555, 'colsample_bytree': 0.5447888860878133, 'colsample_bylevel': 0.3512621700813997}. Best is trial 5 with value: -39.11316232054889.\n",
      "[I 2024-07-25 10:52:30,427] Trial 98 finished with value: -60.42201749779409 and parameters: {'num_boost_round': 2, 'reg_lambda': 9.961844414213576, 'learning_rate': 0.9253178922563652, 'colsample_bytree': 0.41964087025866237, 'colsample_bylevel': 0.33634613239782796}. Best is trial 5 with value: -39.11316232054889.\n",
      "[I 2024-07-25 10:52:31,060] Trial 99 finished with value: -49.63748521399565 and parameters: {'num_boost_round': 16, 'reg_lambda': 0.8106610063386033, 'learning_rate': 4.23777297792714, 'colsample_bytree': 0.4973146744458184, 'colsample_bylevel': 0.3976039709993778}. Best is trial 5 with value: -39.11316232054889.\n"
     ]
    }
   ],
   "source": [
    "study_model = optuna.create_study(direction = 'maximize', sampler = sampler)\n",
    "study_model.optimize(xgb_stes_optuna_objective, n_trials = 100) "
   ]
  },
  {
   "cell_type": "code",
   "execution_count": 286,
   "metadata": {},
   "outputs": [
    {
     "name": "stdout",
     "output_type": "stream",
     "text": [
      "Best params from optuna: \n",
      "                        Value\n",
      "max_depth           3.000000\n",
      "learning_rate       6.823493\n",
      "colsample_bytree    0.456554\n",
      "colsample_bylevel   0.424399\n",
      "colsample_bynode    0.800000\n",
      "reg_lambda          0.193511\n",
      "random_state       42.000000\n",
      "num_boost_round    13.000000\n"
     ]
    }
   ],
   "source": [
    "trial = study_model.best_trial\n",
    "xgb_stes_spy_best_params_optuna = trial.params\n",
    "xgb_params_opt_tuned = xgb_params | xgb_stes_spy_best_params_optuna\n",
    "xgb_params_opt_tuned\n",
    "print('Best params from optuna: \\n', pd.DataFrame.from_dict(xgb_params_opt_tuned, orient='index', columns=['Value']))"
   ]
  },
  {
   "cell_type": "code",
   "execution_count": 316,
   "metadata": {},
   "outputs": [],
   "source": [
    "xgb_stes_spy_model_opt_tuned = XGBoostExponentialSmoothing(**xgb_params_opt_tuned)\n",
    "xgb_stes_spy_model_opt_tuned.fit(X_train, y_train)\n",
    "xgb_stes_spy_model_opt_tuned_pred = xgb_stes_spy_model_opt_tuned.forecast_variance(\n",
    "    spy_feature_matrix, burnin_size=10\n",
    ")\n",
    "is_xgb_stes_spy_opt_tuned_rmse = np.sqrt(np.mean((xgb_stes_spy_model_opt_tuned_pred[10:4000] - y_train.to_numpy()[10:])**2))\n",
    "os_xgb_stes_spy_opt_tuned_rmse = np.sqrt(np.mean((xgb_stes_spy_model_opt_tuned_pred[4000:] - y_test.to_numpy())**2))\n"
   ]
  },
  {
   "cell_type": "markdown",
   "metadata": {},
   "source": [
    "## Summary"
   ]
  },
  {
   "cell_type": "code",
   "execution_count": 134,
   "metadata": {},
   "outputs": [],
   "source": [
    "_,        os_es_spy_rmse, _, _, _, is_es_spy_rmse, _ = fit_es_least_square(returns=spy_log_returns.to_numpy(), is_index=10, os_index=4000)\n",
    "_,  os_stes_eae_spy_rmse, _, _, _, is_stes_eae_spy_rmse, _ = fit_stes_eae_least_square(returns=spy_log_returns.to_numpy(), is_index=10, os_index=4000)\n",
    "_,  os_stes_ese_spy_rmse, _, _, _, is_stes_ese_spy_rmse, _ = fit_stes_ese_least_square(returns=spy_log_returns.to_numpy(), is_index=10, os_index=4000)\n",
    "_, os_stes_aese_spy_rmse, _, _, _, is_stes_aese_spy_rmse, _ = fit_stes_aese_least_square(returns=spy_log_returns.to_numpy(), is_index=10, os_index=4000)"
   ]
  },
  {
   "cell_type": "code",
   "execution_count": 307,
   "metadata": {},
   "outputs": [
    {
     "data": {
      "text/html": [
       "<div>\n",
       "<style scoped>\n",
       "    .dataframe tbody tr th:only-of-type {\n",
       "        vertical-align: middle;\n",
       "    }\n",
       "\n",
       "    .dataframe tbody tr th {\n",
       "        vertical-align: top;\n",
       "    }\n",
       "\n",
       "    .dataframe thead th {\n",
       "        text-align: right;\n",
       "    }\n",
       "</style>\n",
       "<table border=\"1\" class=\"dataframe\">\n",
       "  <thead>\n",
       "    <tr style=\"text-align: right;\">\n",
       "      <th></th>\n",
       "      <th>OS</th>\n",
       "      <th>IS</th>\n",
       "    </tr>\n",
       "  </thead>\n",
       "  <tbody>\n",
       "    <tr>\n",
       "      <th>XGBoost-STES (Untuned)</th>\n",
       "      <td>4.419461</td>\n",
       "      <td>5.015513</td>\n",
       "    </tr>\n",
       "    <tr>\n",
       "      <th>XGBoost-STES (Sklearn Tuned)</th>\n",
       "      <td>4.428388</td>\n",
       "      <td>5.201166</td>\n",
       "    </tr>\n",
       "    <tr>\n",
       "      <th>XGBoost-STES (Optuna Tuned)</th>\n",
       "      <td>6.919553</td>\n",
       "      <td>6.933454</td>\n",
       "    </tr>\n",
       "    <tr>\n",
       "      <th>ES</th>\n",
       "      <td>4.639821</td>\n",
       "      <td>4.999671</td>\n",
       "    </tr>\n",
       "    <tr>\n",
       "      <th>STES-E&amp;AE</th>\n",
       "      <td>4.520393</td>\n",
       "      <td>4.954623</td>\n",
       "    </tr>\n",
       "    <tr>\n",
       "      <th>STES-E&amp;SE</th>\n",
       "      <td>4.498322</td>\n",
       "      <td>4.932206</td>\n",
       "    </tr>\n",
       "    <tr>\n",
       "      <th>STES-AE&amp;SE</th>\n",
       "      <td>4.496488</td>\n",
       "      <td>4.961815</td>\n",
       "    </tr>\n",
       "  </tbody>\n",
       "</table>\n",
       "</div>"
      ],
      "text/plain": [
       "                                    OS        IS\n",
       "XGBoost-STES (Untuned)        4.419461  5.015513\n",
       "XGBoost-STES (Sklearn Tuned)  4.428388  5.201166\n",
       "XGBoost-STES (Optuna Tuned)   6.919553  6.933454\n",
       "ES                            4.639821  4.999671\n",
       "STES-E&AE                     4.520393  4.954623\n",
       "STES-E&SE                     4.498322  4.932206\n",
       "STES-AE&SE                    4.496488  4.961815"
      ]
     },
     "execution_count": 307,
     "metadata": {},
     "output_type": "execute_result"
    }
   ],
   "source": [
    "os_rmse = {\n",
    "    'XGBoost-STES (Untuned)': os_xgb_stes_spy_untuned_rmse,\n",
    "    'XGBoost-STES (Sklearn Tuned)': os_xgb_stes_spy_tuned_rmse,\n",
    "    'XGBoost-STES (Optuna Tuned)': os_xgb_stes_spy_opt_tuned_rmse,\n",
    "    \n",
    "    'ES': os_es_spy_rmse,\n",
    "    'STES-E&AE': os_stes_eae_spy_rmse,\n",
    "    'STES-E&SE': os_stes_ese_spy_rmse,\n",
    "    'STES-AE&SE': os_stes_aese_spy_rmse,\n",
    "}\n",
    "\n",
    "is_rmse = {\n",
    "    'XGBoost-STES (Optuna Tuned)': is_xgb_stes_spy_opt_tuned_rmse,\n",
    "    'XGBoost-STES (Sklearn Tuned)': is_xgb_stes_spy_tuned_rmse,\n",
    "    'XGBoost-STES (Untuned)': is_xgb_stes_spy_untuned_rmse,\n",
    "    'ES': is_es_spy_rmse,\n",
    "    'STES-E&AE': is_stes_eae_spy_rmse,\n",
    "    'STES-E&SE': is_stes_ese_spy_rmse,\n",
    "    'STES-AE&SE': is_stes_aese_spy_rmse,\n",
    "}\n",
    "pd.concat([\n",
    "    pd.DataFrame.from_dict(os_rmse, orient='index', columns=['OS']),\n",
    "    pd.DataFrame.from_dict(is_rmse, orient='index', columns=['IS'])\n",
    "], axis=1)"
   ]
  },
  {
   "cell_type": "code",
   "execution_count": 128,
   "metadata": {},
   "outputs": [
    {
     "name": "stdout",
     "output_type": "stream",
     "text": [
      "XGB STES SPY (Tuned) Error: 4.6832819149558915\n",
      "XGB STES SPY (Untuned) Error: 4.570763478693617\n",
      "ES SPY Error: 4.639822526766432\n",
      "STES E&AE SPY Error: 4.520370404768722\n",
      "STES E&SE SPY Error: 4.498308136804803\n",
      "STES AE&SE SPY Error: 4.496473330081073\n"
     ]
    }
   ],
   "source": [
    "print(f\"XGB STES SPY (Tuned) Error: {os_xgb_stes_spy_opt_tuned_rmse}\")\n",
    "print(f\"XGB STES SPY (Untuned) Error: {os_xgb_stes_spy_untuned_rmse}\")\n",
    "print(f\"ES SPY Error: {os_es_spy_rmse}\")\n",
    "print(f\"STES E&AE SPY Error: {os_stes_eae_spy_rmse}\")\n",
    "print(f\"STES E&SE SPY Error: {os_stes_ese_spy_rmse}\")\n",
    "print(f\"STES AE&SE SPY Error: {os_stes_aese_spy_rmse}\")"
   ]
  },
  {
   "cell_type": "code",
   "execution_count": null,
   "metadata": {},
   "outputs": [],
   "source": []
  }
 ],
 "metadata": {
  "kernelspec": {
   "display_name": "ml_env",
   "language": "python",
   "name": "python3"
  },
  "language_info": {
   "codemirror_mode": {
    "name": "ipython",
    "version": 3
   },
   "file_extension": ".py",
   "mimetype": "text/x-python",
   "name": "python",
   "nbconvert_exporter": "python",
   "pygments_lexer": "ipython3",
   "version": "3.10.14"
  }
 },
 "nbformat": 4,
 "nbformat_minor": 2
}
