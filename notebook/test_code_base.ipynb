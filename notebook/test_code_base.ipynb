{
 "cells": [
  {
   "cell_type": "code",
   "execution_count": 24,
   "metadata": {},
   "outputs": [
    {
     "name": "stdout",
     "output_type": "stream",
     "text": [
      "The autoreload extension is already loaded. To reload it, use:\n",
      "  %reload_ext autoreload\n"
     ]
    }
   ],
   "source": [
    "%load_ext autoreload\n",
    "%autoreload 2\n",
    "\n",
    "import os, sys\n",
    "\n",
    "project_dir = os.path.abspath('..')\n",
    "sys.path.insert(0, project_dir)\n",
    "\n",
    "import pandas as pd\n",
    "import numpy as np\n",
    "import pandas_market_calendars as mcal\n",
    "\n",
    "from volatility_forecast.data.dataloader import TingleEoDDataLoader\n",
    "from volatility_forecast.data.dataset import PriceVolume\n",
    "from volatility_forecast.data.datamanager import (\n",
    "    ReturnDataManager, OffsetReturnDataManager, \n",
    "    LagAbsReturnDataManager, LagSquareReturnDataManager,\n",
    "    OneStepAheadSquareReturnDataManager\n",
    ")\n"
   ]
  },
  {
   "cell_type": "code",
   "execution_count": 54,
   "metadata": {},
   "outputs": [],
   "source": [
    "tickers = (\"SPY\", )\n",
    "start_date = \"2000-01-01\"\n",
    "end_date = \"2023-12-31\"\n",
    "returns = OffsetReturnDataManager().get_data(tickers, start_date, end_date)\n",
    "realized_var = OneStepAheadSquareReturnDataManager().get_data(tickers, start_date, end_date)\n",
    "stes_eaese_features = np.hstack([\n",
    "    OffsetReturnDataManager().get_data(tickers, start_date, end_date),\n",
    "    LagAbsReturnDataManager().get_data(tickers, start_date, end_date),\n",
    "    LagSquareReturnDataManager().get_data(tickers, start_date, end_date),\n",
    "])\n",
    "\n",
    "es_features = np.ones((len(returns), 1))\n",
    "stes_eaese_features = np.hstack([np.ones((len(returns), 1)), stes_eaese_features, ])\n"
   ]
  },
  {
   "cell_type": "code",
   "execution_count": 57,
   "metadata": {},
   "outputs": [
    {
     "data": {
      "text/plain": [
       "((6038, 4), torch.Size([6038, 1]))"
      ]
     },
     "execution_count": 57,
     "metadata": {},
     "output_type": "execute_result"
    }
   ],
   "source": [
    "stes_eaese_features.shape, realized_var.shape"
   ]
  },
  {
   "cell_type": "code",
   "execution_count": 56,
   "metadata": {},
   "outputs": [],
   "source": [
    "from volatility_forecast.model.stes_model import STESModel"
   ]
  },
  {
   "cell_type": "code",
   "execution_count": 66,
   "metadata": {},
   "outputs": [],
   "source": [
    "es_model = STESModel()\n",
    "es_model_fit = es_model.fit(es_features, realized_var.flatten(), returns)"
   ]
  },
  {
   "cell_type": "code",
   "execution_count": 68,
   "metadata": {},
   "outputs": [
    {
     "data": {
      "text/plain": [
       "array([-1.74531784])"
      ]
     },
     "execution_count": 68,
     "metadata": {},
     "output_type": "execute_result"
    }
   ],
   "source": [
    "es_model_fit.params"
   ]
  },
  {
   "cell_type": "code",
   "execution_count": null,
   "metadata": {},
   "outputs": [],
   "source": []
  }
 ],
 "metadata": {
  "kernelspec": {
   "display_name": "ml_env",
   "language": "python",
   "name": "python3"
  },
  "language_info": {
   "codemirror_mode": {
    "name": "ipython",
    "version": 3
   },
   "file_extension": ".py",
   "mimetype": "text/x-python",
   "name": "python",
   "nbconvert_exporter": "python",
   "pygments_lexer": "ipython3",
   "version": "3.10.14"
  }
 },
 "nbformat": 4,
 "nbformat_minor": 2
}
