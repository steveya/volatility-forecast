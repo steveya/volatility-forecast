{
 "cells": [
  {
   "cell_type": "markdown",
   "metadata": {},
   "source": [
    "# Volatility Forecasts (Part 3 - XGBoost-STES)\n",
    "\n",
    "This notebook demonstrates the implementation of the Smooth Transition Exponential Smoothing (STES) model. The model is a variant of the Exponential Smoothing (ES) model that captures non-linear dependencies in volatility time series. The STES model is a more advanced version of the ES model that can capture non-linear dependencies in volatility time series. XGBoost-STES is an extension of STES that uses XGBoost to enhance the STES model by better capturing non-linear dependencies in volatility time series.\n",
    "\n",
    "This notebook corresponds to the blog series [Volatility Forecasts (Part 2 - XGBoost-STES)](https://steveya.github.io/2024/07/12/volatility-forecast-2.html). We have refactored the code used [Volatility Forecasts (Part 1 - STES Models)](https://steveya.github.io/blob/notebooks/volatility_forecast_1.ipynb) in The aim is to replace the logistic function used by the STES model with a xgboost model, and evaluate their relative performance. It is a work in progress and will be updated as I wrap up my implementations."
   ]
  },
  {
   "cell_type": "code",
   "execution_count": 36,
   "metadata": {},
   "outputs": [
    {
     "name": "stdout",
     "output_type": "stream",
     "text": [
      "The autoreload extension is already loaded. To reload it, use:\n",
      "  %reload_ext autoreload\n"
     ]
    }
   ],
   "source": [
    "%load_ext autoreload\n",
    "%autoreload 2\n",
    "\n",
    "import sys\n",
    "import os\n",
    "project_dir = os.path.abspath('..')\n",
    "sys.path.insert(0, project_dir)\n",
    "\n",
    "import numpy as np\n",
    "import pandas as pd\n",
    "from sklearn.preprocessing import StandardScaler\n",
    "from sklearn.metrics import mean_squared_error\n",
    "from typing import Tuple\n",
    "\n",
    "from volatility_forecast.data.datamanager import (\n",
    "    LagReturnDataManager,\n",
    "    LagAbsReturnDataManager, \n",
    "    LagSquareReturnDataManager,\n",
    "    SquareReturnDataManager,\n",
    "    HighLownDataManager,\n",
    ")\n",
    "from volatility_forecast.model.stes_model import STESModel\n",
    "from volatility_forecast.model.neural_network_model import (\n",
    "    RNNVolatilityModel,\n",
    "    GRUVolatilityModel,\n",
    "    ImprovedRNNVolatilityModel,\n",
    ")\n"
   ]
  },
  {
   "cell_type": "code",
   "execution_count": 2,
   "metadata": {},
   "outputs": [],
   "source": [
    "\n",
    "# Data preparation function\n",
    "def prepare_data(tickers: Tuple[str], start_date: str, end_date: str):\n",
    "    returns = LagReturnDataManager().get_data(tickers, start_date, end_date)[0] * 1e2\n",
    "    realized_var = SquareReturnDataManager().get_data(tickers, start_date, end_date)[0] * 1e4\n",
    "    feature_sets = np.hstack([\n",
    "        np.ones((len(returns), 1)),\n",
    "        LagReturnDataManager().get_data(tickers, start_date, end_date)[0] * 1e2,\n",
    "        LagAbsReturnDataManager().get_data(tickers, start_date, end_date)[0] * 1e2,\n",
    "        LagSquareReturnDataManager().get_data(tickers, start_date, end_date)[0] * 1e4,\n",
    "        HighLownDataManager().get_data(tickers, start_date, end_date)[0] * 1e2,\n",
    "    ])\n",
    "    realized_var[realized_var==0] = 1e-6\n",
    "    return feature_sets, realized_var, returns\n",
    "\n",
    "# Data normalization\n",
    "def normalize_data(X):\n",
    "    scaler_X = StandardScaler()\n",
    "    X_normalized = scaler_X.fit_transform(X[:,1:])\n",
    "    return np.hstack([np.ones((X.shape[0], 1)), X_normalized])\n",
    "\n",
    "# Model evaluation function\n",
    "def evaluate_model(model, X, y, returns, train_size, test_size, epochs=50):\n",
    "    model.fit(X[:train_size], y[:train_size], returns=returns[:train_size], start_index=0, end_index=train_size, epochs=epochs)\n",
    "    predictions = model.predict(X, returns=returns)\n",
    "    rmse = np.sqrt(mean_squared_error(y[train_size:train_size+test_size], predictions[train_size:train_size+test_size]))\n",
    "    return rmse, predictions\n"
   ]
  },
  {
   "cell_type": "code",
   "execution_count": 3,
   "metadata": {},
   "outputs": [],
   "source": [
    "# Main execution\n",
    "tickers = (\"SPY\",)\n",
    "start_date = \"2000-01-01\"\n",
    "end_date = \"2023-12-31\"\n",
    "\n",
    "X, y, returns = prepare_data(tickers, start_date, end_date)\n",
    "X_normalized = normalize_data(X)\n",
    "\n",
    "train_size = 4000\n",
    "test_size = X.shape[0] - train_size - 1\n"
   ]
  },
  {
   "cell_type": "code",
   "execution_count": 4,
   "metadata": {},
   "outputs": [
    {
     "name": "stdout",
     "output_type": "stream",
     "text": [
      "ES RMSE: 4.640452978323074\n"
     ]
    }
   ],
   "source": [
    "# ES Model\n",
    "es_model = STESModel()\n",
    "es_rmse, es_predictions = evaluate_model(\n",
    "    es_model, X[:,[0]], y, \n",
    "    returns=returns, train_size=train_size, test_size=test_size\n",
    ")\n",
    "print(f\"ES RMSE: {es_rmse}\")"
   ]
  },
  {
   "cell_type": "code",
   "execution_count": 5,
   "metadata": {},
   "outputs": [
    {
     "name": "stdout",
     "output_type": "stream",
     "text": [
      "STES RMSE: 4.490185456395477\n"
     ]
    }
   ],
   "source": [
    "# STES Model\n",
    "stes_model = STESModel()\n",
    "stes_rmse, stes_predictions = evaluate_model(\n",
    "    stes_model, X[:, :-1], y, \n",
    "    returns=returns, train_size=train_size, test_size=test_size\n",
    ")\n",
    "print(f\"STES RMSE: {stes_rmse}\")\n"
   ]
  },
  {
   "cell_type": "code",
   "execution_count": 6,
   "metadata": {},
   "outputs": [
    {
     "name": "stdout",
     "output_type": "stream",
     "text": [
      "STES RMSE: 4.464719869246511\n"
     ]
    }
   ],
   "source": [
    "# STES Model\n",
    "stes_model = STESModel()\n",
    "stes_rmse, stes_predictions = evaluate_model(\n",
    "    stes_model, X, y, \n",
    "    returns=returns, train_size=train_size, test_size=test_size\n",
    ")\n",
    "print(f\"STES RMSE: {stes_rmse}\")\n"
   ]
  },
  {
   "cell_type": "code",
   "execution_count": 7,
   "metadata": {},
   "outputs": [
    {
     "name": "stderr",
     "output_type": "stream",
     "text": [
      "/opt/homebrew/Caskroom/miniforge/base/envs/ml_env/lib/python3.10/site-packages/torch/nn/modules/loss.py:538: UserWarning: Using a target size (torch.Size([4000, 1])) that is different to the input size (torch.Size([4000])). This will likely lead to incorrect results due to broadcasting. Please ensure they have the same size.\n",
      "  return F.mse_loss(input, target, reduction=self.reduction)\n"
     ]
    },
    {
     "name": "stdout",
     "output_type": "stream",
     "text": [
      "RNN RMSE: 5.385047987176711\n"
     ]
    }
   ],
   "source": [
    "rnn_model = RNNVolatilityModel(\n",
    "    input_size=X.shape[1], \n",
    "    hidden_size=2, \n",
    "    num_layers=1, \n",
    "    #dropout=0.2,\n",
    "    nonlinearity='relu'\n",
    ")\n",
    "rnn_rmse, rnn_predictions = evaluate_model(\n",
    "    rnn_model, \n",
    "    X_normalized, y, \n",
    "    returns=returns, \n",
    "    train_size=train_size, test_size=test_size, \n",
    "    epochs=100\n",
    ")\n",
    "print(f\"RNN RMSE: {rnn_rmse}\")"
   ]
  },
  {
   "cell_type": "code",
   "execution_count": 206,
   "metadata": {},
   "outputs": [
    {
     "data": {
      "text/plain": [
       "array([0.87272596, 0.87272596, 0.54540795, ..., 0.87272596, 0.87272596,\n",
       "       0.87272596], dtype=float32)"
      ]
     },
     "execution_count": 206,
     "metadata": {},
     "output_type": "execute_result"
    }
   ],
   "source": [
    "rnn_predictions"
   ]
  },
  {
   "cell_type": "code",
   "execution_count": 190,
   "metadata": {},
   "outputs": [
    {
     "name": "stdout",
     "output_type": "stream",
     "text": [
      "Model Parameters for RNNVolatilityModel:\n",
      "rnn.weight_ih_l0:\n",
      "  Shape: torch.Size([2, 5])\n",
      "  Data (first few values): tensor([-0.7639,  0.0011,  0.0335,  0.0986,  0.4202], device='mps:0')\n",
      "  Gradient (first few values): tensor([ 0.0067, -0.0019,  0.0190,  0.0221,  0.0281], device='mps:0')\n",
      "\n",
      "rnn.weight_hh_l0:\n",
      "  Shape: torch.Size([2, 2])\n",
      "  Data (first few values): tensor([ 0.4723, -0.7210,  0.6514,  0.5516], device='mps:0')\n",
      "  Gradient (first few values): tensor([ 0.0118,  0.0027, -0.0057, -0.7482], device='mps:0')\n",
      "\n",
      "fc.weight:\n",
      "  Shape: torch.Size([1, 2])\n",
      "  Data (first few values): tensor([-0.2801,  0.2511], device='mps:0')\n",
      "  Gradient (first few values): tensor([-0.0401, -1.4684], device='mps:0')\n",
      "\n",
      "fc.bias:\n",
      "  Shape: torch.Size([1])\n",
      "  Data (first few values): tensor([-0.3099], device='mps:0')\n",
      "  Gradient (first few values): tensor([-0.9251], device='mps:0')\n",
      "\n"
     ]
    }
   ],
   "source": [
    "rnn_model.print_parameters()"
   ]
  },
  {
   "cell_type": "code",
   "execution_count": null,
   "metadata": {},
   "outputs": [],
   "source": []
  },
  {
   "cell_type": "code",
   "execution_count": 37,
   "metadata": {},
   "outputs": [
    {
     "name": "stdout",
     "output_type": "stream",
     "text": [
      "Improved RNN RMSE: 4.512851663329989\n"
     ]
    }
   ],
   "source": [
    "improvd_rnn_model = ImprovedRNNVolatilityModel(\n",
    "    input_size=X.shape[1], \n",
    "    hidden_size=2, \n",
    "    num_layers=1, \n",
    "    #dropout=0.2,\n",
    ")\n",
    "improvd_rnn_rmse, improvd_rnn_predictions = evaluate_model(\n",
    "    improvd_rnn_model, \n",
    "    X_normalized, y, \n",
    "    returns=returns, \n",
    "    train_size=train_size, test_size=test_size, \n",
    "    epochs=100\n",
    ")\n",
    "print(f\"Improved RNN RMSE: {improvd_rnn_rmse}\")"
   ]
  },
  {
   "cell_type": "code",
   "execution_count": 42,
   "metadata": {},
   "outputs": [
    {
     "data": {
      "text/plain": [
       "<Axes: >"
      ]
     },
     "execution_count": 42,
     "metadata": {},
     "output_type": "execute_result"
    },
    {
     "data": {
      "image/png": "[encoded data removed]",
      "text/plain": [
       "<Figure size 640x480 with 1 Axes>"
      ]
     },
     "metadata": {},
     "output_type": "display_data"
    }
   ],
   "source": [
    "#pd.Series(y.flatten()).plot()\n",
    "pd.Series(improvd_rnn_predictions.flatten()).plot()\n",
    "pd.Series(stes_predictions).plot()\n",
    "\n"
   ]
  },
  {
   "cell_type": "code",
   "execution_count": null,
   "metadata": {},
   "outputs": [],
   "source": []
  },
  {
   "cell_type": "code",
   "execution_count": null,
   "metadata": {},
   "outputs": [],
   "source": []
  },
  {
   "cell_type": "code",
   "execution_count": 100,
   "metadata": {},
   "outputs": [
    {
     "name": "stderr",
     "output_type": "stream",
     "text": [
      "/opt/homebrew/Caskroom/miniforge/base/envs/ml_env/lib/python3.10/site-packages/torch/nn/modules/rnn.py:88: UserWarning: dropout option adds dropout after all but last recurrent layer, so non-zero dropout expects num_layers greater than 1, but got dropout=0.2 and num_layers=1\n",
      "  warnings.warn(\"dropout option adds dropout after all but last \"\n"
     ]
    },
    {
     "name": "stdout",
     "output_type": "stream",
     "text": [
      "GRU RMSE: 4.871798045370923\n"
     ]
    }
   ],
   "source": [
    "# GRU Model\n",
    "gru_model = GRUVolatilityModel(\n",
    "    input_size=X.shape[1], \n",
    "    hidden_size=32, \n",
    "    num_layers=1, \n",
    "    dropout=0.2,\n",
    ")\n",
    "gru_rmse = evaluate_model(\n",
    "    gru_model, \n",
    "    X_normalized, y_normalized, \n",
    "    returns, \n",
    "    train_size, test_size, \n",
    "    scaler_y=scaler_y\n",
    ")\n",
    "print(f\"GRU RMSE: {gru_rmse}\")\n",
    "\n"
   ]
  },
  {
   "cell_type": "code",
   "execution_count": null,
   "metadata": {},
   "outputs": [],
   "source": []
  },
  {
   "cell_type": "code",
   "execution_count": null,
   "metadata": {},
   "outputs": [
    {
     "name": "stderr",
     "output_type": "stream",
     "text": [
      "/opt/homebrew/Caskroom/miniforge/base/envs/ml_env/lib/python3.10/site-packages/torch/nn/modules/rnn.py:88: UserWarning: dropout option adds dropout after all but last recurrent layer, so non-zero dropout expects num_layers greater than 1, but got dropout=0.2 and num_layers=1\n",
      "  warnings.warn(\"dropout option adds dropout after all but last \"\n"
     ]
    },
    {
     "ename": "KeyboardInterrupt",
     "evalue": "",
     "output_type": "error",
     "traceback": [
      "\u001b[0;31m---------------------------------------------------------------------------\u001b[0m\n",
      "\u001b[0;31mKeyboardInterrupt\u001b[0m                         Traceback (most recent call last)\n",
      "Cell \u001b[0;32mIn[122], line 12\u001b[0m\n",
      "\u001b[1;32m      4\u001b[0m \u001b[38;5;28;01mfor\u001b[39;00m num_layers \u001b[38;5;129;01min\u001b[39;00m [\u001b[38;5;241m1\u001b[39m, \u001b[38;5;241m3\u001b[39m, \u001b[38;5;241m5\u001b[39m]:\n",
      "\u001b[1;32m      5\u001b[0m     rnn_model \u001b[38;5;241m=\u001b[39m RNNVolatilityModel(\n",
      "\u001b[1;32m      6\u001b[0m         input_size\u001b[38;5;241m=\u001b[39mX\u001b[38;5;241m.\u001b[39mshape[\u001b[38;5;241m1\u001b[39m], \n",
      "\u001b[1;32m      7\u001b[0m         hidden_size\u001b[38;5;241m=\u001b[39mhidden_size, \n",
      "\u001b[0;32m   (...)\u001b[0m\n",
      "\u001b[1;32m     10\u001b[0m         nonlinearity\u001b[38;5;241m=\u001b[39mnonlinearity\n",
      "\u001b[1;32m     11\u001b[0m     )\n",
      "\u001b[0;32m---> 12\u001b[0m     rnn_rmse \u001b[38;5;241m=\u001b[39m \u001b[43mevaluate_model\u001b[49m\u001b[43m(\u001b[49m\n",
      "\u001b[1;32m     13\u001b[0m \u001b[43m        \u001b[49m\u001b[43mrnn_model\u001b[49m\u001b[43m,\u001b[49m\u001b[43m \u001b[49m\n",
      "\u001b[1;32m     14\u001b[0m \u001b[43m        \u001b[49m\u001b[43mX_normalized\u001b[49m\u001b[43m,\u001b[49m\u001b[43m \u001b[49m\u001b[43my_normalized\u001b[49m\u001b[43m,\u001b[49m\u001b[43m \u001b[49m\n",
      "\u001b[1;32m     15\u001b[0m \u001b[43m        \u001b[49m\u001b[43mreturns\u001b[49m\u001b[43m,\u001b[49m\u001b[43m \u001b[49m\n",
      "\u001b[1;32m     16\u001b[0m \u001b[43m        \u001b[49m\u001b[43mtrain_size\u001b[49m\u001b[43m,\u001b[49m\u001b[43m \u001b[49m\u001b[43mtest_size\u001b[49m\u001b[43m,\u001b[49m\u001b[43m \u001b[49m\n",
      "\u001b[1;32m     17\u001b[0m \u001b[43m        \u001b[49m\u001b[43mscaler_y\u001b[49m\u001b[38;5;241;43m=\u001b[39;49m\u001b[43mscaler_y\u001b[49m\u001b[43m,\u001b[49m\n",
      "\u001b[1;32m     18\u001b[0m \u001b[43m        \u001b[49m\u001b[43mepochs\u001b[49m\u001b[38;5;241;43m=\u001b[39;49m\u001b[38;5;241;43m100\u001b[39;49m\n",
      "\u001b[1;32m     19\u001b[0m \u001b[43m    \u001b[49m\u001b[43m)\u001b[49m\n",
      "\u001b[1;32m     20\u001b[0m     \u001b[38;5;28mprint\u001b[39m(\u001b[38;5;124mf\u001b[39m\u001b[38;5;124m\"\u001b[39m\u001b[38;5;124mNonlinearity: \u001b[39m\u001b[38;5;132;01m{\u001b[39;00mnonlinearity\u001b[38;5;132;01m}\u001b[39;00m\u001b[38;5;124m, Hidden Size: \u001b[39m\u001b[38;5;132;01m{\u001b[39;00mhidden_size\u001b[38;5;132;01m}\u001b[39;00m\u001b[38;5;124m, Num Layers: \u001b[39m\u001b[38;5;132;01m{\u001b[39;00mnum_layers\u001b[38;5;132;01m}\u001b[39;00m\u001b[38;5;124m\"\u001b[39m)\n",
      "\u001b[1;32m     21\u001b[0m     \u001b[38;5;28mprint\u001b[39m(\u001b[38;5;124mf\u001b[39m\u001b[38;5;124m\"\u001b[39m\u001b[38;5;124mRNN RMSE: \u001b[39m\u001b[38;5;132;01m{\u001b[39;00mrnn_rmse\u001b[38;5;132;01m}\u001b[39;00m\u001b[38;5;124m\"\u001b[39m)\n",
      "\n",
      "Cell \u001b[0;32mIn[121], line 24\u001b[0m, in \u001b[0;36mevaluate_model\u001b[0;34m(model, X, y, returns, train_size, test_size, scaler_y, epochs)\u001b[0m\n",
      "\u001b[1;32m     23\u001b[0m \u001b[38;5;28;01mdef\u001b[39;00m \u001b[38;5;21mevaluate_model\u001b[39m(model, X, y, returns, train_size, test_size, scaler_y\u001b[38;5;241m=\u001b[39m\u001b[38;5;28;01mNone\u001b[39;00m, epochs\u001b[38;5;241m=\u001b[39m\u001b[38;5;241m50\u001b[39m):\n",
      "\u001b[0;32m---> 24\u001b[0m     \u001b[43mmodel\u001b[49m\u001b[38;5;241;43m.\u001b[39;49m\u001b[43mfit\u001b[49m\u001b[43m(\u001b[49m\u001b[43mX\u001b[49m\u001b[43m[\u001b[49m\u001b[43m:\u001b[49m\u001b[43mtrain_size\u001b[49m\u001b[43m]\u001b[49m\u001b[43m,\u001b[49m\u001b[43m \u001b[49m\u001b[43my\u001b[49m\u001b[43m[\u001b[49m\u001b[43m:\u001b[49m\u001b[43mtrain_size\u001b[49m\u001b[43m]\u001b[49m\u001b[43m,\u001b[49m\u001b[43m \u001b[49m\u001b[43mreturns\u001b[49m\u001b[43m[\u001b[49m\u001b[43m:\u001b[49m\u001b[43mtrain_size\u001b[49m\u001b[43m]\u001b[49m\u001b[43m,\u001b[49m\u001b[43m \u001b[49m\u001b[38;5;241;43m0\u001b[39;49m\u001b[43m,\u001b[49m\u001b[43m \u001b[49m\u001b[43mtrain_size\u001b[49m\u001b[43m,\u001b[49m\u001b[43m \u001b[49m\u001b[43mepochs\u001b[49m\u001b[38;5;241;43m=\u001b[39;49m\u001b[43mepochs\u001b[49m\u001b[43m)\u001b[49m\n",
      "\u001b[1;32m     25\u001b[0m     predictions \u001b[38;5;241m=\u001b[39m model\u001b[38;5;241m.\u001b[39mpredict(X, returns)\n",
      "\u001b[1;32m     26\u001b[0m     \u001b[38;5;28;01mif\u001b[39;00m scaler_y \u001b[38;5;129;01mis\u001b[39;00m \u001b[38;5;129;01mnot\u001b[39;00m \u001b[38;5;28;01mNone\u001b[39;00m:\n",
      "\n",
      "File \u001b[0;32m~/Github/volatility-forecast/volatility_forecast/model/neural_network_model.py:34\u001b[0m, in \u001b[0;36mBaseNNVolatilityModel.fit\u001b[0;34m(self, X, y, returns, start_index, end_index, epochs)\u001b[0m\n",
      "\u001b[1;32m     32\u001b[0m     output \u001b[38;5;241m=\u001b[39m \u001b[38;5;28mself\u001b[39m(X_tensor)\n",
      "\u001b[1;32m     33\u001b[0m     loss \u001b[38;5;241m=\u001b[39m criterion(output, y_tensor)\n",
      "\u001b[0;32m---> 34\u001b[0m     \u001b[43mloss\u001b[49m\u001b[38;5;241;43m.\u001b[39;49m\u001b[43mbackward\u001b[49m\u001b[43m(\u001b[49m\u001b[43m)\u001b[49m\n",
      "\u001b[1;32m     35\u001b[0m     optimizer\u001b[38;5;241m.\u001b[39mstep()\n",
      "\u001b[1;32m     37\u001b[0m \u001b[38;5;28;01mreturn\u001b[39;00m \u001b[38;5;28mself\u001b[39m\n",
      "\n",
      "File \u001b[0;32m/opt/homebrew/Caskroom/miniforge/base/envs/ml_env/lib/python3.10/site-packages/torch/_tensor.py:521\u001b[0m, in \u001b[0;36mTensor.backward\u001b[0;34m(self, gradient, retain_graph, create_graph, inputs)\u001b[0m\n",
      "\u001b[1;32m    511\u001b[0m \u001b[38;5;28;01mif\u001b[39;00m has_torch_function_unary(\u001b[38;5;28mself\u001b[39m):\n",
      "\u001b[1;32m    512\u001b[0m     \u001b[38;5;28;01mreturn\u001b[39;00m handle_torch_function(\n",
      "\u001b[1;32m    513\u001b[0m         Tensor\u001b[38;5;241m.\u001b[39mbackward,\n",
      "\u001b[1;32m    514\u001b[0m         (\u001b[38;5;28mself\u001b[39m,),\n",
      "\u001b[0;32m   (...)\u001b[0m\n",
      "\u001b[1;32m    519\u001b[0m         inputs\u001b[38;5;241m=\u001b[39minputs,\n",
      "\u001b[1;32m    520\u001b[0m     )\n",
      "\u001b[0;32m--> 521\u001b[0m \u001b[43mtorch\u001b[49m\u001b[38;5;241;43m.\u001b[39;49m\u001b[43mautograd\u001b[49m\u001b[38;5;241;43m.\u001b[39;49m\u001b[43mbackward\u001b[49m\u001b[43m(\u001b[49m\n",
      "\u001b[1;32m    522\u001b[0m \u001b[43m    \u001b[49m\u001b[38;5;28;43mself\u001b[39;49m\u001b[43m,\u001b[49m\u001b[43m \u001b[49m\u001b[43mgradient\u001b[49m\u001b[43m,\u001b[49m\u001b[43m \u001b[49m\u001b[43mretain_graph\u001b[49m\u001b[43m,\u001b[49m\u001b[43m \u001b[49m\u001b[43mcreate_graph\u001b[49m\u001b[43m,\u001b[49m\u001b[43m \u001b[49m\u001b[43minputs\u001b[49m\u001b[38;5;241;43m=\u001b[39;49m\u001b[43minputs\u001b[49m\n",
      "\u001b[1;32m    523\u001b[0m \u001b[43m\u001b[49m\u001b[43m)\u001b[49m\n",
      "\n",
      "File \u001b[0;32m/opt/homebrew/Caskroom/miniforge/base/envs/ml_env/lib/python3.10/site-packages/torch/autograd/__init__.py:289\u001b[0m, in \u001b[0;36mbackward\u001b[0;34m(tensors, grad_tensors, retain_graph, create_graph, grad_variables, inputs)\u001b[0m\n",
      "\u001b[1;32m    284\u001b[0m     retain_graph \u001b[38;5;241m=\u001b[39m create_graph\n",
      "\u001b[1;32m    286\u001b[0m \u001b[38;5;66;03m# The reason we repeat the same comment below is that\u001b[39;00m\n",
      "\u001b[1;32m    287\u001b[0m \u001b[38;5;66;03m# some Python versions print out the first line of a multi-line function\u001b[39;00m\n",
      "\u001b[1;32m    288\u001b[0m \u001b[38;5;66;03m# calls in the traceback and some print out the last line\u001b[39;00m\n",
      "\u001b[0;32m--> 289\u001b[0m \u001b[43m_engine_run_backward\u001b[49m\u001b[43m(\u001b[49m\n",
      "\u001b[1;32m    290\u001b[0m \u001b[43m    \u001b[49m\u001b[43mtensors\u001b[49m\u001b[43m,\u001b[49m\n",
      "\u001b[1;32m    291\u001b[0m \u001b[43m    \u001b[49m\u001b[43mgrad_tensors_\u001b[49m\u001b[43m,\u001b[49m\n",
      "\u001b[1;32m    292\u001b[0m \u001b[43m    \u001b[49m\u001b[43mretain_graph\u001b[49m\u001b[43m,\u001b[49m\n",
      "\u001b[1;32m    293\u001b[0m \u001b[43m    \u001b[49m\u001b[43mcreate_graph\u001b[49m\u001b[43m,\u001b[49m\n",
      "\u001b[1;32m    294\u001b[0m \u001b[43m    \u001b[49m\u001b[43minputs\u001b[49m\u001b[43m,\u001b[49m\n",
      "\u001b[1;32m    295\u001b[0m \u001b[43m    \u001b[49m\u001b[43mallow_unreachable\u001b[49m\u001b[38;5;241;43m=\u001b[39;49m\u001b[38;5;28;43;01mTrue\u001b[39;49;00m\u001b[43m,\u001b[49m\n",
      "\u001b[1;32m    296\u001b[0m \u001b[43m    \u001b[49m\u001b[43maccumulate_grad\u001b[49m\u001b[38;5;241;43m=\u001b[39;49m\u001b[38;5;28;43;01mTrue\u001b[39;49;00m\u001b[43m,\u001b[49m\n",
      "\u001b[1;32m    297\u001b[0m \u001b[43m\u001b[49m\u001b[43m)\u001b[49m\n",
      "\n",
      "File \u001b[0;32m/opt/homebrew/Caskroom/miniforge/base/envs/ml_env/lib/python3.10/site-packages/torch/autograd/graph.py:768\u001b[0m, in \u001b[0;36m_engine_run_backward\u001b[0;34m(t_outputs, *args, **kwargs)\u001b[0m\n",
      "\u001b[1;32m    766\u001b[0m     unregister_hooks \u001b[38;5;241m=\u001b[39m _register_logging_hooks_on_whole_graph(t_outputs)\n",
      "\u001b[1;32m    767\u001b[0m \u001b[38;5;28;01mtry\u001b[39;00m:\n",
      "\u001b[0;32m--> 768\u001b[0m     \u001b[38;5;28;01mreturn\u001b[39;00m \u001b[43mVariable\u001b[49m\u001b[38;5;241;43m.\u001b[39;49m\u001b[43m_execution_engine\u001b[49m\u001b[38;5;241;43m.\u001b[39;49m\u001b[43mrun_backward\u001b[49m\u001b[43m(\u001b[49m\u001b[43m  \u001b[49m\u001b[38;5;66;43;03m# Calls into the C++ engine to run the backward pass\u001b[39;49;00m\n",
      "\u001b[1;32m    769\u001b[0m \u001b[43m        \u001b[49m\u001b[43mt_outputs\u001b[49m\u001b[43m,\u001b[49m\u001b[43m \u001b[49m\u001b[38;5;241;43m*\u001b[39;49m\u001b[43margs\u001b[49m\u001b[43m,\u001b[49m\u001b[43m \u001b[49m\u001b[38;5;241;43m*\u001b[39;49m\u001b[38;5;241;43m*\u001b[39;49m\u001b[43mkwargs\u001b[49m\n",
      "\u001b[1;32m    770\u001b[0m \u001b[43m    \u001b[49m\u001b[43m)\u001b[49m  \u001b[38;5;66;03m# Calls into the C++ engine to run the backward pass\u001b[39;00m\n",
      "\u001b[1;32m    771\u001b[0m \u001b[38;5;28;01mfinally\u001b[39;00m:\n",
      "\u001b[1;32m    772\u001b[0m     \u001b[38;5;28;01mif\u001b[39;00m attach_logging_hooks:\n",
      "\n",
      "\u001b[0;31mKeyboardInterrupt\u001b[0m: "
     ]
    }
   ],
   "source": [
    "# RNN Model\n",
    "for nonlinearity in [\"tanh\", \"relu\"]:\n",
    "    for hidden_size in [2, 8, 16, 32]:\n",
    "        for num_layers in [1, 3, 5]:\n",
    "            rnn_model = RNNVolatilityModel(\n",
    "                input_size=X.shape[1], \n",
    "                hidden_size=hidden_size, \n",
    "                num_layers=num_layers, \n",
    "                dropout=0.2,\n",
    "                nonlinearity=nonlinearity\n",
    "            )\n",
    "            rnn_rmse = evaluate_model(\n",
    "                rnn_model, \n",
    "                X_normalized, y_normalized, \n",
    "                returns, \n",
    "                train_size, test_size, \n",
    "                scaler_y=scaler_y,\n",
    "                epochs=100\n",
    "            )\n",
    "            print(f\"Nonlinearity: {nonlinearity}, Hidden Size: {hidden_size}, Num Layers: {num_layers}\")\n",
    "            print(f\"RNN RMSE: {rnn_rmse}\")\n"
   ]
  }
 ],
 "metadata": {
  "kernelspec": {
   "display_name": "ml_env",
   "language": "python",
   "name": "python3"
  },
  "language_info": {
   "codemirror_mode": {
    "name": "ipython",
    "version": 3
   },
   "file_extension": ".py",
   "mimetype": "text/x-python",
   "name": "python",
   "nbconvert_exporter": "python",
   "pygments_lexer": "ipython3",
   "version": "3.10.14"
  }
 },
 "nbformat": 4,
 "nbformat_minor": 2
}
