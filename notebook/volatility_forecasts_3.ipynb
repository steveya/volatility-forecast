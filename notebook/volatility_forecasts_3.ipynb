{
 "cells": [
  {
   "cell_type": "markdown",
   "metadata": {},
   "source": [
    "# Volatility Forecasts (Part 3 - From STES to Neural Networks)\n",
    "\n",
    "This notebook demonstrates the implementation of the generalization of the Smooth Transition Exponential Smoothing (STES) model using Neural Networks.\n",
    "This notebook corresponds to the blog series [Volatility Forecasts (Part 3 - XGBoost-STES)](https://steveya.github.io/2024/07/12/volatility-forecast-3.html). "
   ]
  },
  {
   "cell_type": "code",
   "execution_count": 21,
   "metadata": {},
   "outputs": [
    {
     "name": "stdout",
     "output_type": "stream",
     "text": [
      "The autoreload extension is already loaded. To reload it, use:\n",
      "  %reload_ext autoreload\n"
     ]
    }
   ],
   "source": [
    "%load_ext autoreload\n",
    "%autoreload 2\n",
    "\n",
    "import sys\n",
    "import os\n",
    "project_dir = os.path.abspath('..')\n",
    "sys.path.insert(0, project_dir)\n",
    "\n",
    "import numpy as np\n",
    "import pandas as pd\n",
    "from sklearn.preprocessing import StandardScaler\n",
    "from sklearn.metrics import mean_squared_error\n",
    "from typing import Tuple\n",
    "from matplotlib import pyplot as plt\n",
    "\n",
    "from volatility_forecast.data.datamanager import (\n",
    "    LagReturnDataManager,\n",
    "    LagAbsReturnDataManager, \n",
    "    LagSquareReturnDataManager,\n",
    "    SquareReturnDataManager,\n",
    ")\n",
    "from volatility_forecast.model.stes_model import STESModel\n",
    "from volatility_forecast.model.neural_network_model import RNNVolatilityModel\n",
    "from volatility_forecast.model.neural_network_model import GRUVolatilityModel\n"
   ]
  },
  {
   "cell_type": "code",
   "execution_count": 10,
   "metadata": {},
   "outputs": [],
   "source": [
    "\n",
    "# Data preparation function\n",
    "def prepare_data(tickers: Tuple[str], start_date: str, end_date: str):\n",
    "    returns = LagReturnDataManager().get_data(tickers, start_date, end_date)[0] * 1e2\n",
    "    realized_var = SquareReturnDataManager().get_data(tickers, start_date, end_date)[0] * 1e4\n",
    "    feature_sets = np.hstack([\n",
    "        np.ones((len(returns), 1)),\n",
    "        LagReturnDataManager().get_data(tickers, start_date, end_date)[0] * 1e2,\n",
    "        LagAbsReturnDataManager().get_data(tickers, start_date, end_date)[0] * 1e2,\n",
    "        LagSquareReturnDataManager().get_data(tickers, start_date, end_date)[0] * 1e4,\n",
    "    ])\n",
    "    return feature_sets, realized_var, returns\n",
    "\n",
    "# Data normalization\n",
    "def normalize_data(X, y):\n",
    "    scaler_X = StandardScaler()\n",
    "    scaler_y = StandardScaler()\n",
    "    X_normalized = scaler_X.fit_transform(X)\n",
    "    y_normalized = scaler_y.fit_transform(y.reshape(-1, 1)).flatten()\n",
    "    return X_normalized, y_normalized, scaler_X, scaler_y\n",
    "\n",
    "# Model evaluation function\n",
    "def evaluate_model(model, X, y, returns, train_size, test_size, **kwargs):\n",
    "    model.fit(X[:train_size], y[:train_size], returns=returns[:train_size], start_index=0, end_index=train_size, **kwargs)\n",
    "    predictions = model.predict(X[train_size:train_size+test_size], returns=returns[train_size:train_size+test_size])\n",
    "    rmse = np.sqrt(mean_squared_error(y[train_size:train_size+test_size], predictions))\n",
    "    return rmse\n"
   ]
  },
  {
   "cell_type": "code",
   "execution_count": 3,
   "metadata": {},
   "outputs": [],
   "source": [
    "# Main execution\n",
    "tickers = (\"SPY\",)\n",
    "start_date = \"2000-01-01\"\n",
    "end_date = \"2023-12-31\"\n",
    "\n",
    "X, y, returns = prepare_data(tickers, start_date, end_date)\n",
    "X_normalized, y_normalized, scaler_X, scaler_y = normalize_data(X, y)\n",
    "\n",
    "train_size = 4000\n",
    "test_size = 1000\n"
   ]
  },
  {
   "cell_type": "code",
   "execution_count": 4,
   "metadata": {},
   "outputs": [
    {
     "name": "stdout",
     "output_type": "stream",
     "text": [
      "STES RMSE: 1.6432506654016714\n"
     ]
    }
   ],
   "source": [
    "\n",
    "\n",
    "# STES Model\n",
    "stes_model = STESModel()\n",
    "stes_rmse = evaluate_model(stes_model, X, y, returns=returns, train_size=train_size, test_size=test_size)\n",
    "print(f\"STES RMSE: {stes_rmse}\")\n"
   ]
  },
  {
   "cell_type": "code",
   "execution_count": 5,
   "metadata": {},
   "outputs": [
    {
     "data": {
      "text/plain": [
       "(6037, 1)"
      ]
     },
     "execution_count": 5,
     "metadata": {},
     "output_type": "execute_result"
    }
   ],
   "source": [
    "y.shape"
   ]
  },
  {
   "cell_type": "code",
   "execution_count": 22,
   "metadata": {},
   "outputs": [
    {
     "name": "stdout",
     "output_type": "stream",
     "text": [
      "Epoch 1/50, Loss: 32.737473\n",
      "Epoch 2/50, Loss: 32.632969\n",
      "Epoch 3/50, Loss: 32.538055\n",
      "Epoch 4/50, Loss: 32.451035\n",
      "Epoch 5/50, Loss: 32.365788\n",
      "Epoch 6/50, Loss: 32.289238\n",
      "Epoch 7/50, Loss: 32.178387\n",
      "Epoch 8/50, Loss: 32.026226\n",
      "Epoch 9/50, Loss: 31.804134\n",
      "Epoch 10/50, Loss: 31.529192\n",
      "Epoch 11/50, Loss: 31.229395\n",
      "Epoch 12/50, Loss: 30.983040\n",
      "Epoch 13/50, Loss: 30.919092\n",
      "Epoch 14/50, Loss: 30.978439\n",
      "Epoch 15/50, Loss: 30.942129\n",
      "Epoch 16/50, Loss: 30.657061\n",
      "Epoch 17/50, Loss: 30.186312\n",
      "Epoch 18/50, Loss: 29.869221\n",
      "Epoch 19/50, Loss: 29.924990\n",
      "Epoch 20/50, Loss: 30.151842\n",
      "Epoch 21/50, Loss: 30.380230\n",
      "Epoch 22/50, Loss: 30.158300\n",
      "Epoch 23/50, Loss: 29.422689\n",
      "Epoch 24/50, Loss: 28.681631\n",
      "Epoch 25/50, Loss: 28.585585\n",
      "Epoch 26/50, Loss: 29.296450\n",
      "Epoch 27/50, Loss: 29.637802\n",
      "Epoch 28/50, Loss: 29.013700\n",
      "Epoch 29/50, Loss: 27.920252\n",
      "Epoch 30/50, Loss: 28.381618\n",
      "Epoch 31/50, Loss: 29.813927\n",
      "Epoch 32/50, Loss: 29.861073\n",
      "Epoch 33/50, Loss: 29.820671\n",
      "Epoch 34/50, Loss: 29.703205\n",
      "Epoch 35/50, Loss: 29.517143\n",
      "Epoch 36/50, Loss: 29.268627\n",
      "Epoch 37/50, Loss: 28.957949\n",
      "Epoch 38/50, Loss: 28.597672\n",
      "Epoch 39/50, Loss: 28.262310\n",
      "Epoch 40/50, Loss: 27.977259\n",
      "Epoch 41/50, Loss: 27.765898\n",
      "Epoch 42/50, Loss: 27.645782\n",
      "Epoch 43/50, Loss: 27.620098\n",
      "Epoch 44/50, Loss: 27.652117\n",
      "Epoch 45/50, Loss: 27.702177\n",
      "Epoch 46/50, Loss: 27.743404\n",
      "Epoch 47/50, Loss: 27.755440\n",
      "Epoch 48/50, Loss: 27.733034\n",
      "Epoch 49/50, Loss: 27.685732\n",
      "Epoch 50/50, Loss: 27.628883\n",
      "RNN RMSE: 1.6164146886830084\n"
     ]
    }
   ],
   "source": [
    "\n",
    "rnn_model = RNNVolatilityModel(input_size=X.shape[1], hidden_size=1)\n",
    "rnn_rmse = evaluate_model(rnn_model, X, y, returns, train_size, test_size, learning_rate=0.1)\n",
    "print(f\"RNN RMSE: {rnn_rmse}\")\n",
    "\n"
   ]
  },
  {
   "cell_type": "code",
   "execution_count": 29,
   "metadata": {},
   "outputs": [
    {
     "data": {
      "text/plain": [
       "[Parameter containing:\n",
       " tensor([[ 0.7106,  0.2993, -0.3132, -0.7592]], device='mps:0',\n",
       "        requires_grad=True),\n",
       " Parameter containing:\n",
       " tensor([[-0.2235]], device='mps:0', requires_grad=True),\n",
       " Parameter containing:\n",
       " tensor([[0.0084]], device='mps:0', requires_grad=True),\n",
       " Parameter containing:\n",
       " tensor([0.9662], device='mps:0', requires_grad=True)]"
      ]
     },
     "execution_count": 29,
     "metadata": {},
     "output_type": "execute_result"
    }
   ],
   "source": [
    "list(rnn_model.parameters())"
   ]
  },
  {
   "cell_type": "code",
   "execution_count": null,
   "metadata": {},
   "outputs": [
    {
     "name": "stdout",
     "output_type": "stream",
     "text": [
      "RNN RMSE: 3.4246879243225017\n"
     ]
    }
   ],
   "source": [
    "\n",
    "rnn_model = RNNVolatilityModel(input_size=X.shape[1], hidden_size=3)\n",
    "rnn_rmse = evaluate_model(rnn_model, X, y, returns, train_size, test_size, learning_rate=0.1)\n",
    "print(f\"RNN RMSE: {rnn_rmse}\")\n",
    "\n"
   ]
  },
  {
   "cell_type": "code",
   "execution_count": 27,
   "metadata": {},
   "outputs": [
    {
     "ename": "TypeError",
     "evalue": "super(type, obj): obj must be an instance or subtype of type",
     "output_type": "error",
     "traceback": [
      "\u001b[0;31m---------------------------------------------------------------------------\u001b[0m",
      "\u001b[0;31mTypeError\u001b[0m                                 Traceback (most recent call last)",
      "Cell \u001b[0;32mIn[27], line 2\u001b[0m\n\u001b[1;32m      1\u001b[0m \u001b[38;5;66;03m# GRU Model\u001b[39;00m\n\u001b[0;32m----> 2\u001b[0m gru_model \u001b[38;5;241m=\u001b[39m \u001b[43mGRUVolatilityModel\u001b[49m\u001b[43m(\u001b[49m\u001b[43minput_size\u001b[49m\u001b[38;5;241;43m=\u001b[39;49m\u001b[43mX\u001b[49m\u001b[38;5;241;43m.\u001b[39;49m\u001b[43mshape\u001b[49m\u001b[43m[\u001b[49m\u001b[38;5;241;43m1\u001b[39;49m\u001b[43m]\u001b[49m\u001b[43m,\u001b[49m\u001b[43m \u001b[49m\u001b[43mhidden_size\u001b[49m\u001b[38;5;241;43m=\u001b[39;49m\u001b[38;5;241;43m32\u001b[39;49m\u001b[43m)\u001b[49m\n\u001b[1;32m      3\u001b[0m gru_rmse \u001b[38;5;241m=\u001b[39m evaluate_model(gru_model, X, y, returns, train_size, test_size, learning_rate\u001b[38;5;241m=\u001b[39m\u001b[38;5;241m0.1\u001b[39m)\n\u001b[1;32m      4\u001b[0m \u001b[38;5;28mprint\u001b[39m(\u001b[38;5;124mf\u001b[39m\u001b[38;5;124m\"\u001b[39m\u001b[38;5;124mGRU RMSE: \u001b[39m\u001b[38;5;132;01m{\u001b[39;00mgru_rmse\u001b[38;5;132;01m}\u001b[39;00m\u001b[38;5;124m\"\u001b[39m)\n",
      "File \u001b[0;32m~/Projects/Github/volatility-forecast/volatility_forecast/model/neural_network_model.py:142\u001b[0m, in \u001b[0;36mGRUVolatilityModel.__init__\u001b[0;34m(self, input_size, hidden_size, num_layers, dropout, bias, max_grad_norm)\u001b[0m\n\u001b[1;32m    133\u001b[0m \u001b[38;5;28;01mdef\u001b[39;00m \u001b[38;5;21m__init__\u001b[39m(\n\u001b[1;32m    134\u001b[0m     \u001b[38;5;28mself\u001b[39m,\n\u001b[1;32m    135\u001b[0m     input_size,\n\u001b[0;32m   (...)\u001b[0m\n\u001b[1;32m    140\u001b[0m     max_grad_norm\u001b[38;5;241m=\u001b[39m\u001b[38;5;241m1\u001b[39m,\n\u001b[1;32m    141\u001b[0m ):\n\u001b[0;32m--> 142\u001b[0m     \u001b[38;5;28;43msuper\u001b[39;49m\u001b[43m(\u001b[49m\u001b[43mGRUVolatilityModel\u001b[49m\u001b[43m,\u001b[49m\u001b[43m \u001b[49m\u001b[38;5;28;43mself\u001b[39;49m\u001b[43m)\u001b[49m\u001b[38;5;241m.\u001b[39m\u001b[38;5;21m__init__\u001b[39m(max_grad_norm)\n\u001b[1;32m    143\u001b[0m     \u001b[38;5;28mself\u001b[39m\u001b[38;5;241m.\u001b[39mgru \u001b[38;5;241m=\u001b[39m nn\u001b[38;5;241m.\u001b[39mGRU(\n\u001b[1;32m    144\u001b[0m         input_size,\n\u001b[1;32m    145\u001b[0m         hidden_size,\n\u001b[0;32m   (...)\u001b[0m\n\u001b[1;32m    149\u001b[0m         bias\u001b[38;5;241m=\u001b[39mbias,\n\u001b[1;32m    150\u001b[0m     )\n\u001b[1;32m    151\u001b[0m     \u001b[38;5;28mself\u001b[39m\u001b[38;5;241m.\u001b[39mfc \u001b[38;5;241m=\u001b[39m nn\u001b[38;5;241m.\u001b[39mLinear(hidden_size, \u001b[38;5;241m1\u001b[39m)\n",
      "\u001b[0;31mTypeError\u001b[0m: super(type, obj): obj must be an instance or subtype of type"
     ]
    }
   ],
   "source": [
    "\n",
    "# GRU Model\n",
    "gru_model = GRUVolatilityModel(input_size=X.shape[1], hidden_size=32)\n",
    "gru_rmse = evaluate_model(gru_model, X, y, returns, train_size, test_size, learning_rate=0.1)\n",
    "print(f\"GRU RMSE: {gru_rmse}\")\n",
    "\n"
   ]
  },
  {
   "cell_type": "code",
   "execution_count": 26,
   "metadata": {},
   "outputs": [
    {
     "data": {
      "image/png": "[encoded data removed]",
      "text/plain": [
       "<Figure size 1000x600 with 1 Axes>"
      ]
     },
     "metadata": {},
     "output_type": "display_data"
    }
   ],
   "source": [
    "# plot the predicted volatility from STES and RNN\n",
    "plt.figure(figsize=(10, 6))\n",
    "plt.plot(y)\n",
    "plt.plot(rnn_model.predict(X, returns=returns))\n",
    "#plt.plot(stes_model.predict(X, returns=returns))\n",
    "plt.show()\n"
   ]
  }
 ],
 "metadata": {
  "kernelspec": {
   "display_name": "ml_env",
   "language": "python",
   "name": "python3"
  },
  "language_info": {
   "codemirror_mode": {
    "name": "ipython",
    "version": 3
   },
   "file_extension": ".py",
   "mimetype": "text/x-python",
   "name": "python",
   "nbconvert_exporter": "python",
   "pygments_lexer": "ipython3",
   "version": "3.11.6"
  }
 },
 "nbformat": 4,
 "nbformat_minor": 2
}
