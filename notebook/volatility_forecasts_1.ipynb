{
 "cells": [
  {
   "cell_type": "markdown",
   "metadata": {},
   "source": [
    "## Volatility Forecasts (Part 1 - STES Model)\n",
    "\n",
    "This notebook corresponds to the first post in blog series [Volatility Forecasts (Part 1 - STES Model)](https://steveya.github.io/2024/07/12/volatility-forecast-1.html). The aim is to replicate the STES model as in [(Taylor, 2004)](https://doi.org/10.1016/j.ijforecast.2003.09.010) and [(Liu, Taylor, Choo 2020)](https://doi.org/10.1016/j.econmod.2020.02.021)."
   ]
  },
  {
   "cell_type": "code",
   "execution_count": 1,
   "metadata": {},
   "outputs": [],
   "source": [
    "import numpy as np\n",
    "import pandas as pd\n",
    "from functools import partial\n",
    "from scipy.optimize import minimize, least_squares\n",
    "from scipy.special import expit\n",
    "from matplotlib import pyplot as plt\n",
    "from operator import itemgetter\n",
    "import yfinance as yf\n",
    "import xgboost as xgb\n",
    "import random"
   ]
  },
  {
   "cell_type": "markdown",
   "metadata": {},
   "source": [
    "The code in this section will reproduce Table 1 and Table 2 of the blog post, which implements the Smooth Transition Exponential Smoothing (STES) model in [(Taylor, 2004)](https://doi.org/10.1016/j.ijforecast.2003.09.010) and further analyzed in [(Liu, Taylor, Choo 2020)](https://doi.org/10.1016/j.econmod.2020.02.021)\n",
    "\n",
    "The `simulated_contaminated_garch` function implements the simulation used in Liu et al. The rest of this section implements STES on different feature sets and follows the convention used in (Taylor 2004)."
   ]
  },
  {
   "cell_type": "code",
   "execution_count": 2,
   "metadata": {},
   "outputs": [],
   "source": [
    "def simulate_contaminated_garch(n, mu, omega, alpha, beta, eta):\n",
    "    returns = np.zeros(n)\n",
    "    sigma2s = np.zeros(n)\n",
    "    shocks = (np.random.uniform(0, 1, n) < 0.005).astype(float)\n",
    "    for t in range(1, n):\n",
    "        sigma2s[t] = omega + alpha * returns[t-1]**2 + beta * sigma2s[t-1]\n",
    "        returns[t] = np.random.normal(mu, np.sqrt(sigma2s[t])) + eta * shocks[t]\n",
    "\n",
    "    return returns, sigma2s"
   ]
  },
  {
   "cell_type": "code",
   "execution_count": 3,
   "metadata": {},
   "outputs": [],
   "source": [
    "def stes_template(params, returns, features_func):\n",
    "    \"\"\"\n",
    "    This function generates the variance forecasts and the \n",
    "    alphas for each time step using the STES model.\n",
    "\n",
    "    Parameters\n",
    "    ----------\n",
    "    params : numpy.ndarray\n",
    "        The parameters of the STES model.\n",
    "    returns : numpy.ndarray\n",
    "        The returns of the time series.\n",
    "    features_func : list\n",
    "        A list of functions that extract features from the returns.\n",
    "\n",
    "    Returns\n",
    "    -------\n",
    "    sigma2s : numpy.ndarray\n",
    "        The variance forecasts.\n",
    "    alphas : numpy.ndarray\n",
    "        The alphas for each time step.\n",
    "    \"\"\"\n",
    "    assert len(params) == len(features_func)\n",
    "    n = len(returns)\n",
    "    sigma2s = np.zeros(n)\n",
    "    alphas = np.zeros(n)\n",
    "    for t in range(1, n):\n",
    "        features = np.array([f(returns[t-1]) for f in features_func])\n",
    "        alpha = expit(params @ features)\n",
    "        alphas[t-1] = alpha\n",
    "        sigma2s[t] = (1 - alphas[t-1]) * sigma2s[t-1] + alphas[t-1] * returns[t-1]**2\n",
    "\n",
    "    return sigma2s, alphas\n"
   ]
  },
  {
   "cell_type": "code",
   "execution_count": 4,
   "metadata": {},
   "outputs": [],
   "source": [
    "# feature functions used in the `feature_func` argument of `stes_template``\n",
    "const = lambda _: 1\n",
    "abs_x = np.abs\n",
    "sqr_x = lambda x: x**2\n",
    "id_x = lambda x: x"
   ]
  },
  {
   "cell_type": "markdown",
   "metadata": {},
   "source": [
    "We use the above `stes_template` function to define the set of STES models used in (Taylor, 2004)."
   ]
  },
  {
   "cell_type": "code",
   "execution_count": 5,
   "metadata": {},
   "outputs": [],
   "source": [
    "# building all the STES models (with ES being a special case)\n",
    "es = partial(stes_template, features_func=(const,)) \n",
    "stes_ae = partial(stes_template, features_func=(const, abs_x))\n",
    "stes_se = partial(stes_template, features_func=(const, sqr_x))\n",
    "stes_eae = partial(stes_template, features_func=(const, abs_x, id_x))\n",
    "stes_ese = partial(stes_template, features_func=(const, sqr_x, id_x))\n",
    "stes_aese = partial(stes_template, features_func=(const, abs_x, sqr_x))\n",
    "stes_eaese = partial(stes_template, features_func=(const, id_x, abs_x, sqr_x))"
   ]
  },
  {
   "cell_type": "markdown",
   "metadata": {},
   "source": [
    "We also define loss of each observation as the squared of the forecasting error. We also define two metrics that help us compute root mean squared error (`rmse_metric`) and negative log-likelihood (`nllh_metric`)."
   ]
  },
  {
   "cell_type": "code",
   "execution_count": 6,
   "metadata": {},
   "outputs": [],
   "source": [
    "def squared_residual(params, model, returns, is_index=500, os_index=2000):\n",
    "    sigma2s, _ = model(params, returns)\n",
    "    sse = (returns ** 2 - sigma2s)\n",
    "    residual = sse[is_index:os_index]\n",
    "    return residual\n",
    "\n",
    "def rmse_metric(model, params, returns, is_index=500, os_index=2000):\n",
    "    sigma2s, alphas = model(params, returns)\n",
    "    \n",
    "    sse = (returns ** 2 - sigma2s) ** 2\n",
    "    is_rmse = np.sqrt(np.mean(sse[is_index:os_index]))\n",
    "    os_rmse = np.sqrt(np.mean(sse[os_index:]))\n",
    "    return is_rmse, os_rmse, sigma2s, alphas\n",
    "\n",
    "def nllh_metric(model, params, returns, is_index=500, os_index=2000):\n",
    "    sigma2s, alphas = model(params, returns)\n",
    "   \n",
    "    llh = -np.log(sigma2s[2:]) - (returns[2:] ** 2 / sigma2s[2:])\n",
    "    is_nllh = -np.sum(llh[is_index:os_index])\n",
    "    os_nllh = -np.sum(llh[os_index:])\n",
    "    return is_nllh, os_nllh, sigma2s, alphas"
   ]
  },
  {
   "cell_type": "markdown",
   "metadata": {},
   "source": [
    "I tested two ways to optimize the parameters of the general stes model. The first is to directly compute the root mean squared error (RMSE) from `rmse_metric` function, take the first output `is_rmse`, and use  `scipy.optimize.minimize` to find the optimal parameters. The second is to compute the residuals from `squared_residual` and then use `scipy.optimize.least_squares` to find the optimal parameters. I initialize the initial parameters to the optimizer using random draws from a standard gaussian distribution. \n",
    "\n",
    "I found that the second method is more robust to parameters initialization. Below are the expeiment fitting the `stes_ae` model using the two approaches with 10 random initialization."
   ]
  },
  {
   "cell_type": "code",
   "execution_count": 15,
   "metadata": {},
   "outputs": [],
   "source": [
    "def fit_model_minimize(model, param_dim, returns, is_index=500, os_index=2000):\n",
    "    initial_params = np.random.normal(0, 1, size=param_dim)\n",
    "    obj_func_inner = lambda *args, **kwargs: itemgetter(0)(partial(rmse_metric, model)(*args, **kwargs))\n",
    "    result = minimize(obj_func_inner, initial_params, args=(returns, is_index, os_index), method = 'SLSQP')\n",
    "    \n",
    "    if not result.success:\n",
    "        raise ValueError(\"Optimization failed: \" + result.message)\n",
    "    \n",
    "    is_mse, os_mse, sigmas, alphas = rmse_metric(model,result.x, returns, is_index, os_index)\n",
    "    is_llh, os_llh, _, _ = nllh_metric(model, result.x, returns, is_index, os_index)\n",
    "    return (result.x, os_mse, os_llh, sigmas, alphas, is_mse, is_llh)\n",
    "\n",
    "def fit_model_least_square(model, param_dim, returns, is_index=500, os_index=2000):\n",
    "    initial_params = np.random.normal(0, 1, size=param_dim)\n",
    "    obj_func_inner = partial(squared_residual, model=model, returns=returns, is_index=is_index, os_index=os_index)\n",
    "    result = least_squares(obj_func_inner, initial_params)\n",
    "    \n",
    "    if not result.success:\n",
    "        raise ValueError(\"Optimization failed: \" + result.message)\n",
    "    \n",
    "    is_mse, os_mse, sigmas, alphas = rmse_metric(model,result.x, returns, is_index, os_index)\n",
    "    is_llh, os_llh, _, _ = nllh_metric(model, result.x, returns, is_index, os_index)\n",
    "    return (result.x, os_mse, os_llh, sigmas, alphas, is_mse, is_llh)\n",
    "\n",
    "fit_es_minimize = partial(fit_model_minimize, model=es, param_dim=1)\n",
    "fit_stes_ae_minimize = partial(fit_model_minimize, model=stes_ae, param_dim=2)\n",
    "fit_stes_se_minimize = partial(fit_model_minimize, model=stes_se, param_dim=2)\n",
    "fit_stes_eae_minimize = partial(fit_model_minimize, model=stes_eae, param_dim=3)\n",
    "fit_stes_ese_minimize = partial(fit_model_minimize, model=stes_ese, param_dim=3)\n",
    "fit_stes_aese_minimize = partial(fit_model_minimize, model=stes_aese, param_dim=3)\n",
    "\n",
    "fit_es_least_square = partial(fit_model_least_square, model=es, param_dim=1)\n",
    "fit_stes_ae_least_square = partial(fit_model_least_square, model=stes_ae, param_dim=2)\n",
    "fit_stes_se_least_square = partial(fit_model_least_square, model=stes_se, param_dim=2)\n",
    "fit_stes_ese_least_square = partial(fit_model_least_square, model=stes_ese, param_dim=3)\n",
    "fit_stes_eae_least_square = partial(fit_model_least_square, model=stes_eae, param_dim=3)\n",
    "fit_stes_aese_least_square = partial(fit_model_least_square, model=stes_aese, param_dim=3)\n",
    "fit_stes_eaese_least_square = partial(fit_model_least_square, model=stes_eaese, param_dim=4)\n",
    "\n"
   ]
  },
  {
   "cell_type": "markdown",
   "metadata": {},
   "source": [
    "To demonstrate that the `least_squares` optimizer works better in this case, we fit the same STES model with the same random initialization to a fixed return time series, and assess the stability of the fitted parameters."
   ]
  },
  {
   "cell_type": "code",
   "execution_count": 12,
   "metadata": {},
   "outputs": [],
   "source": [
    "np.random.seed(0)\n",
    "np.random.seed(np.random.randint(0, 1e4, size=1))\n",
    "simulated_garch_return, simulated_garch_var = simulate_contaminated_garch(\n",
    "    n=2500, mu=0, omega=0.02, alpha=0.11, beta=0.87, eta=4\n",
    ")"
   ]
  },
  {
   "cell_type": "code",
   "execution_count": 13,
   "metadata": {},
   "outputs": [
    {
     "data": {
      "text/plain": [
       "array([ 0.        ,  0.18777651,  0.50878377, ..., -1.31751527,\n",
       "        5.95541061, -5.28980025])"
      ]
     },
     "execution_count": 13,
     "metadata": {},
     "output_type": "execute_result"
    }
   ],
   "source": [
    "simulated_garch_return"
   ]
  },
  {
   "cell_type": "code",
   "execution_count": 14,
   "metadata": {},
   "outputs": [
    {
     "name": "stdout",
     "output_type": "stream",
     "text": [
      "[-2.1670995  -0.11246057]\n",
      "[-2.16702008 -0.11246866]\n",
      "[-2.16714041 -0.11245641]\n",
      "[-2.16711731 -0.11245876]\n",
      "[-2.16701855 -0.11246882]\n",
      "[-2.16712513 -0.11245797]\n",
      "[-2.16697288 -0.11247378]\n",
      "[-2.16716552 -0.11245386]\n",
      "[-2.16707807 -0.11246275]\n",
      "[-2.16712244 -0.11245824]\n"
     ]
    }
   ],
   "source": [
    "np.random.seed(0)\n",
    "for _ in range(10):\n",
    "    lss = least_squares(\n",
    "        partial(\n",
    "            squared_residual, \n",
    "            model=stes_ae, \n",
    "            returns=simulated_garch_return\n",
    "        ), x0=np.random.normal(0, 1, 2)) \n",
    "    print(lss.x)"
   ]
  },
  {
   "cell_type": "code",
   "execution_count": 12,
   "metadata": {},
   "outputs": [
    {
     "name": "stdout",
     "output_type": "stream",
     "text": [
      "[-2.16674593 -0.11249054]\n",
      "[-11.80986301 -16.08684575]\n",
      "[-2.1676799  -0.11233752]\n",
      "[-2.1670345  -0.11249873]\n",
      "[-2.16680262 -0.11192826]\n",
      "[-2.16696151 -0.11245809]\n",
      "[-2.1671567  -0.11248048]\n",
      "[-2.16675334 -0.11247579]\n",
      "[-2.16611258 -0.11210408]\n",
      "[-2.16630593 -0.11304955]\n"
     ]
    }
   ],
   "source": [
    "np.random.seed(0)\n",
    "for _ in range(10):\n",
    "    p, _, _, _, _, _, _ = fit_stes_ae_minimize(\n",
    "        returns=simulated_garch_return\n",
    "    )\n",
    "    print(p)"
   ]
  },
  {
   "cell_type": "markdown",
   "metadata": {},
   "source": [
    "Given exact same simualted sequence and random seeds used to gnerate the initial values to the optimizer, the `fit_stest_ae_minimize` function unstable optimas. After some playing around, the `fit_stest_ae_leastsquares` function seems to converge to a stable solution in repeated random runs.\n",
    "\n",
    "Perhaps the `fit_stest_ae_minimize` function can (and should) be further tuned, but the `fit_stest_ae_leastsquares` function seems to converge to a stable solution in repeated random runs without any tuning."
   ]
  },
  {
   "cell_type": "markdown",
   "metadata": {},
   "source": [
    "#### STES and ES Performance on Simulated Contaminated GARCH Data\n",
    "I simulate the contaminated GARCH time series using the same parameters as in the Taylor (2020) paper. I then fit the STES and ES models to the simulated data and measure their performance on the test sample 1-step ahead root mean square forecast error. The results are shown in Table 1."
   ]
  },
  {
   "cell_type": "code",
   "execution_count": 111,
   "metadata": {},
   "outputs": [],
   "source": [
    "stes_ae_os_rmses = []\n",
    "stes_se_os_rmses = []\n",
    "es_os_rmses = []\n",
    "\n",
    "num_runs = 1000\n",
    "np.random.seed(0)\n",
    "rand_seeds = np.random.randint(0, 1e6, size=num_runs)\n",
    "for i in range(num_runs):\n",
    "    np.random.seed(rand_seeds[i])\n",
    "    simulated_garch_return, simulated_garch_var = simulate_contaminated_garch(n=2500, mu=0, omega=0.02, alpha=0.11, beta=0.87, eta=4)\n",
    "    _, os_stes_se_rmse, _, _, _, _, _ = fit_stes_se_least_square(returns=simulated_garch_return)\n",
    "    _, os_stes_ae_rmse, _, _, _, _, _ = fit_stes_ae_least_square(returns=simulated_garch_return)\n",
    "    _,      os_es_rmse,      _, _, _, _, _ = fit_es_least_square(returns=simulated_garch_return)\n",
    "    stes_ae_os_rmses.append(os_stes_ae_rmse)\n",
    "    stes_se_os_rmses.append(os_stes_se_rmse)\n",
    "    es_os_rmses.append(os_es_rmse)\n"
   ]
  },
  {
   "cell_type": "code",
   "execution_count": 112,
   "metadata": {},
   "outputs": [
    {
     "data": {
      "image/png": "[encoded data removed]",
      "text/plain": [
       "<Figure size 640x480 with 1 Axes>"
      ]
     },
     "metadata": {},
     "output_type": "display_data"
    },
    {
     "name": "stdout",
     "output_type": "stream",
     "text": [
      "The mean of RMSE of the STES-AE model is 2.8452412258472464\n",
      "The mean of RMSE of the STES-SE model is 2.8787248873818627\n",
      "The mean of RMSE of the ES model is 2.85216396301645\n"
     ]
    }
   ],
   "source": [
    "plt.hist(stes_ae_os_rmses, bins=50, alpha=0.5, label='STES-AE')\n",
    "plt.hist(stes_se_os_rmses, bins=50, alpha=0.5, label='STES-SE')\n",
    "plt.hist(es_os_rmses, bins=50, alpha=0.5, label='ES')\n",
    "\n",
    "plt.legend()\n",
    "plt.show()\n",
    "\n",
    "print(f\"The mean of RMSE of the STES-AE model is {np.mean(stes_ae_os_rmses)}\")\n",
    "print(f\"The mean of RMSE of the STES-SE model is {np.mean(stes_se_os_rmses)}\")\n",
    "print(f\"The mean of RMSE of the ES model is {np.mean(es_os_rmses)}\")\n"
   ]
  },
  {
   "cell_type": "markdown",
   "metadata": {},
   "source": [
    "#### STES and ES on SPY Data\n",
    "I take the data from 2000 and fit the first 4000 data points (this part deviate from Taylor (2020), where they fit to data up to 2010.) Our test-sample starts from 2015-11-27.\n",
    "\n",
    "The RMSE reported is the average RMST of 100 different random initialization."
   ]
  },
  {
   "cell_type": "code",
   "execution_count": 17,
   "metadata": {},
   "outputs": [
    {
     "name": "stderr",
     "output_type": "stream",
     "text": [
      "[*********************100%%**********************]  1 of 1 completed\n"
     ]
    }
   ],
   "source": [
    "spy_adj_close = yf.download(\"SPY\", start=\"2000-01-01\", end=\"2023-12-31\")\n",
    "spy_log_returns = np.log(spy_adj_close[\"Adj Close\"]).diff().dropna() * 100"
   ]
  },
  {
   "cell_type": "code",
   "execution_count": null,
   "metadata": {},
   "outputs": [
    {
     "name": "stdout",
     "output_type": "stream",
     "text": [
      "SPY daily returns series has length 6036\n",
      "Test data starts from 2015-11-27 00:00:00\n"
     ]
    }
   ],
   "source": [
    "print(f\"SPY daily returns series has length {len(spy_log_returns)}\")\n",
    "print(f\"Test data starts from {spy_log_returns.index[4000]}\")"
   ]
  },
  {
   "cell_type": "code",
   "execution_count": 313,
   "metadata": {},
   "outputs": [],
   "source": [
    "np.random.seed(0)\n",
    "stes_eaese_spy_res = [fit_stes_eaese_least_square(returns=spy_log_returns.to_numpy(), is_index=200, os_index=4000) for _ in range(100)]"
   ]
  },
  {
   "cell_type": "code",
   "execution_count": 314,
   "metadata": {},
   "outputs": [],
   "source": [
    "np.random.seed(0)\n",
    "stes_aese_spy_res = [fit_stes_aese_least_square(returns=spy_log_returns.to_numpy(), is_index=200, os_index=4000) for _ in range(100)]"
   ]
  },
  {
   "cell_type": "code",
   "execution_count": null,
   "metadata": {},
   "outputs": [],
   "source": [
    "np.random.seed(0)\n",
    "stes_eae_spy_res = [fit_stes_eae_least_square(returns=spy_log_returns.to_numpy(), is_index=200, os_index=4000) for _ in range(100)]"
   ]
  },
  {
   "cell_type": "code",
   "execution_count": null,
   "metadata": {},
   "outputs": [],
   "source": [
    "np.random.seed(0)\n",
    "stes_ese_spy_res = [fit_stes_ese_least_square(returns=spy_log_returns.to_numpy(), is_index=200, os_index=4000) for _ in range(100)]"
   ]
  },
  {
   "cell_type": "code",
   "execution_count": null,
   "metadata": {},
   "outputs": [],
   "source": [
    "np.random.seed(0)\n",
    "es_spy_res = [fit_es_least_square(returns=spy_log_returns.to_numpy(), is_index=200, os_index=4000) for _ in range(100)]"
   ]
  },
  {
   "cell_type": "code",
   "execution_count": 315,
   "metadata": {},
   "outputs": [
    {
     "name": "stdout",
     "output_type": "stream",
     "text": [
      "\n",
      "      STES E&AE&SE Parameter Estimated on SPY Returns using MLE: [-2.13971751 -0.1875335   0.19358432 -0.04260397],  \n",
      "      Out-of-Sample Mean Squared Error = 4.482820, \n",
      "      Out-of-Sample Neg Log-Likelihood = 1675.407590, \n",
      "      In-Sample Mean Squared Error = 4.982193,\n",
      "      In-Sample Neg Log-Likelihood = 3810.830719,\n",
      "\n"
     ]
    }
   ],
   "source": [
    "print(f\"\"\"\n",
    "      STES E&AE&SE Parameter Estimated on SPY Returns using MLE: {np.mean([s[0] for s in stes_eaese_spy_res], axis=0)},  \n",
    "      Out-of-Sample Mean Squared Error = {np.mean([s[1] for s in stes_eaese_spy_res]):.6f}, \n",
    "      Out-of-Sample Neg Log-Likelihood = {np.mean([s[2] for s in stes_eaese_spy_res]):.6f}, \n",
    "      In-Sample Mean Squared Error = {np.mean([s[5] for s in stes_eaese_spy_res]):.6f},\n",
    "      In-Sample Neg Log-Likelihood = {np.mean([s[6] for s in stes_eaese_spy_res]):.6f},\n",
    "\"\"\")"
   ]
  },
  {
   "cell_type": "code",
   "execution_count": null,
   "metadata": {},
   "outputs": [
    {
     "name": "stdout",
     "output_type": "stream",
     "text": [
      "\n",
      "      STES AE&SE Parameter Estimated on SPY Returns using MLE: [-1.99369875  0.14583494 -0.01878969],  \n",
      "      Out-of-Sample Mean Squared Error = 4.489537, \n",
      "      Out-of-Sample Neg Log-Likelihood = 1694.970797, \n",
      "      In-Sample Mean Squared Error = 5.015911,\n",
      "      In-Sample Neg Log-Likelihood = 3881.140969,\n",
      "\n"
     ]
    }
   ],
   "source": [
    "print(f\"\"\"\n",
    "      STES AE&SE Parameter Estimated on SPY Returns using MLE: {np.mean([s[0] for s in stes_aese_spy_res], axis=0)},  \n",
    "      Out-of-Sample Mean Squared Error = {np.mean([s[1] for s in stes_aese_spy_res]):.6f}, \n",
    "      Out-of-Sample Neg Log-Likelihood = {np.mean([s[2] for s in stes_aese_spy_res]):.6f}, \n",
    "      In-Sample Mean Squared Error = {np.mean([s[5] for s in stes_aese_spy_res]):.6f},\n",
    "      In-Sample Neg Log-Likelihood = {np.mean([s[6] for s in stes_aese_spy_res]):.6f},\n",
    "\"\"\")"
   ]
  },
  {
   "cell_type": "code",
   "execution_count": null,
   "metadata": {},
   "outputs": [
    {
     "name": "stdout",
     "output_type": "stream",
     "text": [
      "\n",
      "      STES E&AE Parameter Estimated on SPY Returns using MLE: [-1.74420506 -0.0881549  -0.07851254],  \n",
      "      Out-of-Sample Mean Squared Error = 4.518936, \n",
      "      Out-of-Sample Neg Log-Likelihood = 1758.061537, \n",
      "      In-Sample Mean Squared Error = 5.010678,\n",
      "      In-Sample Neg Log-Likelihood = 3967.358026,\n",
      "\n"
     ]
    }
   ],
   "source": [
    "print(f\"\"\"\n",
    "      STES E&AE Parameter Estimated on SPY Returns using MLE: {np.mean([s[0] for s in stes_eae_spy_res], axis=0)},  \n",
    "      Out-of-Sample Mean Squared Error = {np.mean([s[1] for s in stes_eae_spy_res]):.6f}, \n",
    "      Out-of-Sample Neg Log-Likelihood = {np.mean([s[2] for s in stes_eae_spy_res]):.6f}, \n",
    "      In-Sample Mean Squared Error = {np.mean([s[5] for s in stes_eae_spy_res]):.6f},\n",
    "      In-Sample Neg Log-Likelihood = {np.mean([s[6] for s in stes_eae_spy_res]):.6f},\n",
    "\"\"\")"
   ]
  },
  {
   "cell_type": "code",
   "execution_count": null,
   "metadata": {},
   "outputs": [
    {
     "name": "stdout",
     "output_type": "stream",
     "text": [
      "\n",
      "      STES E&SE Parameter Estimated on SPY Returns using MLE: [-1.9648798  -0.03371338 -0.28462538],  \n",
      "      Out-of-Sample Mean Squared Error = 4.495169, \n",
      "      Out-of-Sample Neg Log-Likelihood = 1715.324391, \n",
      "      In-Sample Mean Squared Error = 4.987671,\n",
      "      In-Sample Neg Log-Likelihood = 3849.004265,\n",
      "\n"
     ]
    }
   ],
   "source": [
    "print(f\"\"\"\n",
    "      STES E&SE Parameter Estimated on SPY Returns using MLE: {np.mean([s[0] for s in stes_ese_spy_res], axis=0)},  \n",
    "      Out-of-Sample Mean Squared Error = {np.mean([s[1] for s in stes_ese_spy_res]):.6f}, \n",
    "      Out-of-Sample Neg Log-Likelihood = {np.mean([s[2] for s in stes_ese_spy_res]):.6f}, \n",
    "      In-Sample Mean Squared Error = {np.mean([s[5] for s in stes_ese_spy_res]):.6f},\n",
    "      In-Sample Neg Log-Likelihood = {np.mean([s[6] for s in stes_ese_spy_res]):.6f},\n",
    "\"\"\")"
   ]
  },
  {
   "cell_type": "code",
   "execution_count": null,
   "metadata": {},
   "outputs": [
    {
     "name": "stdout",
     "output_type": "stream",
     "text": [
      "\n",
      "      ES Parameter Estimated on SPY Returns using MLE: [-2.18338667],  \n",
      "      Out-of-Sample Mean Squared Error = 4.637673, \n",
      "      Out-of-Sample Neg Log-Likelihood = 1696.482945, \n",
      "      In-Sample Mean Squared Error = 5.056481,\n",
      "      In-Sample Neg Log-Likelihood = 3854.738697,\n",
      "\n"
     ]
    }
   ],
   "source": [
    "print(f\"\"\"\n",
    "      ES Parameter Estimated on SPY Returns using MLE: {np.mean([s[0] for s in es_spy_res], axis=0)},  \n",
    "      Out-of-Sample Mean Squared Error = {np.mean([s[1] for s in es_spy_res]):.6f}, \n",
    "      Out-of-Sample Neg Log-Likelihood = {np.mean([s[2] for s in es_spy_res]):.6f}, \n",
    "      In-Sample Mean Squared Error = {np.mean([s[5] for s in es_spy_res]):.6f},\n",
    "      In-Sample Neg Log-Likelihood = {np.mean([s[6] for s in es_spy_res]):.6f},\n",
    "\"\"\")"
   ]
  }
 ],
 "metadata": {
  "kernelspec": {
   "display_name": "ml_env",
   "language": "python",
   "name": "python3"
  },
  "language_info": {
   "codemirror_mode": {
    "name": "ipython",
    "version": 3
   },
   "file_extension": ".py",
   "mimetype": "text/x-python",
   "name": "python",
   "nbconvert_exporter": "python",
   "pygments_lexer": "ipython3",
   "version": "3.10.14"
  }
 },
 "nbformat": 4,
 "nbformat_minor": 2
}
