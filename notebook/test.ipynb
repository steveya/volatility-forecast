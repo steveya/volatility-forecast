{
 "cells": [
  {
   "cell_type": "code",
   "execution_count": 1,
   "metadata": {},
   "outputs": [],
   "source": [
    "%load_ext autoreload\n",
    "%autoreload 2\n",
    "\n",
    "from datetime import datetime, timedelta\n",
    "from sqlalchemy.orm import sessionmaker\n",
    "import os, sys\n",
    "from enum import Enum\n",
    "from functools import partial\n",
    "from collections import defaultdict\n",
    "from typing import List, Any, Optional, Tuple\n",
    "\n",
    "project_dir = os.path.abspath('..')\n",
    "sys.path.insert(0, project_dir)\n",
    "\n",
    "from sqlalchemy import create_engine\n",
    "import pandas as pd\n",
    "import numpy as np\n",
    "import pandas_market_calendars as mcal\n",
    "\n",
    "import unittest\n",
    "from unittest.mock import patch\n",
    "from volatility_forecast.data.dataloader import (\n",
    "    TiingoEoDDataLoader,\n",
    "    PriceVolumeDatabaseLoader,\n",
    "    TiingoEodDataLoaderProd,\n",
    ")\n",
    "from volatility_forecast.data.datamanager import (\n",
    "    LagReturnDataManager,\n",
    "    LagAbsReturnDataManager, \n",
    "    LagSquareReturnDataManager,\n",
    "    SquareReturnDataManager,\n",
    ")\n",
    "from volatility_forecast.data.date_util import get_closest_next_business_day, get_closest_prev_business_day\n",
    "from volatility_forecast.data.base import Field, DataSet, DateLike\n",
    "from volatility_forecast.data.dataset import PriceVolume\n",
    "from volatility_forecast.data.persistence import persist_data, load_data_from_db\n",
    "from volatility_forecast.data.database import engine, Base\n",
    "\n",
    "from volatility_forecast.model.stes_model import STESModel\n",
    "from volatility_forecast.model.xgboost_stes_model import XGBoostSTESModel, DEFAULT_XGBOOST_PARAMS\n",
    "\n",
    "from volatility_forecast.evaluation.model_evaluator import evaluate_model, compare_models, root_mean_squared_error, generate_model_forecasts\n"
   ]
  },
  {
   "cell_type": "code",
   "execution_count": 2,
   "metadata": {},
   "outputs": [],
   "source": [
    "ModelName = Enum(\n",
    "    \"ModelName\", \"ES STES_AE STES_SE STES_ESE STES_EAE STES_AESE STES_EAESE XGBoost_STES\"\n",
    ")"
   ]
  },
  {
   "cell_type": "code",
   "execution_count": 3,
   "metadata": {},
   "outputs": [],
   "source": [
    "tickers = (\"SPY\", )\n",
    "start_date = \"2000-01-01\"\n",
    "end_date = pd.Timestamp.today()"
   ]
  },
  {
   "cell_type": "code",
   "execution_count": 4,
   "metadata": {},
   "outputs": [],
   "source": [
    "def equity_data_provider(tickers: Tuple[str], start_date: DateLike, end_date: DateLike, model_name: ModelName) -> Tuple[np.ndarray, np.ndarray, np.ndarray]:\n",
    "    returns = LagReturnDataManager().get_data(tickers, start_date, end_date) * 1e2\n",
    "    realized_var = SquareReturnDataManager().get_data(tickers, start_date, end_date) * 1e4\n",
    "    feature_sets = np.hstack([\n",
    "        LagReturnDataManager().get_data(tickers, start_date, end_date) * 1e2,\n",
    "        LagAbsReturnDataManager().get_data(tickers, start_date, end_date) * 1e2,\n",
    "        LagSquareReturnDataManager().get_data(tickers, start_date, end_date) * 1e4,\n",
    "    ])\n",
    "    if model_name == ModelName.ES:\n",
    "        return np.ones((len(returns), 1)), realized_var, returns\n",
    "    elif model_name == ModelName.STES_AE:\n",
    "        return np.hstack([np.ones((len(returns), 1)), feature_sets[:, [1]], ]), realized_var, returns\n",
    "    elif model_name == ModelName.STES_SE:\n",
    "        return np.hstack([np.ones((len(returns), 1)), feature_sets[:, [2]], ]), realized_var, returns\n",
    "    elif model_name == ModelName.STES_EAE:\n",
    "        return np.hstack([np.ones((len(returns), 1)), feature_sets[:, [0, 1]], ]), realized_var, returns\n",
    "    elif model_name == ModelName.STES_ESE:\n",
    "        return np.hstack([np.ones((len(returns), 1)), feature_sets[:, [0, 2]], ]), realized_var, returns\n",
    "    elif model_name == ModelName.STES_AESE:\n",
    "        return np.hstack([np.ones((len(returns), 1)), feature_sets[:, [1, 2]], ]), realized_var, returns\n",
    "    elif model_name == ModelName.STES_EAESE:\n",
    "        return np.hstack([np.ones((len(returns), 1)), feature_sets, ]), realized_var, returns\n",
    "    elif model_name == ModelName.XGBoost_STES:\n",
    "        return feature_sets, realized_var, returns\n",
    "    else:\n",
    "        raise ValueError(f\"Unknown model name: {model_name}\")\n"
   ]
  },
  {
   "cell_type": "code",
   "execution_count": 5,
   "metadata": {},
   "outputs": [],
   "source": [
    "spy_models = {m: STESModel() if m != ModelName.XGBoost_STES else XGBoostSTESModel(**DEFAULT_XGBOOST_PARAMS) for m in ModelName}"
   ]
  },
  {
   "cell_type": "code",
   "execution_count": null,
   "metadata": {},
   "outputs": [],
   "source": [
    "spy_results = {}\n",
    "for model_name in ModelName:\n",
    "    np.random.seed(0)\n",
    "\n",
    "    model = spy_models[model_name]\n",
    "    data_provider = partial(\n",
    "        equity_data_provider, \n",
    "        tickers=tickers, \n",
    "        start_date=start_date, \n",
    "        end_date=end_date, \n",
    "        model_name=model_name\n",
    "    )\n",
    "\n",
    "    os_res, is_res = evaluate_model(\n",
    "        data_provider,\n",
    "        model, \n",
    "        root_mean_squared_error,\n",
    "        10, 4000\n",
    "    )\n",
    "    spy_results[model_name] = (os_res, is_res)\n"
   ]
  }
 ],
 "metadata": {
  "kernelspec": {
   "display_name": "py311",
   "language": "python",
   "name": "python3"
  },
  "language_info": {
   "codemirror_mode": {
    "name": "ipython",
    "version": 3
   },
   "file_extension": ".py",
   "mimetype": "text/x-python",
   "name": "python",
   "nbconvert_exporter": "python",
   "pygments_lexer": "ipython3",
   "version": "3.11.6"
  }
 },
 "nbformat": 4,
 "nbformat_minor": 2
}
