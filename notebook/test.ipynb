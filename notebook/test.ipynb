{
 "cells": [
  {
   "cell_type": "code",
   "execution_count": 10,
   "metadata": {},
   "outputs": [
    {
     "name": "stdout",
     "output_type": "stream",
     "text": [
      "The autoreload extension is already loaded. To reload it, use:\n",
      "  %reload_ext autoreload\n"
     ]
    }
   ],
   "source": [
    "%load_ext autoreload\n",
    "%autoreload 2\n",
    "\n",
    "from datetime import datetime, timedelta\n",
    "from sqlalchemy.orm import sessionmaker\n",
    "import os, sys\n",
    "\n",
    "project_dir = os.path.abspath('..')\n",
    "sys.path.insert(0, project_dir)\n",
    "\n",
    "from sqlalchemy import create_engine\n",
    "import pandas as pd\n",
    "import pandas_market_calendars as mcal\n",
    "\n",
    "import unittest\n",
    "from unittest.mock import patch\n",
    "from volatility_forecast.data.dataloader import (\n",
    "    TiingoEoDDataLoader,\n",
    "    PriceVolumeDatabaseLoader,\n",
    "    TiingoEodDataLoaderProd,\n",
    ")\n",
    "\n",
    "from volatility_forecast.data.date_util import get_closest_next_business_day, get_closest_prev_business_day\n",
    "from volatility_forecast.data.base import Field, DataSet\n",
    "from volatility_forecast.data.dataset import PriceVolume\n",
    "from volatility_forecast.data.persistence import persist_data, load_data_from_db\n",
    "from volatility_forecast.data.database import engine, Base\n"
   ]
  },
  {
   "cell_type": "code",
   "execution_count": 11,
   "metadata": {},
   "outputs": [],
   "source": [
    "\n",
    "\n",
    "class TestLoaderAndPersistence():\n",
    "\n",
    "    def __init__(self):\n",
    "        # Create tables\n",
    "        Base.metadata.create_all(engine)\n",
    "\n",
    "        self.tickers = (\n",
    "            \"AAPL\",\n",
    "            \"GOOGL\",\n",
    "            \"MSFT\",\n",
    "        )\n",
    "        self.end_date = get_closest_prev_business_day(\n",
    "            datetime.now().date()  - timedelta(days=5),\n",
    "            mcal.get_calendar(\"NYSE\"),\n",
    "        )\n",
    "        self.start_date = get_closest_next_business_day(\n",
    "            self.end_date - timedelta(days=30),\n",
    "            mcal.get_calendar(\"NYSE\"),\n",
    "        )\n",
    "        self.loader = TiingoEodDataLoaderProd(self.tickers)\n",
    "\n",
    "    def setUp(self):\n",
    "        # This method will be called before each test\n",
    "        pass\n",
    "\n",
    "    def tearDown(self):\n",
    "        # This method will be called after each test\n",
    "        pass\n",
    "\n",
    "    def test_fetch_and_persist_data(self):\n",
    "        data = self.loader.get_data(\n",
    "            fields=[PriceVolume.CLOSE, PriceVolume.VOLUME],\n",
    "            start_date=self.start_date,\n",
    "            end_date=self.end_date,\n",
    "        )\n",
    "\n",
    "        self.assertIsNotNone(data)\n",
    "        self.assertEqual(len(data), 2)  # CLOSE and VOLUME\n",
    "        self.assertIn(PriceVolume.CLOSE, data)\n",
    "        self.assertIn(PriceVolume.VOLUME, data)\n",
    "\n",
    "        for field, field_data in data.items():\n",
    "            self.assertIsInstance(field_data, pd.DataFrame)\n",
    "            self.assertEqual(len(field_data.columns), len(self.tickers))\n",
    "\n",
    "    def test_data_in_database(self):\n",
    "        for ticker in self.tickers:\n",
    "            db_data = load_data_from_db(ticker, self.start_date, self.end_date)\n",
    "            self.assertIsNotNone(db_data)\n",
    "            self.assertFalse(db_data.empty)\n",
    "            self.assertTrue(\"adjClose\" in db_data.columns)\n",
    "            self.assertTrue(\"adjVolume\" in db_data.columns)\n",
    "\n",
    "    def test_fetch_from_database(self):\n",
    "        # Fetch data twice\n",
    "        data1 = self.loader.get_data(\n",
    "            fields=[PriceVolume.CLOSE, PriceVolume.VOLUME],\n",
    "            start_date=self.start_date,\n",
    "            end_date=self.end_date,\n",
    "        )\n",
    "\n",
    "        data2 = self.loader.get_data(\n",
    "            fields=[PriceVolume.CLOSE, PriceVolume.VOLUME],\n",
    "            start_date=self.start_date,\n",
    "            end_date=self.end_date,\n",
    "        )\n",
    "\n",
    "        # Verify that the data is the same\n",
    "        for field in [PriceVolume.CLOSE, PriceVolume.VOLUME]:\n",
    "            pd.testing.assert_frame_equal(data1[field], data2[field])\n",
    "\n",
    "    def test_fetch_new_data(self):\n",
    "        new_end_date = get_closest_next_business_day(\n",
    "            self.end_date + timedelta(days=1),\n",
    "            mcal.get_calendar(\"NYSE\"),\n",
    "        )\n",
    "        new_data = self.loader.get_data(\n",
    "            fields=[PriceVolume.CLOSE, PriceVolume.VOLUME],\n",
    "            start_date=self.start_date,\n",
    "            end_date=new_end_date,\n",
    "        )\n",
    "\n",
    "        for field, field_data in new_data.items():\n",
    "            self.assertTrue(field_data.index.max().date() >= self.end_date)\n"
   ]
  },
  {
   "cell_type": "code",
   "execution_count": 12,
   "metadata": {},
   "outputs": [
    {
     "ename": "AttributeError",
     "evalue": "'TestLoaderAndPersistence' object has no attribute 'assertTrue'",
     "output_type": "error",
     "traceback": [
      "\u001b[0;31m---------------------------------------------------------------------------\u001b[0m",
      "\u001b[0;31mAttributeError\u001b[0m                            Traceback (most recent call last)",
      "Cell \u001b[0;32mIn[12], line 1\u001b[0m\n\u001b[0;32m----> 1\u001b[0m \u001b[43mTestLoaderAndPersistence\u001b[49m\u001b[43m(\u001b[49m\u001b[43m)\u001b[49m\u001b[38;5;241;43m.\u001b[39;49m\u001b[43mtest_fetch_new_data\u001b[49m\u001b[43m(\u001b[49m\u001b[43m)\u001b[49m\n",
      "Cell \u001b[0;32mIn[11], line 81\u001b[0m, in \u001b[0;36mTestLoaderAndPersistence.test_fetch_new_data\u001b[0;34m(self)\u001b[0m\n\u001b[1;32m     74\u001b[0m new_data \u001b[38;5;241m=\u001b[39m \u001b[38;5;28mself\u001b[39m\u001b[38;5;241m.\u001b[39mloader\u001b[38;5;241m.\u001b[39mget_data(\n\u001b[1;32m     75\u001b[0m     fields\u001b[38;5;241m=\u001b[39m[PriceVolume\u001b[38;5;241m.\u001b[39mCLOSE, PriceVolume\u001b[38;5;241m.\u001b[39mVOLUME],\n\u001b[1;32m     76\u001b[0m     start_date\u001b[38;5;241m=\u001b[39m\u001b[38;5;28mself\u001b[39m\u001b[38;5;241m.\u001b[39mstart_date,\n\u001b[1;32m     77\u001b[0m     end_date\u001b[38;5;241m=\u001b[39mnew_end_date,\n\u001b[1;32m     78\u001b[0m )\n\u001b[1;32m     80\u001b[0m \u001b[38;5;28;01mfor\u001b[39;00m field, field_data \u001b[38;5;129;01min\u001b[39;00m new_data\u001b[38;5;241m.\u001b[39mitems():\n\u001b[0;32m---> 81\u001b[0m     \u001b[38;5;28;43mself\u001b[39;49m\u001b[38;5;241;43m.\u001b[39;49m\u001b[43massertTrue\u001b[49m(field_data\u001b[38;5;241m.\u001b[39mindex\u001b[38;5;241m.\u001b[39mmax()\u001b[38;5;241m.\u001b[39mdate() \u001b[38;5;241m>\u001b[39m\u001b[38;5;241m=\u001b[39m \u001b[38;5;28mself\u001b[39m\u001b[38;5;241m.\u001b[39mend_date)\n",
      "\u001b[0;31mAttributeError\u001b[0m: 'TestLoaderAndPersistence' object has no attribute 'assertTrue'"
     ]
    }
   ],
   "source": [
    "TestLoaderAndPersistence().test_fetch_new_data()"
   ]
  },
  {
   "cell_type": "code",
   "execution_count": null,
   "metadata": {},
   "outputs": [
    {
     "data": {
      "text/plain": [
       "'/Users/steveyang/Projects/Github/volatility-forecast/notebook'"
      ]
     },
     "execution_count": 12,
     "metadata": {},
     "output_type": "execute_result"
    }
   ],
   "source": [
    "os.getcwd()"
   ]
  },
  {
   "cell_type": "code",
   "execution_count": null,
   "metadata": {},
   "outputs": [],
   "source": []
  }
 ],
 "metadata": {
  "kernelspec": {
   "display_name": "py311",
   "language": "python",
   "name": "python3"
  },
  "language_info": {
   "codemirror_mode": {
    "name": "ipython",
    "version": 3
   },
   "file_extension": ".py",
   "mimetype": "text/x-python",
   "name": "python",
   "nbconvert_exporter": "python",
   "pygments_lexer": "ipython3",
   "version": "3.11.6"
  }
 },
 "nbformat": 4,
 "nbformat_minor": 2
}
