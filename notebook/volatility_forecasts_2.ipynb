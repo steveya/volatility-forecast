{
 "cells": [
  {
   "cell_type": "markdown",
   "metadata": {},
   "source": [
    "# Volatility Forecasts (Part 2 - XGBoost-STES)\n",
    "\n",
    "This notebook demonstrates the implementation of the Smooth Transition Exponential Smoothing (STES) model. The model is a variant of the Exponential Smoothing (ES) model that captures non-linear dependencies in volatility time series. The STES model is a more advanced version of the ES model that can capture non-linear dependencies in volatility time series. XGBoost-STES is an extension of STES that uses XGBoost to enhance the STES model by better capturing non-linear dependencies in volatility time series.\n",
    "\n",
    "This notebook corresponds to the blog series [Volatility Forecasts (Part 2 - XGBoost-STES)](https://steveya.github.io/2024/07/12/volatility-forecast-2.html). We have refactored the code used [Volatility Forecasts (Part 1 - STES Models)](https://steveya.github.io/blob/notebooks/volatility_forecast_1.ipynb) in The aim is to replace the logistic function used by the STES model with a xgboost model, and evaluate their relative performance. It is a work in progress and will be updated as I wrap up my implementations."
   ]
  },
  {
   "cell_type": "code",
   "execution_count": 10,
   "metadata": {},
   "outputs": [
    {
     "name": "stdout",
     "output_type": "stream",
     "text": [
      "The autoreload extension is already loaded. To reload it, use:\n",
      "  %reload_ext autoreload\n"
     ]
    }
   ],
   "source": [
    "%load_ext autoreload\n",
    "%autoreload 2\n",
    "\n",
    "import os, sys\n",
    "\n",
    "project_dir = os.path.abspath('..')\n",
    "sys.path.insert(0, project_dir)\n",
    "\n",
    "import pandas as pd\n",
    "import numpy as np\n",
    "import pandas_market_calendars as mcal\n",
    "from typing import List, Any, Optional, Tuple\n",
    "from enum import Enum\n",
    "from functools import partial\n",
    "from collections import defaultdict\n",
    "\n",
    "import optuna\n",
    "from sklearn.model_selection import RandomizedSearchCV, TimeSeriesSplit\n",
    "from sklearn.metrics import make_scorer\n",
    "from scipy.stats import randint, uniform, loguniform\n",
    "\n",
    "from volatility_forecast.data.base import DateLike\n",
    "from volatility_forecast.data.datamanager import (\n",
    "    LagReturnDataManager,\n",
    "    LagAbsReturnDataManager, \n",
    "    LagSquareReturnDataManager,\n",
    "    SquareReturnDataManager,\n",
    ")\n",
    "from volatility_forecast.model.stes_model import STESModel\n",
    "from volatility_forecast.model.xgboost_stes_model import XGBoostSTESModel, DEFAULT_XGBOOST_PARAMS\n",
    "from volatility_forecast.evaluation.model_evaluator import evaluate_model, compare_models, root_mean_squared_error\n"
   ]
  },
  {
   "cell_type": "markdown",
   "metadata": {},
   "source": [
    "## Data Provider"
   ]
  },
  {
   "cell_type": "code",
   "execution_count": 11,
   "metadata": {},
   "outputs": [],
   "source": [
    "ModelName = Enum(\n",
    "    \"ModelName\", \"ES STES_AE STES_SE STES_ESE STES_EAE STES_AESE STES_EAESE XGBoost_STES\"\n",
    ")"
   ]
  },
  {
   "cell_type": "markdown",
   "metadata": {},
   "source": [
    "### Equity Data Provider\n",
    "The function provides the features, labels, and auxiliary equity return data used to fit different models"
   ]
  },
  {
   "cell_type": "code",
   "execution_count": 12,
   "metadata": {},
   "outputs": [],
   "source": [
    "def equity_data_provider(tickers: Tuple[str], start_date: DateLike, end_date: DateLike, model_name: ModelName) -> Tuple[np.ndarray, np.ndarray, np.ndarray]:\n",
    "    returns = LagReturnDataManager().get_data(tickers, start_date, end_date) * 1e2\n",
    "    realized_var = SquareReturnDataManager().get_data(tickers, start_date, end_date) * 1e4\n",
    "    feature_sets = np.hstack([\n",
    "        LagReturnDataManager().get_data(tickers, start_date, end_date) * 1e2,\n",
    "        LagAbsReturnDataManager().get_data(tickers, start_date, end_date) * 1e2,\n",
    "        LagSquareReturnDataManager().get_data(tickers, start_date, end_date) * 1e4,\n",
    "    ])\n",
    "    if model_name == ModelName.ES:\n",
    "        return np.ones((len(returns), 1)), realized_var, returns\n",
    "    elif model_name == ModelName.STES_AE:\n",
    "        return np.hstack([np.ones((len(returns), 1)), feature_sets[:, [1]], ]), realized_var, returns\n",
    "    elif model_name == ModelName.STES_SE:\n",
    "        return np.hstack([np.ones((len(returns), 1)), feature_sets[:, [2]], ]), realized_var, returns\n",
    "    elif model_name == ModelName.STES_EAE:\n",
    "        return np.hstack([np.ones((len(returns), 1)), feature_sets[:, [0, 1]], ]), realized_var, returns\n",
    "    elif model_name == ModelName.STES_ESE:\n",
    "        return np.hstack([np.ones((len(returns), 1)), feature_sets[:, [0, 2]], ]), realized_var, returns\n",
    "    elif model_name == ModelName.STES_AESE:\n",
    "        return np.hstack([np.ones((len(returns), 1)), feature_sets[:, [1, 2]], ]), realized_var, returns\n",
    "    elif model_name == ModelName.STES_EAESE:\n",
    "        return np.hstack([np.ones((len(returns), 1)), feature_sets, ]), realized_var, returns\n",
    "    elif model_name == ModelName.XGBoost_STES:\n",
    "        return feature_sets, realized_var, returns\n",
    "    else:\n",
    "        raise ValueError(f\"Unknown model name: {model_name}\")\n"
   ]
  },
  {
   "cell_type": "markdown",
   "metadata": {},
   "source": [
    "### Simulated Data Provider\n",
    "The function provides the features, labels, and auxiliary simulated return data used to fit different models"
   ]
  },
  {
   "cell_type": "code",
   "execution_count": 13,
   "metadata": {},
   "outputs": [],
   "source": [
    "def simulate_contaminated_garch(n, mu, omega, alpha, beta, eta):\n",
    "    returns = np.zeros(n)\n",
    "    sigma2s = np.zeros(n)\n",
    "    shocks = (np.random.uniform(0, 1, n) < 0.005).astype(float)\n",
    "    for t in range(1, n):\n",
    "        sigma2s[t] = omega + alpha * returns[t-1]**2 + beta * sigma2s[t-1]\n",
    "        returns[t] = np.random.normal(mu, np.sqrt(sigma2s[t])) + eta * shocks[t]\n",
    "\n",
    "    return returns, sigma2s\n",
    "\n",
    "def simulated_garch_data_provider(model_name: ModelName) -> Tuple[np.ndarray, np.ndarray, np.ndarray]:\n",
    "    returns, latent_var = simulate_contaminated_garch(n=2500, mu=0, omega=0.02, alpha=0.11, beta=0.87, eta=4)\n",
    "    realized_var = returns[1:] ** 2\n",
    "    returns = returns[:-1]\n",
    "    feature_sets = np.vstack([\n",
    "        returns,\n",
    "        abs(returns),\n",
    "        returns**2,\n",
    "    ]).T\n",
    "    if model_name == ModelName.ES:\n",
    "        return np.ones((len(returns), 1)), realized_var, returns\n",
    "    elif model_name == ModelName.STES_AE:\n",
    "        return np.hstack([np.ones((len(returns), 1)), feature_sets[:, [1]], ]), realized_var, returns\n",
    "    elif model_name == ModelName.STES_SE:\n",
    "        return np.hstack([np.ones((len(returns), 1)), feature_sets[:, [2]], ]), realized_var, returns\n",
    "    elif model_name == ModelName.STES_EAE:\n",
    "        return np.hstack([np.ones((len(returns), 1)), feature_sets[:, [0, 1]], ]), realized_var, returns\n",
    "    elif model_name == ModelName.STES_ESE:\n",
    "        return np.hstack([np.ones((len(returns), 1)), feature_sets[:, [0, 2]], ]), realized_var, returns\n",
    "    elif model_name == ModelName.STES_AESE:\n",
    "        return np.hstack([np.ones((len(returns), 1)), feature_sets[:, [1, 2]], ]), realized_var, returns\n",
    "    elif model_name == ModelName.STES_EAESE:\n",
    "        return np.hstack([np.ones((len(returns), 1)), feature_sets, ]), realized_var, returns\n",
    "    elif model_name == ModelName.XGBoost_STES:\n",
    "        return feature_sets, realized_var, returns\n",
    "    else:\n",
    "        raise ValueError(f\"Unknown model name: {model_name}\")\n"
   ]
  },
  {
   "cell_type": "markdown",
   "metadata": {},
   "source": [
    "## Model Fitting and Evaluation"
   ]
  },
  {
   "cell_type": "code",
   "execution_count": 14,
   "metadata": {},
   "outputs": [],
   "source": [
    "sim_models = {m: STESModel() if m != ModelName.XGBoost_STES else XGBoostSTESModel(**DEFAULT_XGBOOST_PARAMS) for m in ModelName}\n",
    "spy_models = {m: STESModel() if m != ModelName.XGBoost_STES else XGBoostSTESModel(**DEFAULT_XGBOOST_PARAMS) for m in ModelName}"
   ]
  },
  {
   "cell_type": "markdown",
   "metadata": {},
   "source": [
    "### Fitting to Simulated Data"
   ]
  },
  {
   "cell_type": "code",
   "execution_count": 52,
   "metadata": {},
   "outputs": [],
   "source": [
    "num_runs = 1000\n",
    "simulated_results = defaultdict(float)\n",
    "\n",
    "np.random.seed(0)\n",
    "for model_name in ModelName:\n",
    "    rand_seeds = np.random.randint(0, 1e6, size=num_runs)\n",
    "    for i in range(num_runs):\n",
    "        np.random.seed(rand_seeds[i])\n",
    "\n",
    "        model = sim_models[model_name]\n",
    "        data_provider = partial(\n",
    "            simulated_garch_data_provider, \n",
    "            model_name=model_name,\n",
    "        )\n",
    "        \n",
    "        os_res, is_res, _, _ = evaluate_model(\n",
    "            data_provider, \n",
    "            model, \n",
    "            root_mean_squared_error, \n",
    "            500, 2000\n",
    "        )\n",
    "        simulated_results[model_name] += res\n",
    "\n",
    "for model_name in ModelName:\n",
    "    simulated_results[model_name] /= num_runs"
   ]
  },
  {
   "cell_type": "code",
   "execution_count": 29,
   "metadata": {},
   "outputs": [
    {
     "data": {
      "text/plain": [
       "defaultdict(float,\n",
       "            {<ModelName.ES: 1>: 2.851265469332402,\n",
       "             <ModelName.STES_AE: 2>: 2.8864909620674513,\n",
       "             <ModelName.STES_SE: 3>: 2.821076842096175,\n",
       "             <ModelName.STES_ESE: 4>: 2.938132876527599,\n",
       "             <ModelName.STES_EAE: 5>: 2.9126491851780054,\n",
       "             <ModelName.STES_AESE: 6>: 2.9414660242775197,\n",
       "             <ModelName.STES_EAESE: 7>: 2.8094387526006788,\n",
       "             <ModelName.XGBoost_STES: 8>: 2.917599319542367})"
      ]
     },
     "execution_count": 29,
     "metadata": {},
     "output_type": "execute_result"
    }
   ],
   "source": [
    "simulated_results"
   ]
  },
  {
   "cell_type": "markdown",
   "metadata": {},
   "source": [
    "### Fitting to Equity Return Data"
   ]
  },
  {
   "cell_type": "code",
   "execution_count": 4,
   "metadata": {},
   "outputs": [],
   "source": [
    "tickers = (\"SPY\", )\n",
    "start_date = \"2000-01-01\"\n",
    "end_date = \"2023-12-31\""
   ]
  },
  {
   "cell_type": "code",
   "execution_count": 84,
   "metadata": {},
   "outputs": [],
   "source": [
    "spy_results = {}\n",
    "for model_name in ModelName:\n",
    "    np.random.seed(0)\n",
    "\n",
    "    model = spy_models[model_name]\n",
    "    data_provider = partial(\n",
    "        equity_data_provider, \n",
    "        tickers=tickers, \n",
    "        start_date=start_date, \n",
    "        end_date=end_date, \n",
    "        model_name=model_name\n",
    "    )\n",
    "\n",
    "    os_res, is_res, _, _ = evaluate_model(\n",
    "        data_provider,\n",
    "        model, \n",
    "        root_mean_squared_error,\n",
    "        10, 4000\n",
    "    )\n",
    "    spy_results[model_name] = (os_res, is_res)\n"
   ]
  },
  {
   "cell_type": "code",
   "execution_count": 85,
   "metadata": {},
   "outputs": [
    {
     "data": {
      "text/plain": [
       "{<ModelName.ES: 1>: (4.639087790640113, 4.9998967674740395),\n",
       " <ModelName.STES_AE: 2>: (4.54443786652832, 4.96971004047666),\n",
       " <ModelName.STES_SE: 3>: (4.520988501731453, 4.965343632646092),\n",
       " <ModelName.STES_ESE: 4>: (4.497560951862506, 4.932181685635686),\n",
       " <ModelName.STES_EAE: 5>: (4.519543044844543, 4.954716010899248),\n",
       " <ModelName.STES_AESE: 6>: (4.496005900247276, 4.96213338201455),\n",
       " <ModelName.STES_EAESE: 7>: (4.488055353719537, 4.927956913611339),\n",
       " <ModelName.XGBoost_STES: 8>: (4.3781566115070865, 5.011798597677629)}"
      ]
     },
     "execution_count": 85,
     "metadata": {},
     "output_type": "execute_result"
    }
   ],
   "source": [
    "spy_results"
   ]
  },
  {
   "cell_type": "markdown",
   "metadata": {},
   "source": [
    "### XGBoost-STES Feature Importance\n",
    "One added benefit for using the XGBoost in the STES model is the ability to provide feature importance scores. In STES model we can look at the magnitude of the fitted model parameters but since the variables have different magnitude, the interpretation of the fitted parameters can be challenging. "
   ]
  },
  {
   "cell_type": "code",
   "execution_count": 50,
   "metadata": {},
   "outputs": [
    {
     "data": {
      "text/plain": [
       "{'f0': 3109.922607421875, 'f1': 1948.13232421875, 'f2': 2431.680908203125}"
      ]
     },
     "execution_count": 50,
     "metadata": {},
     "output_type": "execute_result"
    }
   ],
   "source": [
    "spy_models[ModelName.XGBoost_STES].model.get_score(importance_type='gain')"
   ]
  },
  {
   "cell_type": "markdown",
   "metadata": {},
   "source": [
    "## Hyperparameter Tuning of the XGBoost-STES Model \n",
    "\n",
    "The untuned XGBOost-STES model already outperform the other simple STES models. We now test if tuning help with test performance."
   ]
  },
  {
   "cell_type": "code",
   "execution_count": 57,
   "metadata": {},
   "outputs": [],
   "source": [
    "spy_data_provider = partial(\n",
    "    equity_data_provider, \n",
    "    tickers=tickers, \n",
    "    start_date=start_date, \n",
    "    end_date=end_date, \n",
    "    model_name=ModelName.XGBoost_STES,\n",
    ")"
   ]
  },
  {
   "cell_type": "markdown",
   "metadata": {},
   "source": [
    "### Tuning using Sklearn Randomized Search"
   ]
  },
  {
   "cell_type": "code",
   "execution_count": 68,
   "metadata": {},
   "outputs": [],
   "source": [
    "import numpy as np\n",
    "from scipy.stats import uniform, randint\n",
    "from sklearn.model_selection import ParameterSampler, TimeSeriesSplit\n",
    "\n",
    "def random_cv_tune_xgboost_model(data_provider):\n",
    "    param_distributions = {\n",
    "        'num_boost_round': [1, 5, 10, 20],\n",
    "        'max_depth': randint(1, 5),\n",
    "        'learning_rate': loguniform(0.01, 10),\n",
    "        'reg_lambda': loguniform(0.1, 10.0),\n",
    "        'colsample_bytree': uniform(0.1, 0.6),\n",
    "        'colsample_bylevel': uniform(0.1, 0.6),\n",
    "        'colsample_bynode': uniform(0.1, 0.6),\n",
    "    }\n",
    "\n",
    "    # Generate parameter combinations\n",
    "    param_list = list(ParameterSampler(param_distributions, n_iter=80, random_state=0))\n",
    "\n",
    "    # Prepare cross-validation\n",
    "    tscv = TimeSeriesSplit(n_splits=3)\n",
    "\n",
    "    best_score = float('inf')\n",
    "    best_params = None\n",
    "\n",
    "    indices = np.ones((4000, 1))\n",
    "    # Iterate over parameter combinations\n",
    "    for params in param_list:\n",
    "        scores = []\n",
    "\n",
    "        # Perform cross-validation\n",
    "        for train_index, val_index in tscv.split(indices):\n",
    "            # Create and train the model\n",
    "            model = XGBoostSTESModel(**params)\n",
    "            rmse, _, _, _ = evaluate_model(\n",
    "                data_provider, \n",
    "                model, \n",
    "                root_mean_squared_error, \n",
    "                0, \n",
    "                val_index[0], \n",
    "                val_index[-1]\n",
    "            )\n",
    "            scores.append(rmse)\n",
    "\n",
    "        # Calculate mean RMSE across folds\n",
    "        mean_rmse = np.mean(scores)\n",
    "\n",
    "        # Update best score and parameters if better\n",
    "        if mean_rmse < best_score:\n",
    "            best_score = mean_rmse\n",
    "            best_params = params\n",
    "\n",
    "        # Print progress (optional)\n",
    "        print(f\"Params: {params}\")\n",
    "        print(f\"Mean RMSE: {mean_rmse}\")\n",
    "        print(\"--------------------\")\n",
    "\n",
    "    return best_params, best_score"
   ]
  },
  {
   "cell_type": "code",
   "execution_count": 69,
   "metadata": {},
   "outputs": [
    {
     "name": "stdout",
     "output_type": "stream",
     "text": [
      "Params: {'colsample_bylevel': 0.4292881023563948, 'colsample_bynode': 0.5291136198234517, 'colsample_bytree': 0.4616580256429863, 'learning_rate': 0.4311710058685491, 'max_depth': 2, 'num_boost_round': 20, 'reg_lambda': 1.9578897201213006}\n",
      "Mean RMSE: 3.9189794846797272\n",
      "--------------------\n",
      "Params: {'colsample_bylevel': 0.3625523267576155, 'colsample_bynode': 0.6350638004692478, 'colsample_bytree': 0.6781976563006176, 'learning_rate': 0.14135935551752302, 'max_depth': 3, 'num_boost_round': 20, 'reg_lambda': 1.1423254155608376}\n",
      "Mean RMSE: 3.9568332989050705\n",
      "--------------------\n",
      "Params: {'colsample_bylevel': 0.4408267366563594, 'colsample_bynode': 0.6553579829755966, 'colsample_bytree': 0.14262163491873217, 'learning_rate': 0.018255254802399014, 'max_depth': 4, 'num_boost_round': 1, 'reg_lambda': 4.626362841475587}\n",
      "Mean RMSE: 4.3665597452036415\n",
      "--------------------\n",
      "Params: {'colsample_bylevel': 0.5668940505699103, 'colsample_bynode': 0.6220072889480914, 'colsample_bytree': 0.6871710053396584, 'learning_rate': 2.497328610406059, 'max_depth': 4, 'num_boost_round': 5, 'reg_lambda': 3.639639356786391}\n",
      "Mean RMSE: 4.482312926434927\n",
      "--------------------\n",
      "Params: {'colsample_bylevel': 0.17096465552135992, 'colsample_bynode': 0.48395261279651425, 'colsample_bytree': 0.18601197244542783, 'learning_rate': 6.823493012435792, 'max_depth': 4, 'num_boost_round': 10, 'reg_lambda': 0.6750312521595927}\n",
      "Mean RMSE: 4.739637057752749\n",
      "--------------------\n",
      "Params: {'colsample_bylevel': 0.2587333672627762, 'colsample_bynode': 0.56454021366053, 'colsample_bytree': 0.3736901993299291, 'learning_rate': 0.5073432032394334, 'max_depth': 1, 'num_boost_round': 1, 'reg_lambda': 1.7189806743319385}\n",
      "Mean RMSE: 3.909228134338497\n",
      "--------------------\n",
      "Params: {'colsample_bylevel': 0.46725743363345285, 'colsample_bynode': 0.4701603981248541, 'colsample_bytree': 0.6662488471087744, 'learning_rate': 1.1103525577197584, 'max_depth': 3, 'num_boost_round': 20, 'reg_lambda': 0.7482796037620797}\n",
      "Mean RMSE: 4.124341430917931\n",
      "--------------------\n",
      "Params: {'colsample_bylevel': 0.5185787175563589, 'colsample_bynode': 0.1361352829775619, 'colsample_bytree': 0.5000600292674006, 'learning_rate': 1.0278118224157011, 'max_depth': 3, 'num_boost_round': 10, 'reg_lambda': 0.18107254066631076}\n",
      "Mean RMSE: 4.0170650760193745\n",
      "--------------------\n",
      "Params: {'colsample_bylevel': 0.2892570105545103, 'colsample_bynode': 0.3182264625655736, 'colsample_bytree': 0.4421180622507278, 'learning_rate': 0.20692098656538346, 'max_depth': 1, 'num_boost_round': 10, 'reg_lambda': 0.159988814926315}\n",
      "Mean RMSE: 3.882413016993319\n",
      "--------------------\n",
      "Params: {'colsample_bylevel': 0.2253260536569008, 'colsample_bynode': 0.19678571073099776, 'colsample_bytree': 0.4918649952792391, 'learning_rate': 0.05752740814116688, 'max_depth': 4, 'num_boost_round': 1, 'reg_lambda': 0.3082131641442948}\n",
      "Mean RMSE: 4.136059164938447\n",
      "--------------------\n",
      "Params: {'colsample_bylevel': 0.19538175018731185, 'colsample_bynode': 0.1662250846985831, 'colsample_bytree': 0.493797753679164, 'learning_rate': 0.025974599147866057, 'max_depth': 2, 'num_boost_round': 20, 'reg_lambda': 0.5463240777949556}\n",
      "Mean RMSE: 4.302456349714828\n",
      "--------------------\n",
      "Params: {'colsample_bylevel': 0.5925959379087611, 'colsample_bynode': 0.15826076547583676, 'colsample_bytree': 0.6027669444992823, 'learning_rate': 0.01942205696972693, 'max_depth': 2, 'num_boost_round': 20, 'reg_lambda': 0.8655704137361817}\n",
      "Mean RMSE: 4.352866775250601\n",
      "--------------------\n",
      "Params: {'colsample_bylevel': 0.6860566529142023, 'colsample_bynode': 0.4629073118470276, 'colsample_bytree': 0.543558147638981, 'learning_rate': 0.013108813258313513, 'max_depth': 3, 'num_boost_round': 20, 'reg_lambda': 0.1739374594480699}\n",
      "Mean RMSE: 4.405352384252576\n",
      "--------------------\n",
      "Params: {'colsample_bylevel': 0.27768411851328695, 'colsample_bynode': 0.17123663137254644, 'colsample_bytree': 0.2907899076363856, 'learning_rate': 0.17489966737814588, 'max_depth': 4, 'num_boost_round': 20, 'reg_lambda': 2.4262985503685806}\n",
      "Mean RMSE: 3.969043000196846\n",
      "--------------------\n",
      "Params: {'colsample_bylevel': 0.4399608725239451, 'colsample_bynode': 0.25923369456366724, 'colsample_bytree': 0.41394883208001976, 'learning_rate': 0.01913469447807098, 'max_depth': 2, 'num_boost_round': 1, 'reg_lambda': 7.220917699605245}\n",
      "Mean RMSE: 4.35908473517603\n",
      "--------------------\n",
      "Params: {'colsample_bylevel': 0.2911413714707942, 'colsample_bynode': 0.500446227978209, 'colsample_bytree': 0.17907871744263532, 'learning_rate': 1.409229131643557, 'max_depth': 1, 'num_boost_round': 10, 'reg_lambda': 0.23247846210614445}\n",
      "Mean RMSE: 4.410645193574877\n",
      "--------------------\n",
      "Params: {'colsample_bylevel': 0.4519077608860499, 'colsample_bynode': 0.11206452771249614, 'colsample_bytree': 0.5973640175304178, 'learning_rate': 0.010329669551879741, 'max_depth': 2, 'num_boost_round': 10, 'reg_lambda': 0.34674958213764534}\n",
      "Mean RMSE: 4.431258997057786\n",
      "--------------------\n",
      "Params: {'colsample_bylevel': 0.541116413273557, 'colsample_bynode': 0.6773131270704629, 'colsample_bytree': 0.24925188611197482, 'learning_rate': 0.5351456545529513, 'max_depth': 1, 'num_boost_round': 10, 'reg_lambda': 1.39477389880728}\n",
      "Mean RMSE: 3.946690190574498\n",
      "--------------------\n",
      "Params: {'colsample_bylevel': 0.23384897958437098, 'colsample_bynode': 0.6716494069101909, 'colsample_bytree': 0.36827522717057637, 'learning_rate': 3.4611945994943993, 'max_depth': 2, 'num_boost_round': 20, 'reg_lambda': 0.39343582397504284}\n",
      "Mean RMSE: 6.007212458911255\n",
      "--------------------\n",
      "Params: {'colsample_bylevel': 0.5882786918214863, 'colsample_bynode': 0.33790344450819076, 'colsample_bytree': 0.6286619182666969, 'learning_rate': 0.554394123168178, 'max_depth': 2, 'num_boost_round': 10, 'reg_lambda': 2.426963138379088}\n",
      "Mean RMSE: 3.964973270978895\n",
      "--------------------\n",
      "Params: {'colsample_bylevel': 0.5351525678917843, 'colsample_bynode': 0.4007946291560214, 'colsample_bytree': 0.6736501808339342, 'learning_rate': 0.8550088256963296, 'max_depth': 1, 'num_boost_round': 1, 'reg_lambda': 1.6322490640824154}\n",
      "Mean RMSE: 5.469708416125951\n",
      "--------------------\n",
      "Params: {'colsample_bylevel': 0.11151591898560012, 'colsample_bynode': 0.2809448900047296, 'colsample_bytree': 0.496104122495611, 'learning_rate': 0.07417077580505224, 'max_depth': 4, 'num_boost_round': 5, 'reg_lambda': 0.7203397849770149}\n",
      "Mean RMSE: 4.08046469114331\n",
      "--------------------\n",
      "Params: {'colsample_bylevel': 0.18128443853347015, 'colsample_bynode': 0.27896939557361844, 'colsample_bytree': 0.44197894642075897, 'learning_rate': 0.5924044112159313, 'max_depth': 4, 'num_boost_round': 10, 'reg_lambda': 2.024890951657205}\n",
      "Mean RMSE: 3.963842910740452\n",
      "--------------------\n",
      "Params: {'colsample_bylevel': 0.49126196200101335, 'colsample_bynode': 0.35885106126038435, 'colsample_bytree': 0.6379279575106378, 'learning_rate': 0.12667345328336824, 'max_depth': 3, 'num_boost_round': 20, 'reg_lambda': 6.079203898818127}\n",
      "Mean RMSE: 3.9697802578644428\n",
      "--------------------\n",
      "Params: {'colsample_bylevel': 0.5837163934276515, 'colsample_bynode': 0.5223331501242198, 'colsample_bytree': 0.16013613238738067, 'learning_rate': 5.733869986337062, 'max_depth': 3, 'num_boost_round': 10, 'reg_lambda': 9.947043407265582}\n",
      "Mean RMSE: 5.757267771999441\n",
      "--------------------\n",
      "Params: {'colsample_bylevel': 0.18966898279479627, 'colsample_bynode': 0.6208756344209285, 'colsample_bytree': 0.1974957608058249, 'learning_rate': 0.7025523533015083, 'max_depth': 4, 'num_boost_round': 5, 'reg_lambda': 4.966111413793928}\n",
      "Mean RMSE: 3.981436691144878\n",
      "--------------------\n",
      "Params: {'colsample_bylevel': 0.5843913752350064, 'colsample_bynode': 0.441460443168756, 'colsample_bytree': 0.3443099783355998, 'learning_rate': 0.01612504689638591, 'max_depth': 2, 'num_boost_round': 20, 'reg_lambda': 0.8073937167660736}\n",
      "Mean RMSE: 4.3802367235201425\n",
      "--------------------\n",
      "Params: {'colsample_bylevel': 0.5332333596822088, 'colsample_bynode': 0.6198293955571774, 'colsample_bytree': 0.6853129030017314, 'learning_rate': 3.693261231099636, 'max_depth': 2, 'num_boost_round': 20, 'reg_lambda': 0.5247544485517229}\n",
      "Mean RMSE: 5.237509095458255\n",
      "--------------------\n",
      "Params: {'colsample_bylevel': 0.5379943374544348, 'colsample_bynode': 0.2029778063568643, 'colsample_bytree': 0.4126219637224776, 'learning_rate': 0.014555058825551692, 'max_depth': 1, 'num_boost_round': 20, 'reg_lambda': 0.10890393916830506}\n",
      "Mean RMSE: 4.406425777177516\n",
      "--------------------\n",
      "Params: {'colsample_bylevel': 0.5762186220144524, 'colsample_bynode': 0.23435481283622808, 'colsample_bytree': 0.30721100841814164, 'learning_rate': 6.084765986559317, 'max_depth': 1, 'num_boost_round': 5, 'reg_lambda': 0.1157918143734927}\n",
      "Mean RMSE: 5.885514777004669\n",
      "--------------------\n",
      "Params: {'colsample_bylevel': 0.19881649389874767, 'colsample_bynode': 0.4728870408998581, 'colsample_bytree': 0.44633715316250056, 'learning_rate': 0.0517223756458117, 'max_depth': 2, 'num_boost_round': 20, 'reg_lambda': 1.6901759275038954}\n",
      "Mean RMSE: 4.152023369878745\n",
      "--------------------\n",
      "Params: {'colsample_bylevel': 0.421379681814975, 'colsample_bynode': 0.4539459858127426, 'colsample_bytree': 0.5380732177100618, 'learning_rate': 0.08626507146510407, 'max_depth': 2, 'num_boost_round': 1, 'reg_lambda': 0.2628376030296236}\n",
      "Mean RMSE: 4.029754439819135\n",
      "--------------------\n",
      "Params: {'colsample_bylevel': 0.21171580352820168, 'colsample_bynode': 0.6666234339903601, 'colsample_bytree': 0.5437304770295726, 'learning_rate': 0.29605774428600146, 'max_depth': 4, 'num_boost_round': 5, 'reg_lambda': 0.32263610314045044}\n",
      "Mean RMSE: 3.955900953708474\n",
      "--------------------\n",
      "Params: {'colsample_bylevel': 0.13481749619432537, 'colsample_bynode': 0.3606499753348724, 'colsample_bytree': 0.28707752919646157, 'learning_rate': 1.2275253409866285, 'max_depth': 4, 'num_boost_round': 20, 'reg_lambda': 0.22866903294942015}\n",
      "Mean RMSE: 4.189005735504228\n",
      "--------------------\n",
      "Params: {'colsample_bylevel': 0.11480723703479874, 'colsample_bynode': 0.14034977887794914, 'colsample_bytree': 0.5076356640991404, 'learning_rate': 0.22966273565399944, 'max_depth': 2, 'num_boost_round': 1, 'reg_lambda': 6.213589898082911}\n",
      "Mean RMSE: 3.9019959155592567\n",
      "--------------------\n",
      "Params: {'colsample_bylevel': 0.6942033684380226, 'colsample_bynode': 0.23013819063908436, 'colsample_bytree': 0.4978469218600605, 'learning_rate': 0.061654833633561744, 'max_depth': 3, 'num_boost_round': 1, 'reg_lambda': 3.286679134316866}\n",
      "Mean RMSE: 4.106355662130469\n",
      "--------------------\n",
      "Params: {'colsample_bylevel': 0.2920102904934807, 'colsample_bynode': 0.3300783365031388, 'colsample_bytree': 0.4529902681321635, 'learning_rate': 3.1127580555249983, 'max_depth': 4, 'num_boost_round': 1, 'reg_lambda': 5.562900741178352}\n",
      "Mean RMSE: 4.633166046304258\n",
      "--------------------\n",
      "Params: {'colsample_bylevel': 0.26412522088938145, 'colsample_bynode': 0.5788281003475382, 'colsample_bytree': 0.21138156658357132, 'learning_rate': 7.217303539978491, 'max_depth': 1, 'num_boost_round': 20, 'reg_lambda': 0.2697834811128977}\n",
      "Mean RMSE: 5.798649281467836\n",
      "--------------------\n",
      "Params: {'colsample_bylevel': 0.6684223542933545, 'colsample_bynode': 0.5385134840620946, 'colsample_bytree': 0.2523649855570155, 'learning_rate': 0.04364514413946864, 'max_depth': 1, 'num_boost_round': 10, 'reg_lambda': 0.1125448006152787}\n",
      "Mean RMSE: 4.209274997459544\n",
      "--------------------\n",
      "Params: {'colsample_bylevel': 0.22448204526466564, 'colsample_bynode': 0.3548112812509038, 'colsample_bytree': 0.32450198820053533, 'learning_rate': 0.2458817373493799, 'max_depth': 4, 'num_boost_round': 20, 'reg_lambda': 1.491312619632369}\n",
      "Mean RMSE: 3.9781394696966514\n",
      "--------------------\n",
      "Params: {'colsample_bylevel': 0.6183133635539388, 'colsample_bynode': 0.17051911357721986, 'colsample_bytree': 0.41042746429246846, 'learning_rate': 0.024900285064657596, 'max_depth': 2, 'num_boost_round': 20, 'reg_lambda': 0.6196114086045528}\n",
      "Mean RMSE: 4.310423086081406\n",
      "--------------------\n",
      "Params: {'colsample_bylevel': 0.4392527871151054, 'colsample_bynode': 0.20996790172844718, 'colsample_bytree': 0.18690865560602635, 'learning_rate': 0.2911848946144796, 'max_depth': 4, 'num_boost_round': 20, 'reg_lambda': 7.600880252137222}\n",
      "Mean RMSE: 3.9560314582912857\n",
      "--------------------\n",
      "Params: {'colsample_bylevel': 0.5591951522841792, 'colsample_bynode': 0.5491981719103284, 'colsample_bytree': 0.64223184384756, 'learning_rate': 0.017793742700293245, 'max_depth': 3, 'num_boost_round': 20, 'reg_lambda': 1.4755439097387322}\n",
      "Mean RMSE: 4.366237045611755\n",
      "--------------------\n",
      "Params: {'colsample_bylevel': 0.6771618271283374, 'colsample_bynode': 0.2752885160755293, 'colsample_bytree': 0.2444972679492681, 'learning_rate': 0.0199931777353366, 'max_depth': 2, 'num_boost_round': 10, 'reg_lambda': 7.228673904859645}\n",
      "Mean RMSE: 4.352364972918967\n",
      "--------------------\n",
      "Params: {'colsample_bylevel': 0.5019499279545461, 'colsample_bynode': 0.5710917472138827, 'colsample_bytree': 0.26903806345236947, 'learning_rate': 0.5744212511151678, 'max_depth': 4, 'num_boost_round': 5, 'reg_lambda': 0.9359554809691525}\n",
      "Mean RMSE: 4.01442199071431\n",
      "--------------------\n",
      "Params: {'colsample_bylevel': 0.6864970838466681, 'colsample_bynode': 0.6259031471899544, 'colsample_bytree': 0.3028953711021074, 'learning_rate': 7.668500736551159, 'max_depth': 1, 'num_boost_round': 10, 'reg_lambda': 7.9184037990630705}\n",
      "Mean RMSE: 5.6572694070595135\n",
      "--------------------\n",
      "Params: {'colsample_bylevel': 0.6648266228238991, 'colsample_bynode': 0.579521552411435, 'colsample_bytree': 0.47826876212007463, 'learning_rate': 4.196274596407563, 'max_depth': 2, 'num_boost_round': 1, 'reg_lambda': 4.987548255810928}\n",
      "Mean RMSE: 4.495301961748792\n",
      "--------------------\n",
      "Params: {'colsample_bylevel': 0.47072601515051427, 'colsample_bynode': 0.1079421146553397, 'colsample_bytree': 0.30834011075933176, 'learning_rate': 0.027824193367170486, 'max_depth': 4, 'num_boost_round': 10, 'reg_lambda': 0.9051918062311637}\n",
      "Mean RMSE: 4.293194248511761\n",
      "--------------------\n",
      "Params: {'colsample_bylevel': 0.39843481929919766, 'colsample_bynode': 0.48368350983923414, 'colsample_bytree': 0.3211507636777705, 'learning_rate': 0.025745469436710522, 'max_depth': 2, 'num_boost_round': 1, 'reg_lambda': 0.23971533848970517}\n",
      "Mean RMSE: 4.30402995385414\n",
      "--------------------\n",
      "Params: {'colsample_bylevel': 0.40679138952787364, 'colsample_bynode': 0.23459021738484356, 'colsample_bytree': 0.15870669069642043, 'learning_rate': 3.8598866585479676, 'max_depth': 1, 'num_boost_round': 20, 'reg_lambda': 8.34967009066104}\n",
      "Mean RMSE: 4.568801419082189\n",
      "--------------------\n",
      "Params: {'colsample_bylevel': 0.6439332995327073, 'colsample_bynode': 0.5644283996191832, 'colsample_bytree': 0.29988709121718515, 'learning_rate': 0.01751072670667133, 'max_depth': 2, 'num_boost_round': 1, 'reg_lambda': 0.2913857333822682}\n",
      "Mean RMSE: 4.3686197363879975\n",
      "--------------------\n",
      "Params: {'colsample_bylevel': 0.1794925808547898, 'colsample_bynode': 0.13205630907209515, 'colsample_bytree': 0.5353566185263473, 'learning_rate': 0.010821373223234171, 'max_depth': 4, 'num_boost_round': 20, 'reg_lambda': 0.196740282564536}\n",
      "Mean RMSE: 4.428381506503421\n",
      "--------------------\n",
      "Params: {'colsample_bylevel': 0.14771324955205345, 'colsample_bynode': 0.15376182054316323, 'colsample_bytree': 0.5032286844123487, 'learning_rate': 0.05446300872028189, 'max_depth': 4, 'num_boost_round': 5, 'reg_lambda': 1.3023795930430424}\n",
      "Mean RMSE: 4.149482723362359\n",
      "--------------------\n",
      "Params: {'colsample_bylevel': 0.6163307042972762, 'colsample_bynode': 0.5362265576267969, 'colsample_bytree': 0.26219674314322877, 'learning_rate': 0.024799812530607843, 'max_depth': 1, 'num_boost_round': 1, 'reg_lambda': 0.40104884410398417}\n",
      "Mean RMSE: 4.328553548334351\n",
      "--------------------\n",
      "Params: {'colsample_bylevel': 0.25727088954380695, 'colsample_bynode': 0.37368434008028784, 'colsample_bytree': 0.5099688013286082, 'learning_rate': 1.2214518086254562, 'max_depth': 3, 'num_boost_round': 1, 'reg_lambda': 0.5752464031093661}\n",
      "Mean RMSE: 4.005280246831574\n",
      "--------------------\n",
      "Params: {'colsample_bylevel': 0.20869057704214183, 'colsample_bynode': 0.5731273073839112, 'colsample_bytree': 0.13410884585994418, 'learning_rate': 1.233081338503635, 'max_depth': 4, 'num_boost_round': 1, 'reg_lambda': 3.587691764561748}\n",
      "Mean RMSE: 4.084658435052348\n",
      "--------------------\n",
      "Params: {'colsample_bylevel': 0.25565353860721296, 'colsample_bynode': 0.32428788275953685, 'colsample_bytree': 0.45255978111783346, 'learning_rate': 0.06583634422487267, 'max_depth': 1, 'num_boost_round': 20, 'reg_lambda': 0.2478041414974978}\n",
      "Mean RMSE: 4.100935713878809\n",
      "--------------------\n",
      "Params: {'colsample_bylevel': 0.3759135302536044, 'colsample_bynode': 0.12676738075246846, 'colsample_bytree': 0.5798775307423708, 'learning_rate': 0.017016464849773115, 'max_depth': 4, 'num_boost_round': 1, 'reg_lambda': 0.41079031801789095}\n",
      "Mean RMSE: 4.3745598924539975\n",
      "--------------------\n",
      "Params: {'colsample_bylevel': 0.44652576929882526, 'colsample_bynode': 0.675660004500055, 'colsample_bytree': 0.4873421466736023, 'learning_rate': 0.012766954401764138, 'max_depth': 3, 'num_boost_round': 5, 'reg_lambda': 1.0472098165405928}\n",
      "Mean RMSE: 4.408231656952231\n",
      "--------------------\n",
      "Params: {'colsample_bylevel': 0.4217064968220712, 'colsample_bynode': 0.5088355063623027, 'colsample_bytree': 0.26655765863905967, 'learning_rate': 0.024354638990657183, 'max_depth': 2, 'num_boost_round': 20, 'reg_lambda': 8.181095184874524}\n",
      "Mean RMSE: 4.318727840749608\n",
      "--------------------\n",
      "Params: {'colsample_bylevel': 0.21227853505050687, 'colsample_bynode': 0.6423903729569421, 'colsample_bytree': 0.42628357004639583, 'learning_rate': 0.23481955729256931, 'max_depth': 4, 'num_boost_round': 10, 'reg_lambda': 0.8264335195425931}\n",
      "Mean RMSE: 3.9902053460585516\n",
      "--------------------\n",
      "Params: {'colsample_bylevel': 0.534500581966926, 'colsample_bynode': 0.3394151930218612, 'colsample_bytree': 0.6424266357405746, 'learning_rate': 1.1751006339782046, 'max_depth': 3, 'num_boost_round': 20, 'reg_lambda': 0.452314804968949}\n",
      "Mean RMSE: 4.488517039281295\n",
      "--------------------\n",
      "Params: {'colsample_bylevel': 0.5540671856421335, 'colsample_bynode': 0.48163663326828476, 'colsample_bytree': 0.24401216402782572, 'learning_rate': 0.030312130880886076, 'max_depth': 4, 'num_boost_round': 5, 'reg_lambda': 8.285776339385444}\n",
      "Mean RMSE: 4.281182501511713\n",
      "--------------------\n",
      "Params: {'colsample_bylevel': 0.3748832963560257, 'colsample_bynode': 0.4545904991942109, 'colsample_bytree': 0.6146335865161328, 'learning_rate': 0.2353262423169729, 'max_depth': 4, 'num_boost_round': 10, 'reg_lambda': 1.4174322966901185}\n",
      "Mean RMSE: 3.9936637587267847\n",
      "--------------------\n",
      "Params: {'colsample_bylevel': 0.5924602724207889, 'colsample_bynode': 0.645306231047643, 'colsample_bytree': 0.5893142912611413, 'learning_rate': 0.03007761461065645, 'max_depth': 3, 'num_boost_round': 1, 'reg_lambda': 0.6264241858856041}\n",
      "Mean RMSE: 4.274473646777945\n",
      "--------------------\n",
      "Params: {'colsample_bylevel': 0.13762777121400743, 'colsample_bynode': 0.3544193511339052, 'colsample_bytree': 0.25521044013364463, 'learning_rate': 3.5246412961081566, 'max_depth': 2, 'num_boost_round': 1, 'reg_lambda': 8.278762880025372}\n",
      "Mean RMSE: 4.5754831774394615\n",
      "--------------------\n",
      "Params: {'colsample_bylevel': 0.31322130908315776, 'colsample_bynode': 0.31402413424152575, 'colsample_bytree': 0.10979710161022474, 'learning_rate': 0.035949841148638716, 'max_depth': 2, 'num_boost_round': 1, 'reg_lambda': 7.220758740267613}\n",
      "Mean RMSE: 4.240344977271328\n",
      "--------------------\n",
      "Params: {'colsample_bylevel': 0.1597689581327628, 'colsample_bynode': 0.6671809200874477, 'colsample_bytree': 0.6216931183279792, 'learning_rate': 0.2304025019100494, 'max_depth': 1, 'num_boost_round': 10, 'reg_lambda': 0.29207087958233097}\n",
      "Mean RMSE: 3.8749449950333186\n",
      "--------------------\n",
      "Params: {'colsample_bylevel': 0.4686788238861246, 'colsample_bynode': 0.11984475488530338, 'colsample_bytree': 0.10936363866809694, 'learning_rate': 0.1933691407862352, 'max_depth': 4, 'num_boost_round': 5, 'reg_lambda': 0.3190670643264865}\n",
      "Mean RMSE: 3.975441111320318\n",
      "--------------------\n",
      "Params: {'colsample_bylevel': 0.23269654920765032, 'colsample_bynode': 0.25191471623371114, 'colsample_bytree': 0.17863313872915465, 'learning_rate': 0.01086697501868232, 'max_depth': 2, 'num_boost_round': 20, 'reg_lambda': 1.7256810061268075}\n",
      "Mean RMSE: 4.4267620787943995\n",
      "--------------------\n",
      "Params: {'colsample_bylevel': 0.6845537276908301, 'colsample_bynode': 0.6942070009365363, 'colsample_bytree': 0.345432457223837, 'learning_rate': 0.030822174731578444, 'max_depth': 3, 'num_boost_round': 20, 'reg_lambda': 0.956336415248358}\n",
      "Mean RMSE: 4.268185448421967\n",
      "--------------------\n",
      "Params: {'colsample_bylevel': 0.6936458663706588, 'colsample_bynode': 0.13918252429106812, 'colsample_bytree': 0.5699406629882878, 'learning_rate': 0.07331544787956125, 'max_depth': 3, 'num_boost_round': 10, 'reg_lambda': 2.1135335349261015}\n",
      "Mean RMSE: 4.067740803865713\n",
      "--------------------\n",
      "Params: {'colsample_bylevel': 0.24763791099457869, 'colsample_bynode': 0.4995154705355126, 'colsample_bytree': 0.41038511032137326, 'learning_rate': 0.18718324215243107, 'max_depth': 2, 'num_boost_round': 20, 'reg_lambda': 0.37506197814395364}\n",
      "Mean RMSE: 3.8971680129561572\n",
      "--------------------\n",
      "Params: {'colsample_bylevel': 0.5239448237637874, 'colsample_bynode': 0.3489141216001384, 'colsample_bytree': 0.31632733629153537, 'learning_rate': 3.061757170872133, 'max_depth': 4, 'num_boost_round': 10, 'reg_lambda': 0.12359890458751464}\n",
      "Mean RMSE: 5.27022969620709\n",
      "--------------------\n",
      "Params: {'colsample_bylevel': 0.23957619569785932, 'colsample_bynode': 0.30911162169553796, 'colsample_bytree': 0.5889798876221484, 'learning_rate': 9.046368674084482, 'max_depth': 3, 'num_boost_round': 5, 'reg_lambda': 6.455006606651478}\n",
      "Mean RMSE: 7.515903815387946\n",
      "--------------------\n",
      "Params: {'colsample_bylevel': 0.27793375903841794, 'colsample_bynode': 0.6952067460486844, 'colsample_bytree': 0.24965202463387073, 'learning_rate': 0.02078348941676418, 'max_depth': 2, 'num_boost_round': 5, 'reg_lambda': 0.2929817110005401}\n",
      "Mean RMSE: 4.34196999954888\n",
      "--------------------\n",
      "Params: {'colsample_bylevel': 0.5138609590466503, 'colsample_bynode': 0.1350138153883532, 'colsample_bytree': 0.5384254594764857, 'learning_rate': 4.417338058012675, 'max_depth': 3, 'num_boost_round': 10, 'reg_lambda': 0.5729461324427602}\n",
      "Mean RMSE: 5.752306346963089\n",
      "--------------------\n",
      "Params: {'colsample_bylevel': 0.32457770999254965, 'colsample_bynode': 0.5492729545240799, 'colsample_bytree': 0.2426843455234233, 'learning_rate': 0.03277625253694809, 'max_depth': 4, 'num_boost_round': 20, 'reg_lambda': 0.4063842002688846}\n",
      "Mean RMSE: 4.260689378454742\n",
      "--------------------\n",
      "Params: {'colsample_bylevel': 0.6035134733551913, 'colsample_bynode': 0.24264509560938324, 'colsample_bytree': 0.4014336744935568, 'learning_rate': 6.725906088135357, 'max_depth': 4, 'num_boost_round': 10, 'reg_lambda': 5.4272372985039565}\n",
      "Mean RMSE: 4.384336909636262\n",
      "--------------------\n",
      "Params: {'colsample_bylevel': 0.6641258136128604, 'colsample_bynode': 0.5504589171318112, 'colsample_bytree': 0.5197450361348508, 'learning_rate': 8.01487400946768, 'max_depth': 1, 'num_boost_round': 10, 'reg_lambda': 0.80102001029806}\n",
      "Mean RMSE: 5.65987103878872\n",
      "--------------------\n",
      "Best Parameters: {'colsample_bylevel': 0.1597689581327628, 'colsample_bynode': 0.6671809200874477, 'colsample_bytree': 0.6216931183279792, 'learning_rate': 0.2304025019100494, 'max_depth': 1, 'num_boost_round': 10, 'reg_lambda': 0.29207087958233097}\n"
     ]
    }
   ],
   "source": [
    "# Perform hyperparameter tuning\n",
    "rcv_best_params, rcv_best_score = random_cv_tune_xgboost_model(spy_data_provider)\n",
    "print(\"Best Parameters:\", rcv_best_params)\n"
   ]
  },
  {
   "cell_type": "code",
   "execution_count": 82,
   "metadata": {},
   "outputs": [
    {
     "data": {
      "text/plain": [
       "(4.789720305284427, 5.027242227353158)"
      ]
     },
     "execution_count": 82,
     "metadata": {},
     "output_type": "execute_result"
    }
   ],
   "source": [
    "xgb_stes_spy_rcv_tuned = XGBoostSTESModel(**(DEFAULT_XGBOOST_PARAMS | rcv_best_params))\n",
    "evaluate_model(spy_data_provider, xgb_stes_spy_rcv_tuned, root_mean_squared_error, 10, 4000)"
   ]
  },
  {
   "cell_type": "markdown",
   "metadata": {},
   "source": [
    "### Tuning using Optuna"
   ]
  },
  {
   "cell_type": "code",
   "execution_count": 78,
   "metadata": {},
   "outputs": [],
   "source": [
    "\n",
    "def xgb_stes_optuna_objective(trial):\n",
    "    param = {\n",
    "        \"verbosity\": 0,\n",
    "        \"num_boost_round\": trial.suggest_int(\"num_boost_round\", 1, 20),\n",
    "        'max_depth': trial.suggest_int(\"max_depth\", 1, 5),\n",
    "        \"reg_lambda\": trial.suggest_float(\"reg_lambda\", 1e-1, 10.0, log=True),\n",
    "        \"learning_rate\": trial.suggest_float(\"learning_rate\", 1e-2, 10.0, log=True),\n",
    "        \"colsample_bytree\": trial.suggest_float(\"colsample_bytree\", 0.3, 0.6),\n",
    "        \"colsample_bylevel\": trial.suggest_float(\"colsample_bylevel\", 0.3, 0.6),\n",
    "        \"colsample_bynode\": trial.suggest_float(\"colsample_bylevel\", 0.3, 0.6),\n",
    "    }\n",
    "\n",
    "    model = XGBoostSTESModel(**param)\n",
    "    \n",
    "    indices = np.ones((4000, 1))\n",
    "    \n",
    "    tscv = TimeSeriesSplit(n_splits=3)\n",
    "\n",
    "    rmses = []\n",
    "    for train_idx, valid_idx in tscv.split(\n",
    "        indices\n",
    "    ):\n",
    "        res, _, _, _ = evaluate_model(\n",
    "            spy_data_provider,\n",
    "            model, \n",
    "            root_mean_squared_error,\n",
    "            0,\n",
    "            valid_idx[0], \n",
    "            valid_idx[-1],\n",
    "        )\n",
    "        rmses.append(-res)\n",
    "        \n",
    "    return np.mean(rmses)\n",
    "\n"
   ]
  },
  {
   "cell_type": "code",
   "execution_count": 79,
   "metadata": {},
   "outputs": [
    {
     "name": "stderr",
     "output_type": "stream",
     "text": [
      "[I 2024-08-13 11:00:19,042] A new study created in memory with name: no-name-2f1b4541-6ec4-4497-a61b-ebbb068fd198\n"
     ]
    },
    {
     "name": "stderr",
     "output_type": "stream",
     "text": [
      "[I 2024-08-13 11:00:19,875] Trial 0 finished with value: -3.983943608905251 and parameters: {'num_boost_round': 11, 'max_depth': 4, 'reg_lambda': 1.6051911333587632, 'learning_rate': 0.4311710058685492, 'colsample_bytree': 0.4270964398016714, 'colsample_bylevel': 0.4937682339199968}. Best is trial 0 with value: -3.983943608905251.\n",
      "[I 2024-08-13 11:00:20,697] Trial 1 finished with value: -3.991089322355759 and parameters: {'num_boost_round': 9, 'max_depth': 5, 'reg_lambda': 8.459126528049374, 'learning_rate': 0.14135935551752302, 'colsample_bytree': 0.5375175114247993, 'colsample_bylevel': 0.45866847592587134}. Best is trial 0 with value: -3.983943608905251.\n",
      "[I 2024-08-13 11:00:21,524] Trial 2 finished with value: -4.366837760457006 and parameters: {'num_boost_round': 12, 'max_depth': 5, 'reg_lambda': 0.13869861245357323, 'learning_rate': 0.018255254802399014, 'colsample_bytree': 0.3060655192320977, 'colsample_bylevel': 0.5497859536643814}. Best is trial 0 with value: -3.983943608905251.\n",
      "[I 2024-08-13 11:00:22,321] Trial 3 finished with value: -4.421670082275454 and parameters: {'num_boost_round': 16, 'max_depth': 5, 'reg_lambda': 9.062263471261954, 'learning_rate': 2.4973286104060577, 'colsample_bytree': 0.43844380867587956, 'colsample_bylevel': 0.5341587528859366}. Best is trial 0 with value: -3.983943608905251.\n",
      "[I 2024-08-13 11:00:23,115] Trial 4 finished with value: -4.671757641613266 and parameters: {'num_boost_round': 3, 'max_depth': 4, 'reg_lambda': 0.1935114088559527, 'learning_rate': 6.823493012435788, 'colsample_bytree': 0.4565544965250215, 'colsample_bylevel': 0.4243985819971571}. Best is trial 0 with value: -3.983943608905251.\n",
      "[I 2024-08-13 11:00:23,918] Trial 5 finished with value: -4.004058719118556 and parameters: {'num_boost_round': 6, 'max_depth': 4, 'reg_lambda': 0.8171478915115864, 'learning_rate': 0.5073432032394335, 'colsample_bytree': 0.30563694013090653, 'colsample_bylevel': 0.4852906491227631}. Best is trial 0 with value: -3.983943608905251.\n",
      "[I 2024-08-13 11:00:24,746] Trial 6 finished with value: -4.1259609801918256 and parameters: {'num_boost_round': 13, 'max_depth': 4, 'reg_lambda': 7.71784686211807, 'learning_rate': 1.1103525577197584, 'colsample_bytree': 0.40785237017213577, 'colsample_bylevel': 0.43110958613980244}. Best is trial 0 with value: -3.983943608905251.\n",
      "[I 2024-08-13 11:00:25,549] Trial 7 finished with value: -5.957212331341612 and parameters: {'num_boost_round': 14, 'max_depth': 1, 'reg_lambda': 2.1554275565447516, 'learning_rate': 1.027811822415701, 'colsample_bytree': 0.3631147683221523, 'colsample_bylevel': 0.338677889296456}. Best is trial 0 with value: -3.983943608905251.\n",
      "[I 2024-08-13 11:00:26,335] Trial 8 finished with value: -3.8994415000695093 and parameters: {'num_boost_round': 7, 'max_depth': 2, 'reg_lambda': 1.3816356822574796, 'learning_rate': 0.20692098656538346, 'colsample_bytree': 0.5965121514177678, 'colsample_bylevel': 0.3306134432244084}. Best is trial 8 with value: -3.8994415000695093.\n",
      "[I 2024-08-13 11:00:27,110] Trial 9 finished with value: -4.137113730034218 and parameters: {'num_boost_round': 5, 'max_depth': 1, 'reg_lambda': 2.024028628133282, 'learning_rate': 0.05752740814116688, 'colsample_bytree': 0.4398932318568919, 'colsample_bylevel': 0.3733276776004808}. Best is trial 8 with value: -3.8994415000695093.\n",
      "[I 2024-08-13 11:00:28,010] Trial 10 finished with value: -4.420956249983751 and parameters: {'num_boost_round': 19, 'max_depth': 2, 'reg_lambda': 0.555993560116489, 'learning_rate': 0.011485172688183689, 'colsample_bytree': 0.5905658391795312, 'colsample_bylevel': 0.302405762096731}. Best is trial 8 with value: -3.8994415000695093.\n",
      "[I 2024-08-13 11:00:28,828] Trial 11 finished with value: -3.9685678682670775 and parameters: {'num_boost_round': 9, 'max_depth': 3, 'reg_lambda': 2.338258275808839, 'learning_rate': 0.1779825587853756, 'colsample_bytree': 0.5112918955784445, 'colsample_bylevel': 0.5936961409945714}. Best is trial 8 with value: -3.8994415000695093.\n",
      "[I 2024-08-13 11:00:29,650] Trial 12 finished with value: -3.9808525349984674 and parameters: {'num_boost_round': 7, 'max_depth': 2, 'reg_lambda': 3.397272143832775, 'learning_rate': 0.11054263930779301, 'colsample_bytree': 0.5213098056879347, 'colsample_bylevel': 0.5855838608495318}. Best is trial 8 with value: -3.8994415000695093.\n",
      "[I 2024-08-13 11:00:30,474] Trial 13 finished with value: -4.227509079392426 and parameters: {'num_boost_round': 2, 'max_depth': 3, 'reg_lambda': 0.4552286494973167, 'learning_rate': 0.03724238137985851, 'colsample_bytree': 0.5963671295173903, 'colsample_bylevel': 0.385184406160496}. Best is trial 8 with value: -3.8994415000695093.\n",
      "[I 2024-08-13 11:00:31,278] Trial 14 finished with value: -3.9329867715816444 and parameters: {'num_boost_round': 9, 'max_depth': 2, 'reg_lambda': 3.897847758114622, 'learning_rate': 0.16326714919401164, 'colsample_bytree': 0.53559941302925, 'colsample_bylevel': 0.5996457168434606}. Best is trial 8 with value: -3.8994415000695093.\n",
      "[I 2024-08-13 11:00:32,081] Trial 15 finished with value: -4.152282162375147 and parameters: {'num_boost_round': 9, 'max_depth': 2, 'reg_lambda': 4.822782444032294, 'learning_rate': 0.051974605111407744, 'colsample_bytree': 0.5545497442006686, 'colsample_bylevel': 0.30120926786112756}. Best is trial 8 with value: -3.8994415000695093.\n",
      "[I 2024-08-13 11:00:32,891] Trial 16 finished with value: -3.9356350508291356 and parameters: {'num_boost_round': 4, 'max_depth': 2, 'reg_lambda': 1.0872605747034658, 'learning_rate': 0.31796902549431655, 'colsample_bytree': 0.4904131794604261, 'colsample_bylevel': 0.3870102796043179}. Best is trial 8 with value: -3.8994415000695093.\n",
      "[I 2024-08-13 11:00:33,702] Trial 17 finished with value: -4.160069975197136 and parameters: {'num_boost_round': 1, 'max_depth': 1, 'reg_lambda': 4.148586250851092, 'learning_rate': 0.791509120880908, 'colsample_bytree': 0.5669655520110483, 'colsample_bylevel': 0.5329177353845429}. Best is trial 8 with value: -3.8994415000695093.\n",
      "[I 2024-08-13 11:00:34,596] Trial 18 finished with value: -5.57387362306022 and parameters: {'num_boost_round': 7, 'max_depth': 3, 'reg_lambda': 0.4039688653398155, 'learning_rate': 2.390279751314303, 'colsample_bytree': 0.49703821471806925, 'colsample_bylevel': 0.34409958055785245}. Best is trial 8 with value: -3.8994415000695093.\n",
      "[I 2024-08-13 11:00:35,405] Trial 19 finished with value: -3.897054699386599 and parameters: {'num_boost_round': 16, 'max_depth': 2, 'reg_lambda': 1.1518007877198468, 'learning_rate': 0.18749078882590203, 'colsample_bytree': 0.5703800192141862, 'colsample_bylevel': 0.4802979023871704}. Best is trial 19 with value: -3.897054699386599.\n",
      "[I 2024-08-13 11:00:36,220] Trial 20 finished with value: -4.055736035228695 and parameters: {'num_boost_round': 20, 'max_depth': 3, 'reg_lambda': 0.9704208648488033, 'learning_rate': 0.0776691951803783, 'colsample_bytree': 0.5694650461049509, 'colsample_bylevel': 0.4875160107780259}. Best is trial 19 with value: -3.897054699386599.\n",
      "[I 2024-08-13 11:00:37,027] Trial 21 finished with value: -3.897400343487924 and parameters: {'num_boost_round': 16, 'max_depth': 2, 'reg_lambda': 1.1593224386573417, 'learning_rate': 0.18675731689339542, 'colsample_bytree': 0.597203233066874, 'colsample_bylevel': 0.5641310232779392}. Best is trial 19 with value: -3.897054699386599.\n",
      "[I 2024-08-13 11:00:37,836] Trial 22 finished with value: -3.8980346087668827 and parameters: {'num_boost_round': 17, 'max_depth': 2, 'reg_lambda': 1.476319930949655, 'learning_rate': 0.24931893644047518, 'colsample_bytree': 0.5982067167652816, 'colsample_bylevel': 0.5561053377453016}. Best is trial 19 with value: -3.897054699386599.\n",
      "[I 2024-08-13 11:00:38,636] Trial 23 finished with value: -3.870688037501456 and parameters: {'num_boost_round': 17, 'max_depth': 1, 'reg_lambda': 0.7331294756454886, 'learning_rate': 0.27425244954421146, 'colsample_bytree': 0.5642513573839462, 'colsample_bylevel': 0.5609547270810586}. Best is trial 23 with value: -3.870688037501456.\n",
      "[I 2024-08-13 11:00:39,436] Trial 24 finished with value: -4.279150437069841 and parameters: {'num_boost_round': 16, 'max_depth': 1, 'reg_lambda': 0.6609896494274574, 'learning_rate': 0.03201906696490753, 'colsample_bytree': 0.4725841032270984, 'colsample_bylevel': 0.5194159170846164}. Best is trial 23 with value: -3.870688037501456.\n",
      "[I 2024-08-13 11:00:40,235] Trial 25 finished with value: -3.997356598095777 and parameters: {'num_boost_round': 18, 'max_depth': 1, 'reg_lambda': 0.26350782056668187, 'learning_rate': 0.09951714540901765, 'colsample_bytree': 0.5542667897606615, 'colsample_bylevel': 0.5673930371360031}. Best is trial 23 with value: -3.870688037501456.\n",
      "[I 2024-08-13 11:00:41,037] Trial 26 finished with value: -3.980233008396652 and parameters: {'num_boost_round': 15, 'max_depth': 1, 'reg_lambda': 0.31120817079530344, 'learning_rate': 0.5425917759402341, 'colsample_bytree': 0.5627532757577253, 'colsample_bylevel': 0.5130849940757111}. Best is trial 23 with value: -3.870688037501456.\n",
      "[I 2024-08-13 11:00:41,835] Trial 27 finished with value: -3.888397191324468 and parameters: {'num_boost_round': 18, 'max_depth': 1, 'reg_lambda': 0.7605349238945625, 'learning_rate': 0.3183027360585711, 'colsample_bytree': 0.5335339581504682, 'colsample_bylevel': 0.4494886443675542}. Best is trial 23 with value: -3.870688037501456.\n",
      "[I 2024-08-13 11:00:42,632] Trial 28 finished with value: -4.572689639407913 and parameters: {'num_boost_round': 20, 'max_depth': 1, 'reg_lambda': 0.7381275640023643, 'learning_rate': 1.864838400181249, 'colsample_bytree': 0.5317878746009294, 'colsample_bylevel': 0.4669646408540076}. Best is trial 23 with value: -3.870688037501456.\n",
      "[I 2024-08-13 11:00:43,434] Trial 29 finished with value: -3.927796107790352 and parameters: {'num_boost_round': 18, 'max_depth': 1, 'reg_lambda': 0.5621234279819998, 'learning_rate': 0.35640430116592575, 'colsample_bytree': 0.5040150253713397, 'colsample_bylevel': 0.43373594471104393}. Best is trial 23 with value: -3.870688037501456.\n",
      "[I 2024-08-13 11:00:44,237] Trial 30 finished with value: -4.169533085918575 and parameters: {'num_boost_round': 14, 'max_depth': 1, 'reg_lambda': 0.34032174392133663, 'learning_rate': 0.6875331212236412, 'colsample_bytree': 0.4815720915274219, 'colsample_bylevel': 0.5028618412588973}. Best is trial 23 with value: -3.870688037501456.\n",
      "[I 2024-08-13 11:00:45,045] Trial 31 finished with value: -3.8915888804135013 and parameters: {'num_boost_round': 17, 'max_depth': 2, 'reg_lambda': 1.1936091872632486, 'learning_rate': 0.28471043051760603, 'colsample_bytree': 0.5766682908014902, 'colsample_bylevel': 0.41015640279396104}. Best is trial 23 with value: -3.870688037501456.\n",
      "[I 2024-08-13 11:00:45,861] Trial 32 finished with value: -3.9494122679060415 and parameters: {'num_boost_round': 18, 'max_depth': 3, 'reg_lambda': 0.9169727920345406, 'learning_rate': 0.37818615404358524, 'colsample_bytree': 0.5706877818118408, 'colsample_bylevel': 0.45133041399993884}. Best is trial 23 with value: -3.870688037501456.\n",
      "[I 2024-08-13 11:00:46,667] Trial 33 finished with value: -3.9171603541107474 and parameters: {'num_boost_round': 11, 'max_depth': 2, 'reg_lambda': 1.67205551173333, 'learning_rate': 0.3118857259668665, 'colsample_bytree': 0.5483012007064085, 'colsample_bylevel': 0.46976255855376253}. Best is trial 23 with value: -3.870688037501456.\n",
      "[I 2024-08-13 11:00:47,463] Trial 34 finished with value: -3.9903494993301742 and parameters: {'num_boost_round': 17, 'max_depth': 1, 'reg_lambda': 2.9539133421187396, 'learning_rate': 0.10313957099262268, 'colsample_bytree': 0.5755447097209218, 'colsample_bylevel': 0.4116895140628022}. Best is trial 23 with value: -3.870688037501456.\n",
      "[I 2024-08-13 11:00:48,272] Trial 35 finished with value: -4.278706530829969 and parameters: {'num_boost_round': 15, 'max_depth': 2, 'reg_lambda': 0.5687457156039202, 'learning_rate': 1.2798402425234587, 'colsample_bytree': 0.5220379688271335, 'colsample_bylevel': 0.4040124336436144}. Best is trial 23 with value: -3.870688037501456.\n",
      "[I 2024-08-13 11:00:49,070] Trial 36 finished with value: -3.856651731288341 and parameters: {'num_boost_round': 12, 'max_depth': 1, 'reg_lambda': 0.10084212024421427, 'learning_rate': 0.4627860590719303, 'colsample_bytree': 0.5411327864486878, 'colsample_bylevel': 0.44602243605572445}. Best is trial 36 with value: -3.856651731288341.\n",
      "[I 2024-08-13 11:00:49,868] Trial 37 finished with value: -6.24620721253994 and parameters: {'num_boost_round': 12, 'max_depth': 1, 'reg_lambda': 0.10936956992344975, 'learning_rate': 6.31050904836793, 'colsample_bytree': 0.40424828991431666, 'colsample_bylevel': 0.44235334395405973}. Best is trial 36 with value: -3.856651731288341.\n",
      "[I 2024-08-13 11:00:50,682] Trial 38 finished with value: -3.9480822246154137 and parameters: {'num_boost_round': 13, 'max_depth': 1, 'reg_lambda': 0.2340952497053668, 'learning_rate': 0.5308435439267923, 'colsample_bytree': 0.5429851256146994, 'colsample_bylevel': 0.41246111451349576}. Best is trial 36 with value: -3.856651731288341.\n",
      "[I 2024-08-13 11:00:51,494] Trial 39 finished with value: -4.7063358257200285 and parameters: {'num_boost_round': 19, 'max_depth': 1, 'reg_lambda': 0.11250124956406314, 'learning_rate': 1.432322946185232, 'colsample_bytree': 0.34635780962372886, 'colsample_bylevel': 0.4550687916431294}. Best is trial 36 with value: -3.856651731288341.\n",
      "[I 2024-08-13 11:00:52,325] Trial 40 finished with value: -4.023125388340479 and parameters: {'num_boost_round': 14, 'max_depth': 5, 'reg_lambda': 0.1420868172518832, 'learning_rate': 0.758409533006981, 'colsample_bytree': 0.46404334275868586, 'colsample_bylevel': 0.39494626416219225}. Best is trial 36 with value: -3.856651731288341.\n",
      "[I 2024-08-13 11:00:53,139] Trial 41 finished with value: -3.8739971973277214 and parameters: {'num_boost_round': 17, 'max_depth': 2, 'reg_lambda': 1.2659374051433876, 'learning_rate': 0.27114327652627757, 'colsample_bytree': 0.5195213059404805, 'colsample_bylevel': 0.47835358792423577}. Best is trial 36 with value: -3.856651731288341.\n",
      "[I 2024-08-13 11:00:53,951] Trial 42 finished with value: -3.870326946258858 and parameters: {'num_boost_round': 17, 'max_depth': 1, 'reg_lambda': 0.17173604526971406, 'learning_rate': 0.2694440219598685, 'colsample_bytree': 0.5189601083307458, 'colsample_bylevel': 0.42363340804011956}. Best is trial 36 with value: -3.856651731288341.\n",
      "[I 2024-08-13 11:00:54,762] Trial 43 finished with value: -3.88108241868639 and parameters: {'num_boost_round': 19, 'max_depth': 1, 'reg_lambda': 0.18081222157631183, 'learning_rate': 0.4416603655637958, 'colsample_bytree': 0.5161184734066897, 'colsample_bylevel': 0.4281140003015887}. Best is trial 36 with value: -3.856651731288341.\n",
      "[I 2024-08-13 11:00:55,563] Trial 44 finished with value: -3.8568768047289823 and parameters: {'num_boost_round': 19, 'max_depth': 1, 'reg_lambda': 0.17245453614914058, 'learning_rate': 0.4666858867884992, 'colsample_bytree': 0.5148776173929157, 'colsample_bylevel': 0.4250134198057265}. Best is trial 36 with value: -3.856651731288341.\n",
      "[I 2024-08-13 11:00:56,360] Trial 45 finished with value: -3.950961189688219 and parameters: {'num_boost_round': 15, 'max_depth': 1, 'reg_lambda': 0.150574333753707, 'learning_rate': 0.9646802500032415, 'colsample_bytree': 0.4867365722931276, 'colsample_bylevel': 0.3628418138719142}. Best is trial 36 with value: -3.856651731288341.\n",
      "[I 2024-08-13 11:00:57,161] Trial 46 finished with value: -3.924231165469102 and parameters: {'num_boost_round': 20, 'max_depth': 1, 'reg_lambda': 0.1913980900700257, 'learning_rate': 0.14321306847200171, 'colsample_bytree': 0.5035881748905108, 'colsample_bylevel': 0.47178171871264124}. Best is trial 36 with value: -3.856651731288341.\n",
      "[I 2024-08-13 11:00:57,961] Trial 47 finished with value: -3.9406398157913602 and parameters: {'num_boost_round': 12, 'max_depth': 1, 'reg_lambda': 0.10219083366055437, 'learning_rate': 0.5856414749583412, 'colsample_bytree': 0.44660299502190137, 'colsample_bylevel': 0.4368391192548062}. Best is trial 36 with value: -3.856651731288341.\n",
      "[I 2024-08-13 11:00:58,762] Trial 48 finished with value: -4.610191157073111 and parameters: {'num_boost_round': 10, 'max_depth': 2, 'reg_lambda': 0.2369853913924671, 'learning_rate': 4.677405066769087, 'colsample_bytree': 0.5248858301058108, 'colsample_bylevel': 0.422624316971057}. Best is trial 36 with value: -3.856651731288341.\n",
      "[I 2024-08-13 11:00:59,562] Trial 49 finished with value: -3.882583445582121 and parameters: {'num_boost_round': 17, 'max_depth': 1, 'reg_lambda': 0.13212839054180261, 'learning_rate': 0.22223886887158406, 'colsample_bytree': 0.5463500978425904, 'colsample_bylevel': 0.49778343488592147}. Best is trial 36 with value: -3.856651731288341.\n",
      "[I 2024-08-13 11:01:00,373] Trial 50 finished with value: -3.9487813533847684 and parameters: {'num_boost_round': 13, 'max_depth': 2, 'reg_lambda': 0.39605732760217355, 'learning_rate': 0.1353384176769068, 'colsample_bytree': 0.510296275706103, 'colsample_bylevel': 0.3663742372121}. Best is trial 36 with value: -3.856651731288341.\n",
      "[I 2024-08-13 11:01:01,174] Trial 51 finished with value: -3.854277334914119 and parameters: {'num_boost_round': 19, 'max_depth': 1, 'reg_lambda': 0.1743055681576863, 'learning_rate': 0.45110355619990394, 'colsample_bytree': 0.5162721797140596, 'colsample_bylevel': 0.4256693775361646}. Best is trial 51 with value: -3.854277334914119.\n",
      "[I 2024-08-13 11:01:01,974] Trial 52 finished with value: -3.8789527328055637 and parameters: {'num_boost_round': 19, 'max_depth': 1, 'reg_lambda': 0.18116470380712618, 'learning_rate': 0.44777224218396816, 'colsample_bytree': 0.5351779784800973, 'colsample_bylevel': 0.39656302279937305}. Best is trial 51 with value: -3.854277334914119.\n",
      "[I 2024-08-13 11:01:02,778] Trial 53 finished with value: -3.874784717014169 and parameters: {'num_boost_round': 19, 'max_depth': 1, 'reg_lambda': 0.12499451352261974, 'learning_rate': 0.2561319815244985, 'colsample_bytree': 0.49944600924706656, 'colsample_bylevel': 0.4198146210403985}. Best is trial 51 with value: -3.854277334914119.\n",
      "[I 2024-08-13 11:01:03,578] Trial 54 finished with value: -4.176025899301616 and parameters: {'num_boost_round': 20, 'max_depth': 1, 'reg_lambda': 0.16033259844113568, 'learning_rate': 0.8795276428934844, 'colsample_bytree': 0.42387250521706593, 'colsample_bylevel': 0.5405467981123548}. Best is trial 51 with value: -3.854277334914119.\n",
      "[I 2024-08-13 11:01:04,380] Trial 55 finished with value: -3.86077303414438 and parameters: {'num_boost_round': 18, 'max_depth': 1, 'reg_lambda': 7.212938578087053, 'learning_rate': 0.39483348216360675, 'colsample_bytree': 0.584822311642589, 'colsample_bylevel': 0.44313949849894124}. Best is trial 51 with value: -3.854277334914119.\n",
      "[I 2024-08-13 11:01:05,207] Trial 56 finished with value: -4.0030447786619545 and parameters: {'num_boost_round': 16, 'max_depth': 4, 'reg_lambda': 0.22986398233200947, 'learning_rate': 0.5907005745700776, 'colsample_bytree': 0.5854185551826506, 'colsample_bylevel': 0.4424396722249395}. Best is trial 51 with value: -3.854277334914119.\n",
      "[I 2024-08-13 11:01:06,005] Trial 57 finished with value: -3.868947834924525 and parameters: {'num_boost_round': 18, 'max_depth': 1, 'reg_lambda': 7.072002299979933, 'learning_rate': 0.4189813922910264, 'colsample_bytree': 0.5830051754962969, 'colsample_bylevel': 0.4610753195661443}. Best is trial 51 with value: -3.854277334914119.\n",
      "[I 2024-08-13 11:01:06,807] Trial 58 finished with value: -3.8717165952479995 and parameters: {'num_boost_round': 18, 'max_depth': 1, 'reg_lambda': 6.896694705946559, 'learning_rate': 0.44184715729340585, 'colsample_bytree': 0.5557258485578395, 'colsample_bylevel': 0.4648883991553065}. Best is trial 51 with value: -3.854277334914119.\n",
      "[I 2024-08-13 11:01:07,608] Trial 59 finished with value: -7.3283642161343785 and parameters: {'num_boost_round': 19, 'max_depth': 1, 'reg_lambda': 6.216280287890315, 'learning_rate': 1.1724904762052117, 'colsample_bytree': 0.5869120176826013, 'colsample_bylevel': 0.45779320956080205}. Best is trial 51 with value: -3.854277334914119.\n",
      "[I 2024-08-13 11:01:08,412] Trial 60 finished with value: -3.8611595868378465 and parameters: {'num_boost_round': 8, 'max_depth': 1, 'reg_lambda': 5.498915252525426, 'learning_rate': 0.3903295588001747, 'colsample_bytree': 0.5851607651772468, 'colsample_bylevel': 0.3803824354092975}. Best is trial 51 with value: -3.854277334914119.\n",
      "[I 2024-08-13 11:01:09,212] Trial 61 finished with value: -4.010683976359772 and parameters: {'num_boost_round': 8, 'max_depth': 1, 'reg_lambda': 8.64505468514992, 'learning_rate': 0.7226054751587268, 'colsample_bytree': 0.5803927348054213, 'colsample_bylevel': 0.3806994272483883}. Best is trial 51 with value: -3.854277334914119.\n",
      "[I 2024-08-13 11:01:10,013] Trial 62 finished with value: -3.850433056119133 and parameters: {'num_boost_round': 5, 'max_depth': 1, 'reg_lambda': 5.91607631228909, 'learning_rate': 0.4481304853814143, 'colsample_bytree': 0.5606449903664571, 'colsample_bylevel': 0.42510962414532466}. Best is trial 62 with value: -3.850433056119133.\n",
      "[I 2024-08-13 11:01:10,823] Trial 63 finished with value: -3.90880699136566 and parameters: {'num_boost_round': 5, 'max_depth': 1, 'reg_lambda': 5.9790261654325105, 'learning_rate': 0.3652330894215745, 'colsample_bytree': 0.5594153821997931, 'colsample_bylevel': 0.44257026507199837}. Best is trial 62 with value: -3.850433056119133.\n",
      "[I 2024-08-13 11:01:11,628] Trial 64 finished with value: -3.9464285699750037 and parameters: {'num_boost_round': 6, 'max_depth': 1, 'reg_lambda': 9.683685520132348, 'learning_rate': 0.6126844498888454, 'colsample_bytree': 0.5881838782474524, 'colsample_bylevel': 0.34394205157861774}. Best is trial 62 with value: -3.850433056119133.\n",
      "[I 2024-08-13 11:01:12,437] Trial 65 finished with value: -3.882220776567818 and parameters: {'num_boost_round': 3, 'max_depth': 1, 'reg_lambda': 4.407425762430552, 'learning_rate': 0.21115512790555468, 'colsample_bytree': 0.5463106005341745, 'colsample_bylevel': 0.3259518405826735}. Best is trial 62 with value: -3.850433056119133.\n",
      "[I 2024-08-13 11:01:13,240] Trial 66 finished with value: -4.269837844753545 and parameters: {'num_boost_round': 8, 'max_depth': 1, 'reg_lambda': 5.694371726627519, 'learning_rate': 1.7090424953394732, 'colsample_bytree': 0.5970393042196217, 'colsample_bylevel': 0.39907719110402706}. Best is trial 62 with value: -3.850433056119133.\n",
      "[I 2024-08-13 11:01:14,070] Trial 67 finished with value: -3.9659279971050956 and parameters: {'num_boost_round': 10, 'max_depth': 4, 'reg_lambda': 7.555064263768337, 'learning_rate': 0.4342684978833971, 'colsample_bytree': 0.5795723509444577, 'colsample_bylevel': 0.48763701389839653}. Best is trial 62 with value: -3.850433056119133.\n",
      "[I 2024-08-13 11:01:14,874] Trial 68 finished with value: -3.968093301832249 and parameters: {'num_boost_round': 6, 'max_depth': 2, 'reg_lambda': 3.3045024353020436, 'learning_rate': 0.8978974783943127, 'colsample_bytree': 0.5635409510161604, 'colsample_bylevel': 0.4363600736674531}. Best is trial 62 with value: -3.850433056119133.\n",
      "[I 2024-08-13 11:01:15,677] Trial 69 finished with value: -3.9161856123146896 and parameters: {'num_boost_round': 2, 'max_depth': 1, 'reg_lambda': 4.861169673810857, 'learning_rate': 0.36159132689197543, 'colsample_bytree': 0.5544849769769487, 'colsample_bylevel': 0.41788372763033915}. Best is trial 62 with value: -3.850433056119133.\n",
      "[I 2024-08-13 11:01:16,484] Trial 70 finished with value: -3.922232997669211 and parameters: {'num_boost_round': 8, 'max_depth': 2, 'reg_lambda': 2.438557865808512, 'learning_rate': 0.1646574729305454, 'colsample_bytree': 0.5379036266490022, 'colsample_bylevel': 0.44829571273458213}. Best is trial 62 with value: -3.850433056119133.\n",
      "[I 2024-08-13 11:01:17,358] Trial 71 finished with value: -3.854439615124431 and parameters: {'num_boost_round': 5, 'max_depth': 1, 'reg_lambda': 7.016408375563337, 'learning_rate': 0.4893694070996422, 'colsample_bytree': 0.5250297967569488, 'colsample_bylevel': 0.4282667282699676}. Best is trial 62 with value: -3.850433056119133.\n",
      "[I 2024-08-13 11:01:18,156] Trial 72 finished with value: -3.9357486531360224 and parameters: {'num_boost_round': 5, 'max_depth': 1, 'reg_lambda': 7.255036631948197, 'learning_rate': 0.5308847107136707, 'colsample_bytree': 0.5713091567319208, 'colsample_bylevel': 0.4323225929867462}. Best is trial 62 with value: -3.850433056119133.\n",
      "[I 2024-08-13 11:01:18,960] Trial 73 finished with value: -4.129091851280665 and parameters: {'num_boost_round': 4, 'max_depth': 1, 'reg_lambda': 4.782820778307844, 'learning_rate': 0.73701684919855, 'colsample_bytree': 0.5275423511227472, 'colsample_bylevel': 0.40784879420160164}. Best is trial 62 with value: -3.850433056119133.\n",
      "[I 2024-08-13 11:01:19,760] Trial 74 finished with value: -3.8711658883008844 and parameters: {'num_boost_round': 4, 'max_depth': 1, 'reg_lambda': 9.805610183447728, 'learning_rate': 0.3771546709211148, 'colsample_bytree': 0.5818373715877795, 'colsample_bylevel': 0.46468714026663965}. Best is trial 62 with value: -3.850433056119133.\n",
      "[I 2024-08-13 11:01:20,562] Trial 75 finished with value: -3.848205506529227 and parameters: {'num_boost_round': 6, 'max_depth': 1, 'reg_lambda': 8.292548701680902, 'learning_rate': 0.45932800620680125, 'colsample_bytree': 0.5409369036578051, 'colsample_bylevel': 0.39043881357077315}. Best is trial 75 with value: -3.848205506529227.\n",
      "[I 2024-08-13 11:01:21,405] Trial 76 finished with value: -3.9809119967543487 and parameters: {'num_boost_round': 7, 'max_depth': 5, 'reg_lambda': 5.3707533686408135, 'learning_rate': 0.5193935969185676, 'colsample_bytree': 0.5119515744203272, 'colsample_bylevel': 0.37542181617056214}. Best is trial 75 with value: -3.848205506529227.\n",
      "[I 2024-08-13 11:01:22,205] Trial 77 finished with value: -4.150506598144852 and parameters: {'num_boost_round': 6, 'max_depth': 1, 'reg_lambda': 8.657152910007932, 'learning_rate': 1.0647769658417028, 'colsample_bytree': 0.5439322350153555, 'colsample_bylevel': 0.38792027748603114}. Best is trial 75 with value: -3.848205506529227.\n",
      "[I 2024-08-13 11:01:23,013] Trial 78 finished with value: -4.113105653371279 and parameters: {'num_boost_round': 3, 'max_depth': 1, 'reg_lambda': 3.8907925646796975, 'learning_rate': 0.655280173109759, 'colsample_bytree': 0.5281449299420719, 'colsample_bylevel': 0.38738839730381225}. Best is trial 75 with value: -3.848205506529227.\n",
      "[I 2024-08-13 11:01:23,814] Trial 79 finished with value: -3.890238484375558 and parameters: {'num_boost_round': 5, 'max_depth': 1, 'reg_lambda': 7.959196930113778, 'learning_rate': 0.3289471286176759, 'colsample_bytree': 0.5396170562670783, 'colsample_bylevel': 0.36298424212457725}. Best is trial 75 with value: -3.848205506529227.\n",
      "[I 2024-08-13 11:01:24,618] Trial 80 finished with value: -3.8740215551271464 and parameters: {'num_boost_round': 6, 'max_depth': 1, 'reg_lambda': 6.690234684843179, 'learning_rate': 0.21947333387883328, 'colsample_bytree': 0.5547992198396393, 'colsample_bylevel': 0.4036594334387034}. Best is trial 75 with value: -3.848205506529227.\n",
      "[I 2024-08-13 11:01:25,421] Trial 81 finished with value: -3.8553617702116987 and parameters: {'num_boost_round': 7, 'max_depth': 1, 'reg_lambda': 5.248631514318965, 'learning_rate': 0.48522418827096686, 'colsample_bytree': 0.5934454243515144, 'colsample_bylevel': 0.42920130628179987}. Best is trial 75 with value: -3.848205506529227.\n",
      "[I 2024-08-13 11:01:26,222] Trial 82 finished with value: -3.908493377671965 and parameters: {'num_boost_round': 7, 'max_depth': 1, 'reg_lambda': 3.5633633357338237, 'learning_rate': 0.49884854717322763, 'colsample_bytree': 0.5927592004396116, 'colsample_bylevel': 0.43050969850230614}. Best is trial 75 with value: -3.848205506529227.\n",
      "[I 2024-08-13 11:01:27,022] Trial 83 finished with value: -4.198209563801386 and parameters: {'num_boost_round': 7, 'max_depth': 1, 'reg_lambda': 5.050445849693915, 'learning_rate': 0.8431143815227187, 'colsample_bytree': 0.49214704196417425, 'colsample_bylevel': 0.4168177457054106}. Best is trial 75 with value: -3.848205506529227.\n",
      "[I 2024-08-13 11:01:27,824] Trial 84 finished with value: -3.8799956608850135 and parameters: {'num_boost_round': 9, 'max_depth': 1, 'reg_lambda': 6.433050813436604, 'learning_rate': 0.30289985897200855, 'colsample_bytree': 0.5680422375870963, 'colsample_bylevel': 0.44832613409677363}. Best is trial 75 with value: -3.848205506529227.\n",
      "[I 2024-08-13 11:01:28,626] Trial 85 finished with value: -3.973964420515935 and parameters: {'num_boost_round': 5, 'max_depth': 1, 'reg_lambda': 4.324915322054107, 'learning_rate': 0.6312816058383347, 'colsample_bytree': 0.562475906874725, 'colsample_bylevel': 0.4270511955440015}. Best is trial 75 with value: -3.848205506529227.\n",
      "[I 2024-08-13 11:01:29,428] Trial 86 finished with value: -3.851170367041776 and parameters: {'num_boost_round': 8, 'max_depth': 1, 'reg_lambda': 2.7456775038481176, 'learning_rate': 0.4566721075556429, 'colsample_bytree': 0.47585018579215715, 'colsample_bylevel': 0.39205359334961937}. Best is trial 75 with value: -3.848205506529227.\n",
      "[I 2024-08-13 11:01:30,229] Trial 87 finished with value: -3.8880168255320897 and parameters: {'num_boost_round': 4, 'max_depth': 1, 'reg_lambda': 2.9484377825730856, 'learning_rate': 0.320914934931218, 'colsample_bytree': 0.4704689656993043, 'colsample_bylevel': 0.3960549569929417}. Best is trial 75 with value: -3.848205506529227.\n",
      "[I 2024-08-13 11:01:31,039] Trial 88 finished with value: -3.922999571546535 and parameters: {'num_boost_round': 11, 'max_depth': 2, 'reg_lambda': 8.245869865059348, 'learning_rate': 0.48085789082327246, 'colsample_bytree': 0.4786032916909348, 'colsample_bylevel': 0.44008347909055084}. Best is trial 75 with value: -3.848205506529227.\n",
      "[I 2024-08-13 11:01:31,840] Trial 89 finished with value: -4.4449568684655505 and parameters: {'num_boost_round': 6, 'max_depth': 1, 'reg_lambda': 1.7384166241939198, 'learning_rate': 1.4568078556183486, 'colsample_bytree': 0.5082293155073775, 'colsample_bylevel': 0.4132091916796836}. Best is trial 75 with value: -3.848205506529227.\n",
      "[I 2024-08-13 11:01:32,642] Trial 90 finished with value: -3.874900969920578 and parameters: {'num_boost_round': 10, 'max_depth': 1, 'reg_lambda': 0.11752854514788719, 'learning_rate': 0.23032926048940328, 'colsample_bytree': 0.49686703920956155, 'colsample_bylevel': 0.35578184701312254}. Best is trial 75 with value: -3.848205506529227.\n",
      "[I 2024-08-13 11:01:33,445] Trial 91 finished with value: -3.87026723313069 and parameters: {'num_boost_round': 8, 'max_depth': 1, 'reg_lambda': 5.612817166928803, 'learning_rate': 0.4076436432770646, 'colsample_bytree': 0.5503539135103018, 'colsample_bylevel': 0.4251878035761872}. Best is trial 75 with value: -3.848205506529227.\n",
      "[I 2024-08-13 11:01:34,248] Trial 92 finished with value: -4.400459186353429 and parameters: {'num_boost_round': 7, 'max_depth': 1, 'reg_lambda': 0.31393376353883273, 'learning_rate': 0.015320380596956909, 'colsample_bytree': 0.5738355649341019, 'colsample_bylevel': 0.40499657413691864}. Best is trial 75 with value: -3.848205506529227.\n",
      "[I 2024-08-13 11:01:35,049] Trial 93 finished with value: -3.9438625751063294 and parameters: {'num_boost_round': 9, 'max_depth': 1, 'reg_lambda': 2.6268947874871698, 'learning_rate': 0.5529464313427777, 'colsample_bytree': 0.4621934598692369, 'colsample_bylevel': 0.38053727523174724}. Best is trial 75 with value: -3.848205506529227.\n",
      "[I 2024-08-13 11:01:35,850] Trial 94 finished with value: -5.118834082573678 and parameters: {'num_boost_round': 6, 'max_depth': 1, 'reg_lambda': 1.9142242491959587, 'learning_rate': 0.7070166826718511, 'colsample_bytree': 0.5316152466454841, 'colsample_bylevel': 0.3910937524155084}. Best is trial 75 with value: -3.848205506529227.\n",
      "[I 2024-08-13 11:01:36,652] Trial 95 finished with value: -3.884878986034275 and parameters: {'num_boost_round': 20, 'max_depth': 1, 'reg_lambda': 7.795354975842618, 'learning_rate': 0.29360174091209956, 'colsample_bytree': 0.590973028526382, 'colsample_bylevel': 0.37106255722338843}. Best is trial 75 with value: -3.848205506529227.\n",
      "[I 2024-08-13 11:01:37,455] Trial 96 finished with value: -3.853663070291653 and parameters: {'num_boost_round': 7, 'max_depth': 1, 'reg_lambda': 6.217202532186291, 'learning_rate': 0.48261874412978534, 'colsample_bytree': 0.5392953999956528, 'colsample_bylevel': 0.41548499322038607}. Best is trial 75 with value: -3.848205506529227.\n",
      "[I 2024-08-13 11:01:38,256] Trial 97 finished with value: -3.848557051084056 and parameters: {'num_boost_round': 5, 'max_depth': 1, 'reg_lambda': 6.602726111566002, 'learning_rate': 0.4592881324561622, 'colsample_bytree': 0.5149653205671454, 'colsample_bylevel': 0.4518634828645061}. Best is trial 75 with value: -3.848205506529227.\n",
      "[I 2024-08-13 11:01:39,066] Trial 98 finished with value: -4.018070268981766 and parameters: {'num_boost_round': 3, 'max_depth': 1, 'reg_lambda': 6.336006966989986, 'learning_rate': 0.8207285559616425, 'colsample_bytree': 0.5151740592308788, 'colsample_bylevel': 0.41592348585935845}. Best is trial 75 with value: -3.848205506529227.\n",
      "[I 2024-08-13 11:01:39,877] Trial 99 finished with value: -3.898880761090688 and parameters: {'num_boost_round': 5, 'max_depth': 1, 'reg_lambda': 0.2083794254116914, 'learning_rate': 0.4935781956473069, 'colsample_bytree': 0.5226604002471792, 'colsample_bylevel': 0.45396546429061435}. Best is trial 75 with value: -3.848205506529227.\n"
     ]
    }
   ],
   "source": [
    "import optuna\n",
    "from optuna.samplers import TPESampler\n",
    "sampler = TPESampler(seed = 0)\n",
    "study_model = optuna.create_study(direction = 'maximize', sampler = sampler)\n",
    "study_model.optimize(xgb_stes_optuna_objective, n_trials = 100) "
   ]
  },
  {
   "cell_type": "code",
   "execution_count": 80,
   "metadata": {},
   "outputs": [
    {
     "name": "stdout",
     "output_type": "stream",
     "text": [
      "Best params from optuna: \n",
      "                        Value\n",
      "num_boost_round     6.000000\n",
      "max_depth           1.000000\n",
      "learning_rate       0.459328\n",
      "colsample_bytree    0.540937\n",
      "colsample_bylevel   0.390439\n",
      "colsample_bynode    0.800000\n",
      "reg_lambda          8.292549\n",
      "random_state       42.000000\n"
     ]
    }
   ],
   "source": [
    "trial = study_model.best_trial\n",
    "xgb_stes_spy_best_params_optuna = trial.params\n",
    "xgb_params_opt_tuned = DEFAULT_XGBOOST_PARAMS | xgb_stes_spy_best_params_optuna\n",
    "xgb_params_opt_tuned\n",
    "print('Best params from optuna: \\n', pd.DataFrame.from_dict(xgb_params_opt_tuned, orient='index', columns=['Value']))"
   ]
  },
  {
   "cell_type": "code",
   "execution_count": 83,
   "metadata": {},
   "outputs": [
    {
     "data": {
      "text/plain": [
       "(4.865213034069832, 4.882299983746185)"
      ]
     },
     "execution_count": 83,
     "metadata": {},
     "output_type": "execute_result"
    }
   ],
   "source": [
    "xgb_stes_spy_model_opt_tuned = XGBoostSTESModel(**xgb_params_opt_tuned)\n",
    "data_provider = partial(\n",
    "    equity_data_provider, \n",
    "    tickers=tickers, \n",
    "    start_date=start_date, \n",
    "    end_date=end_date, \n",
    "    model_name=ModelName.XGBoost_STES,\n",
    ")\n",
    "evaluate_model(data_provider, xgb_stes_spy_model_opt_tuned, root_mean_squared_error, 10, 4000)"
   ]
  }
 ],
 "metadata": {
  "kernelspec": {
   "display_name": "ml_env",
   "language": "python",
   "name": "python3"
  },
  "language_info": {
   "codemirror_mode": {
    "name": "ipython",
    "version": 3
   },
   "file_extension": ".py",
   "mimetype": "text/x-python",
   "name": "python",
   "nbconvert_exporter": "python",
   "pygments_lexer": "ipython3",
   "version": "3.11.6"
  }
 },
 "nbformat": 4,
 "nbformat_minor": 2
}
