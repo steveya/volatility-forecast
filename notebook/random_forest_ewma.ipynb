{
 "cells": [
  {
   "cell_type": "markdown",
   "metadata": {},
   "source": [
    "# Boosted Exponential Smoothing Volatility Forecasts\n",
    "\n",
    "This notebook corresponds to the blog post [Extending Smooth Transitioning Exponential Smoothing Volatility Forecasts](https://steveya.github.io/2024/07/12/volatility-forecast-1.html). The aim is to replace the logistic function used by the STES model with a xgboost model, and evaluate their relative performance. It is a work in progress and will be updated as I wrap up my implementations."
   ]
  },
  {
   "cell_type": "code",
   "execution_count": 1,
   "metadata": {},
   "outputs": [],
   "source": [
    "import numpy as np\n",
    "import pandas as pd\n",
    "from functools import partial\n",
    "from scipy.optimize import minimize, least_squares\n",
    "from scipy.special import expit\n",
    "from matplotlib import pyplot as plt\n",
    "from operator import itemgetter\n",
    "import yfinance as yf\n",
    "import xgboost as xgb\n",
    "import random"
   ]
  },
  {
   "cell_type": "code",
   "execution_count": 2,
   "metadata": {},
   "outputs": [],
   "source": [
    "def simulate_contaminated_garch(n, mu, omega, alpha, beta, eta):\n",
    "    returns = np.zeros(n)\n",
    "    sigma2s = np.zeros(n)\n",
    "    shocks = (np.random.uniform(0, 1, n) < 0.005).astype(float)\n",
    "    for t in range(1, n):\n",
    "        sigma2s[t] = omega + alpha * returns[t-1]**2 + beta * sigma2s[t-1]\n",
    "        returns[t] = np.random.normal(mu, np.sqrt(sigma2s[t])) + eta * shocks[t]\n",
    "\n",
    "    return returns, sigma2s"
   ]
  },
  {
   "cell_type": "code",
   "execution_count": 3,
   "metadata": {},
   "outputs": [],
   "source": [
    "def stes_template(params, returns, features_func):\n",
    "    assert len(params) == len(features_func)\n",
    "    n = len(returns)\n",
    "    sigma2s = np.zeros(n)\n",
    "    alphas = np.zeros(n)\n",
    "    for t in range(1, n):\n",
    "        features = np.array([f(returns[t-1]) for f in features_func])\n",
    "        alpha = expit(params @ features)\n",
    "        alphas[t-1] = alpha\n",
    "        sigma2s[t] = (1 - alphas[t-1]) * sigma2s[t-1] + alphas[t-1] * returns[t-1]**2\n",
    "\n",
    "    return sigma2s, alphas\n"
   ]
  },
  {
   "cell_type": "code",
   "execution_count": 4,
   "metadata": {},
   "outputs": [],
   "source": [
    "const = lambda _: 1\n",
    "abs_x = np.abs\n",
    "sqr_x = lambda x: x**2\n",
    "id_x = lambda x: x"
   ]
  },
  {
   "cell_type": "code",
   "execution_count": 5,
   "metadata": {},
   "outputs": [],
   "source": [
    "es = partial(stes_template, features_func=(const,)) \n",
    "stes_ae = partial(stes_template, features_func=(const, abs_x))\n",
    "stes_se = partial(stes_template, features_func=(const, sqr_x))\n",
    "stes_eae = partial(stes_template, features_func=(const, abs_x, id_x))\n",
    "stes_ese = partial(stes_template, features_func=(const, sqr_x, id_x))\n",
    "stes_aese = partial(stes_template, features_func=(const, abs_x, sqr_x))"
   ]
  },
  {
   "cell_type": "code",
   "execution_count": 6,
   "metadata": {},
   "outputs": [],
   "source": [
    "def squared_residual(params, model, returns, is_index=500, os_index=2000):\n",
    "    sigma2s, _ = model(params, returns)\n",
    "    sse = (returns ** 2 - sigma2s)\n",
    "    residual = sse[is_index:os_index]\n",
    "    return residual\n",
    "\n",
    "def rmse_metric(model, params, returns, is_index=500, os_index=2000):\n",
    "    sigma2s, alphas = model(params, returns)\n",
    "    \n",
    "    sse = (returns ** 2 - sigma2s) ** 2\n",
    "    is_rmse = np.sqrt(np.mean(sse[is_index:os_index]))\n",
    "    os_rmse = np.sqrt(np.mean(sse[os_index:]))\n",
    "    return is_rmse, os_rmse, sigma2s, alphas\n",
    "\n",
    "def nllh_metric(model, params, returns, is_index=500, os_index=2000):\n",
    "    sigma2s, alphas = model(params, returns)\n",
    "   \n",
    "    llh = -np.log(sigma2s[2:]) - (returns[2:] ** 2 / sigma2s[2:])\n",
    "    is_nllh = -np.sum(llh[is_index:os_index])\n",
    "    os_nllh = -np.sum(llh[os_index:])\n",
    "    return is_nllh, os_nllh, sigma2s, alphas"
   ]
  },
  {
   "cell_type": "markdown",
   "metadata": {},
   "source": [
    "I tested two ways to optimize the parameters of the general stes model. The first is to directly compute the root mean squared error (RMSE) from `rmse_metric` function, take the first output `is_rmse`, and use  `scipy.optimize.minimize` to find the optimal parameters. The second is to compute the residuals from `squared_residual` and then use `scipy.optimize.least_squares` to find the optimal parameters. I initialize the initial parameters to the optimizer using a standard gaussian distribution. \n",
    "\n",
    "I found that the second method is more robust to parameters initialization. Below are the expeiment fitting the `stes_ae` model using the two approaches with 10 random initialization."
   ]
  },
  {
   "cell_type": "code",
   "execution_count": 7,
   "metadata": {},
   "outputs": [],
   "source": [
    "def fit_model_minimize(model, param_dim, returns, is_index=500, os_index=2000):\n",
    "    initial_params = np.random.normal(0, 1, size=param_dim)\n",
    "    obj_func_inner = lambda *args, **kwargs: itemgetter(0)(partial(rmse_metric, model)(*args, **kwargs))\n",
    "    result = minimize(obj_func_inner, initial_params, args=(returns, is_index, os_index), method = 'SLSQP')\n",
    "    \n",
    "    if not result.success:\n",
    "        raise ValueError(\"Optimization failed: \" + result.message)\n",
    "    \n",
    "    is_mse, os_mse, sigmas, alphas = rmse_metric(model,result.x, returns, is_index, os_index)\n",
    "    is_llh, os_llh, _, _ = nllh_metric(model, result.x, returns, is_index, os_index)\n",
    "    return (result.x, os_mse, os_llh, sigmas, alphas, is_mse, is_llh)\n",
    "\n",
    "def fit_model_least_square(model, param_dim, returns, is_index=500, os_index=2000):\n",
    "    initial_params = np.random.normal(0, 1, size=param_dim)\n",
    "    obj_func_inner = partial(squared_residual, model=model, returns=returns, is_index=is_index, os_index=os_index)\n",
    "    result = least_squares(obj_func_inner, initial_params)\n",
    "    \n",
    "    if not result.success:\n",
    "        raise ValueError(\"Optimization failed: \" + result.message)\n",
    "    \n",
    "    is_mse, os_mse, sigmas, alphas = rmse_metric(model,result.x, returns, is_index, os_index)\n",
    "    is_llh, os_llh, _, _ = nllh_metric(model, result.x, returns, is_index, os_index)\n",
    "    return (result.x, os_mse, os_llh, sigmas, alphas, is_mse, is_llh)\n",
    "\n",
    "fit_es_minimize = partial(fit_model_minimize, model=es, param_dim=1)\n",
    "fit_stes_ae_minimize = partial(fit_model_minimize, model=stes_ae, param_dim=2)\n",
    "fit_stes_se_minimize = partial(fit_model_minimize, model=stes_se, param_dim=2)\n",
    "fit_stes_eae_minimize = partial(fit_model_minimize, model=stes_eae, param_dim=3)\n",
    "fit_stes_ese_minimize = partial(fit_model_minimize, model=stes_ese, param_dim=3)\n",
    "fit_stes_aese_minimize = partial(fit_model_minimize, model=stes_aese, param_dim=3)\n",
    "\n",
    "fit_es_least_square = partial(fit_model_least_square, model=es, param_dim=1)\n",
    "fit_stes_ae_least_square = partial(fit_model_least_square, model=stes_ae, param_dim=2)\n",
    "fit_stes_se_least_square = partial(fit_model_least_square, model=stes_se, param_dim=2)\n",
    "fit_stes_ese_least_square = partial(fit_model_least_square, model=stes_ese, param_dim=3)\n",
    "fit_stes_eae_least_square = partial(fit_model_least_square, model=stes_eae, param_dim=3)\n",
    "fit_stes_aese_least_square = partial(fit_model_least_square, model=stes_aese, param_dim=3)\n"
   ]
  },
  {
   "cell_type": "markdown",
   "metadata": {},
   "source": [
    "Generate a random sample of returns."
   ]
  },
  {
   "cell_type": "code",
   "execution_count": 8,
   "metadata": {},
   "outputs": [],
   "source": [
    "np.random.seed(0)\n",
    "np.random.seed(np.random.randint(0, 1e4, size=1))\n",
    "simulated_garch_return, simulated_garch_var = simulate_contaminated_garch(n=2500, mu=0, omega=0.02, alpha=0.11, beta=0.87, eta=4)\n"
   ]
  },
  {
   "cell_type": "code",
   "execution_count": 9,
   "metadata": {},
   "outputs": [
    {
     "name": "stdout",
     "output_type": "stream",
     "text": [
      "[-2.1670995  -0.11246057]\n",
      "[-2.16702008 -0.11246866]\n",
      "[-2.16714041 -0.11245641]\n",
      "[-2.16711731 -0.11245876]\n",
      "[-2.16701855 -0.11246882]\n",
      "[-2.16712513 -0.11245797]\n",
      "[-2.16697288 -0.11247378]\n",
      "[-2.16716552 -0.11245386]\n",
      "[-2.16707807 -0.11246275]\n",
      "[-2.16712244 -0.11245824]\n"
     ]
    }
   ],
   "source": [
    "np.random.seed(0)\n",
    "for _ in range(10):\n",
    "    lss = least_squares(partial(squared_residual, model=stes_ae, returns=simulated_garch_return), x0=np.random.normal(0, 1, 2)) \n",
    "    print(lss.x)"
   ]
  },
  {
   "cell_type": "code",
   "execution_count": 10,
   "metadata": {},
   "outputs": [
    {
     "name": "stdout",
     "output_type": "stream",
     "text": [
      "[-2.16674593 -0.11249054]\n",
      "[-11.80986301 -16.08684575]\n",
      "[-2.1676799  -0.11233752]\n",
      "[-2.1670345  -0.11249873]\n",
      "[-2.16680262 -0.11192826]\n",
      "[-2.16696151 -0.11245809]\n",
      "[-2.1671567  -0.11248048]\n",
      "[-2.16675334 -0.11247579]\n",
      "[-2.16611258 -0.11210408]\n",
      "[-2.16630593 -0.11304955]\n"
     ]
    }
   ],
   "source": [
    "np.random.seed(0)\n",
    "for _ in range(10):\n",
    "    p, _, _, _, _, _, _ = fit_stes_ae_minimize(returns=simulated_garch_return)\n",
    "    print(p)"
   ]
  },
  {
   "cell_type": "markdown",
   "metadata": {},
   "source": [
    "Given exact same simualted sequence and random seeds used to gnerate the initial values to the optimizer, the `fit_stest_ae_minimize` function unstable optimas. After some playing around, the `fit_stest_ae_leastsquares` function seems to converge to a stable solution in repeated random runs."
   ]
  },
  {
   "cell_type": "markdown",
   "metadata": {},
   "source": [
    "### STES and ES Performance on Simulated Contaminated GARCH Data\n",
    "I simulate the contaminated GARCH time series using the same parameters as in the Taylor (2020) paper. I then fit the STES and ES models to the simulated data and measure their performance on the test sample 1-step ahead root mean square forecast error. The results are shown in Table 1."
   ]
  },
  {
   "cell_type": "code",
   "execution_count": 111,
   "metadata": {},
   "outputs": [],
   "source": [
    "stes_ae_os_rmses = []\n",
    "stes_se_os_rmses = []\n",
    "es_os_rmses = []\n",
    "\n",
    "num_runs = 1000\n",
    "np.random.seed(0)\n",
    "rand_seeds = np.random.randint(0, 1e6, size=num_runs)\n",
    "for i in range(num_runs):\n",
    "    np.random.seed(rand_seeds[i])\n",
    "    simulated_garch_return, simulated_garch_var = simulate_contaminated_garch(n=2500, mu=0, omega=0.02, alpha=0.11, beta=0.87, eta=4)\n",
    "    _, os_stes_se_rmse, _, _, _, _, _ = fit_stes_se_least_square(returns=simulated_garch_return)\n",
    "    _, os_stes_ae_rmse, _, _, _, _, _ = fit_stes_ae_least_square(returns=simulated_garch_return)\n",
    "    _,      os_es_rmse,      _, _, _, _, _ = fit_es_least_square(returns=simulated_garch_return)\n",
    "    stes_ae_os_rmses.append(os_stes_ae_rmse)\n",
    "    stes_se_os_rmses.append(os_stes_se_rmse)\n",
    "    es_os_rmses.append(os_es_rmse)\n"
   ]
  },
  {
   "cell_type": "code",
   "execution_count": 112,
   "metadata": {},
   "outputs": [
    {
     "data": {
      "image/png": "[encoded data removed]",
      "text/plain": [
       "<Figure size 640x480 with 1 Axes>"
      ]
     },
     "metadata": {},
     "output_type": "display_data"
    },
    {
     "name": "stdout",
     "output_type": "stream",
     "text": [
      "The mean of RMSE of the STES-AE model is 2.8452412258472464\n",
      "The mean of RMSE of the STES-SE model is 2.8787248873818627\n",
      "The mean of RMSE of the ES model is 2.85216396301645\n"
     ]
    }
   ],
   "source": [
    "plt.hist(stes_ae_os_rmses, bins=50, alpha=0.5, label='STES-AE')\n",
    "plt.hist(stes_se_os_rmses, bins=50, alpha=0.5, label='STES-SE')\n",
    "plt.hist(es_os_rmses, bins=50, alpha=0.5, label='ES')\n",
    "\n",
    "plt.legend()\n",
    "plt.show()\n",
    "\n",
    "print(f\"The mean of RMSE of the STES-AE model is {np.mean(stes_ae_os_rmses)}\")\n",
    "print(f\"The mean of RMSE of the STES-SE model is {np.mean(stes_se_os_rmses)}\")\n",
    "print(f\"The mean of RMSE of the ES model is {np.mean(es_os_rmses)}\")\n"
   ]
  },
  {
   "cell_type": "markdown",
   "metadata": {},
   "source": [
    "### Performace of STES and ES on SPY Variance Forecasts\n",
    "I take the data from 2000 and fit the first 4000 data points (this part deviate from Taylor (2020), where they fit to data up to 2010.) My test-sample starts from 2015-11-27. I use record the average test-sample RMSE of 100 random initial parameters. "
   ]
  },
  {
   "cell_type": "code",
   "execution_count": 90,
   "metadata": {},
   "outputs": [
    {
     "name": "stderr",
     "output_type": "stream",
     "text": [
      "[*********************100%%**********************]  1 of 1 completed\n"
     ]
    }
   ],
   "source": [
    "spy_adj_close = yf.download(\"SPY\", start=\"2000-01-01\", end=\"2023-12-31\")\n",
    "spy_log_returns = np.log(spy_adj_close[\"Adj Close\"]).diff().dropna() * 100"
   ]
  },
  {
   "cell_type": "code",
   "execution_count": 12,
   "metadata": {},
   "outputs": [
    {
     "name": "stdout",
     "output_type": "stream",
     "text": [
      "SPY daily returns series has length 6036\n",
      "Test data starts from 2015-11-27 00:00:00\n"
     ]
    }
   ],
   "source": [
    "print(f\"SPY daily returns series has length {len(spy_log_returns)}\")\n",
    "print(f\"Test data starts from {spy_log_returns.index[4000]}\")"
   ]
  },
  {
   "cell_type": "code",
   "execution_count": 13,
   "metadata": {},
   "outputs": [],
   "source": [
    "np.random.seed(0)\n",
    "stes_aese_spy_res = [fit_stes_aese_least_square(returns=spy_log_returns.to_numpy(), is_index=10, os_index=4000) for _ in range(100)]"
   ]
  },
  {
   "cell_type": "code",
   "execution_count": 203,
   "metadata": {},
   "outputs": [],
   "source": [
    "np.random.seed(0)\n",
    "stes_eae_spy_res = [fit_stes_eae_least_square(returns=spy_log_returns.to_numpy(), is_index=10, os_index=4000) for _ in range(100)]"
   ]
  },
  {
   "cell_type": "code",
   "execution_count": 211,
   "metadata": {},
   "outputs": [],
   "source": [
    "np.random.seed(0)\n",
    "stes_ese_spy_res = [fit_stes_ese_least_square(returns=spy_log_returns.to_numpy(), is_index=10, os_index=4000) for _ in range(100)]"
   ]
  },
  {
   "cell_type": "code",
   "execution_count": 212,
   "metadata": {},
   "outputs": [],
   "source": [
    "np.random.seed(0)\n",
    "es_spy_res = [fit_es_least_square(returns=spy_log_returns.to_numpy(), is_index=10, os_index=4000) for _ in range(100)]"
   ]
  },
  {
   "cell_type": "code",
   "execution_count": 213,
   "metadata": {},
   "outputs": [
    {
     "name": "stdout",
     "output_type": "stream",
     "text": [
      "\n",
      "      STES AE&SE Parameter Estimated on SPY Returns using MLE: [  -1.96844003   11.82339166 -161.83297896],  \n",
      "      Out-of-Sample Mean Squared Error = 0.000450, \n",
      "      Out-of-Sample Neg Log-Likelihood = -17033.413527, \n",
      "      In-Sample Mean Squared Error = 0.000496,\n",
      "      In-Sample Neg Log-Likelihood = -32546.811244,\n",
      "\n"
     ]
    }
   ],
   "source": [
    "print(f\"\"\"\n",
    "      STES AE&SE Parameter Estimated on SPY Returns using MLE: {np.mean([s[0] for s in stes_aese_spy_res], axis=0)},  \n",
    "      Out-of-Sample Mean Squared Error = {np.mean([s[1] for s in stes_aese_spy_res]):.6f}, \n",
    "      Out-of-Sample Neg Log-Likelihood = {np.mean([s[2] for s in stes_aese_spy_res]):.6f}, \n",
    "      In-Sample Mean Squared Error = {np.mean([s[5] for s in stes_aese_spy_res]):.6f},\n",
    "      In-Sample Neg Log-Likelihood = {np.mean([s[6] for s in stes_aese_spy_res]):.6f},\n",
    "\"\"\")"
   ]
  },
  {
   "cell_type": "code",
   "execution_count": 217,
   "metadata": {},
   "outputs": [
    {
     "name": "stdout",
     "output_type": "stream",
     "text": [
      "\n",
      "      STES E&AE Parameter Estimated on SPY Returns using MLE: [-1.74754095 -9.24433279 -8.32852327],  \n",
      "      Out-of-Sample Mean Squared Error = 0.000452, \n",
      "      Out-of-Sample Neg Log-Likelihood = -16975.620619, \n",
      "      In-Sample Mean Squared Error = 0.000495,\n",
      "      In-Sample Neg Log-Likelihood = -32466.350112,\n",
      "\n"
     ]
    }
   ],
   "source": [
    "print(f\"\"\"\n",
    "      STES E&AE Parameter Estimated on SPY Returns using MLE: {np.mean([s[0] for s in stes_eae_spy_res], axis=0)},  \n",
    "      Out-of-Sample Mean Squared Error = {np.mean([s[1] for s in stes_eae_spy_res]):.6f}, \n",
    "      Out-of-Sample Neg Log-Likelihood = {np.mean([s[2] for s in stes_eae_spy_res]):.6f}, \n",
    "      In-Sample Mean Squared Error = {np.mean([s[5] for s in stes_eae_spy_res]):.6f},\n",
    "      In-Sample Neg Log-Likelihood = {np.mean([s[6] for s in stes_eae_spy_res]):.6f},\n",
    "\"\"\")"
   ]
  },
  {
   "cell_type": "code",
   "execution_count": 218,
   "metadata": {},
   "outputs": [
    {
     "name": "stdout",
     "output_type": "stream",
     "text": [
      "\n",
      "      STES E&SE Parameter Estimated on SPY Returns using MLE: [  -1.96981753 -334.44229617  -28.13900185],  \n",
      "      Out-of-Sample Mean Squared Error = 0.000450, \n",
      "      Out-of-Sample Neg Log-Likelihood = -17019.445830, \n",
      "      In-Sample Mean Squared Error = 0.000493,\n",
      "      In-Sample Neg Log-Likelihood = -32589.709564,\n",
      "\n"
     ]
    }
   ],
   "source": [
    "print(f\"\"\"\n",
    "      STES E&SE Parameter Estimated on SPY Returns using MLE: {np.mean([s[0] for s in stes_ese_spy_res], axis=0)},  \n",
    "      Out-of-Sample Mean Squared Error = {np.mean([s[1] for s in stes_ese_spy_res]):.6f}, \n",
    "      Out-of-Sample Neg Log-Likelihood = {np.mean([s[2] for s in stes_ese_spy_res]):.6f}, \n",
    "      In-Sample Mean Squared Error = {np.mean([s[5] for s in stes_ese_spy_res]):.6f},\n",
    "      In-Sample Neg Log-Likelihood = {np.mean([s[6] for s in stes_ese_spy_res]):.6f},\n",
    "\"\"\")"
   ]
  },
  {
   "cell_type": "code",
   "execution_count": 215,
   "metadata": {},
   "outputs": [
    {
     "name": "stdout",
     "output_type": "stream",
     "text": [
      "\n",
      "      ES Parameter Estimated on SPY Returns using MLE: [-2.19081635],  \n",
      "      Out-of-Sample Mean Squared Error = 0.000464, \n",
      "      Out-of-Sample Neg Log-Likelihood = -17037.882879, \n",
      "      In-Sample Mean Squared Error = 0.000500,\n",
      "      In-Sample Neg Log-Likelihood = -32581.415149,\n",
      "\n"
     ]
    }
   ],
   "source": [
    "print(f\"\"\"\n",
    "      ES Parameter Estimated on SPY Returns using MLE: {np.mean([s[0] for s in es_spy_res], axis=0)},  \n",
    "      Out-of-Sample Mean Squared Error = {np.mean([s[1] for s in es_spy_res]):.6f}, \n",
    "      Out-of-Sample Neg Log-Likelihood = {np.mean([s[2] for s in es_spy_res]):.6f}, \n",
    "      In-Sample Mean Squared Error = {np.mean([s[5] for s in es_spy_res]):.6f},\n",
    "      In-Sample Neg Log-Likelihood = {np.mean([s[6] for s in es_spy_res]):.6f},\n",
    "\"\"\")"
   ]
  },
  {
   "cell_type": "markdown",
   "metadata": {},
   "source": [
    "## Building XGBoost-Based Exponential Smoothing Model"
   ]
  },
  {
   "cell_type": "code",
   "execution_count": 91,
   "metadata": {},
   "outputs": [],
   "source": [
    "from sklearn.base import BaseEstimator, RegressorMixin\n",
    "from sklearn.model_selection import RandomizedSearchCV, TimeSeriesSplit\n",
    "from sklearn.metrics import make_scorer\n",
    "from scipy.stats import randint, uniform\n",
    "\n"
   ]
  },
  {
   "cell_type": "code",
   "execution_count": 92,
   "metadata": {},
   "outputs": [],
   "source": [
    "class TimeSeriesDataIterator:\n",
    "    def __init__(self, data, window_size):\n",
    "        self.data = data\n",
    "        self.window_size = window_size\n",
    "        self.max_index = len(data) - window_size\n",
    "        \n",
    "    def __iter__(self):\n",
    "        return self\n",
    "\n",
    "    def __next__(self):\n",
    "        if self.max_index < 0:\n",
    "            raise StopIteration\n",
    "            \n",
    "        start_index = random.randint(0, self.max_index)\n",
    "        end_index = start_index + self.window_size\n",
    "        window_data = self.data[start_index:end_index]\n",
    "        \n",
    "        indices = list(range(start_index, end_index))\n",
    "        return xgb.DMatrix(window_data.iloc[:, :-1], label=window_data.iloc[:, -1]), indices\n",
    "\n",
    "\n",
    "class XGBoostExponentialSmoothing(BaseEstimator, RegressorMixin):\n",
    "    def __init__(self, num_boost_round=100, ts_subsample=0.5, **xgb_params):\n",
    "        self.xgb_params = xgb_params\n",
    "        self.num_boost_round = num_boost_round\n",
    "        self.ts_subsample = ts_subsample\n",
    "\n",
    "        self.model = None\n",
    "        \n",
    "    def stes_variance_objective(self, preds, dtrain, indices=None):\n",
    "        labels = dtrain.get_label()\n",
    "        alphas = expit(preds)\n",
    "        \n",
    "        if indices is None:\n",
    "            returns = self.data['returns'].to_numpy()\n",
    "        else:\n",
    "            returns = self.data.iloc[indices]['returns'].to_numpy()\n",
    "\n",
    "        grads = np.zeros_like(preds)\n",
    "        hesss = np.zeros_like(preds)\n",
    "        varhs = np.zeros_like(preds)\n",
    "\n",
    "        assert len(preds) == len(returns) == len(labels), \"Mismatch between lengths of preds, returns, and labels\"\n",
    "\n",
    "        for t in range(len(returns)):\n",
    "            if t == 0:\n",
    "                lvar_f = np.var(returns)\n",
    "                varhs[t] = alphas[t] * returns[t]**2 + (1 - alphas[t]) * lvar_f\n",
    "                d_alpha = returns[t]**2 - lvar_f\n",
    "            else:\n",
    "                varhs[t] = alphas[t] * returns[t]**2 + (1 - alphas[t]) * varhs[t-1]\n",
    "                d_alpha = returns[t]**2 - varhs[t-1]\n",
    "            \n",
    "            d_pred = alphas[t] * (1 - alphas[t]) * d_alpha\n",
    "            grads[t] = 2 * (varhs[t] - labels[t]) * d_pred\n",
    "            hesss[t] = 2 * d_pred**2\n",
    "\n",
    "        return grads, hesss\n",
    "\n",
    "    def fit(self, X, y=None):\n",
    "        assert 'label' in X\n",
    "        assert 'returns' in X\n",
    "        \n",
    "        self.data = X.copy()\n",
    "        dtrain = xgb.DMatrix(X)\n",
    "        \n",
    "        iterator = TimeSeriesDataIterator(self.data, int(self.ts_subsample * len(X)))\n",
    "\n",
    "        self.model = None\n",
    "        for _ in range(self.num_boost_round):\n",
    "            for ri, (dtrain, indices) in enumerate(iterator):\n",
    "                if ri > 5:\n",
    "                    break\n",
    "                \n",
    "                if self.model is None:\n",
    "                    self.model = xgb.train(\n",
    "                        self.xgb_params, dtrain, \n",
    "                        num_boost_round=5, \n",
    "                        obj=lambda preds, dtrain: self.stes_variance_objective(preds, dtrain, indices), \n",
    "                        evals=[(dtrain, 'train')], verbose_eval=False\n",
    "                    )\n",
    "                else:\n",
    "                    self.model = xgb.train(\n",
    "                        self.xgb_params, dtrain, \n",
    "                        num_boost_round=5, \n",
    "                        obj=lambda preds, dtrain: self.stes_variance_objective(preds, dtrain, indices), \n",
    "                        evals=[(dtrain, 'train')], \n",
    "                        xgb_model=self.model, verbose_eval=False\n",
    "                    )\n",
    "        \n",
    "        if self.model is None:\n",
    "            raise RuntimeError(\"Model training failed and no model was created.\")\n",
    "        \n",
    "        return self.model\n",
    "\n",
    "    def predict(self, X):\n",
    "        if self.model is None:\n",
    "            raise RuntimeError(\"You must train the model before predicting data!\")\n",
    "        \n",
    "        if \"label\" in X:\n",
    "            dtest = xgb.DMatrix(X.drop('label', axis=1))\n",
    "        else:\n",
    "            dtest = xgb.DMatrix(X)\n",
    "        preds = self.model.predict(dtest)\n",
    "        return preds\n",
    "\n",
    "    def forecast_variance(self, X):\n",
    "        alphas = expit(self.predict(X))\n",
    "        \n",
    "        returns = X['returns'].to_numpy()\n",
    "        var_pred = np.zeros_like(alphas)\n",
    "        var_pred[0] = returns[0]**2\n",
    "        \n",
    "        for t in range(1, len(returns)):\n",
    "            var_pred[t] = alphas[t] * returns[t]**2 + (1 - alphas[t]) * var_pred[t-1]\n",
    "        \n",
    "        return var_pred\n",
    "\n",
    "    def get_params(self, deep=True):\n",
    "        \"\"\"\n",
    "        Return the parameters of the estimator.\n",
    "        \"\"\"\n",
    "        return {\n",
    "            \"ts_subsample\": self.ts_subsample, \n",
    "            'num_boost_round': self.num_boost_round, \n",
    "            **self.xgb_params\n",
    "        }\n",
    "\n",
    "    def set_params(self, **params):\n",
    "        for key, value in params.items():\n",
    "            if key in self.xgb_params:\n",
    "                self.xgb_params[key] = value\n",
    "            else:\n",
    "                setattr(self, key, value)\n",
    "        return self\n"
   ]
  },
  {
   "cell_type": "code",
   "execution_count": 93,
   "metadata": {},
   "outputs": [],
   "source": [
    "xgb_params = {\n",
    "    'max_depth': 3,            # Maximum depth of the tree\n",
    "    'learning_rate': 0.1,      # Learning rate\n",
    "    'num_boost_round': 100,    # Number of boosting rounds\n",
    "    'colsample_bytree': 0.8,   # Column subsampling at tree level\n",
    "    'colsample_bylevel': 0.8,  # Column subsampling at level level\n",
    "    'colsample_bynode': 0.8,   # Column subsampling at node level\n",
    "    'reg_lambda': 1.0,         # L2 regularization\n",
    "    'random_state': 42,        # Seed for reproducibility\n",
    "}"
   ]
  },
  {
   "cell_type": "code",
   "execution_count": 94,
   "metadata": {},
   "outputs": [],
   "source": [
    "def xgb_stes_scoring_function(y_true, y_pred):\n",
    "    \"\"\"\n",
    "    Custom scoring function that aligns with the custom objective function.\n",
    "    \"\"\"\n",
    "    alphas = expit(y_pred)\n",
    "    var_pred = np.zeros_like(alphas)\n",
    "    y_true_np = y_true.to_numpy()\n",
    "    var_pred[0] = y_true_np[0]**2  # Assuming y_true is returns for scoring\n",
    "\n",
    "    for t in range(1, len(y_true)):\n",
    "        var_pred[t] = alphas[t] * y_true_np[t-1] + (1 - alphas[t]) * var_pred[t-1]\n",
    "\n",
    "    mse = np.mean((var_pred - y_true_np) ** 2)\n",
    "    return -mse  # Negate the MSE because GridSearchCV maximizes the score\n",
    "\n",
    "# Define a function to perform hyperparameter tuning\n",
    "def tune_xgboost_model(X, y=None):\n",
    "    param_dist = {\n",
    "        'max_depth': randint(1, 5),\n",
    "        'learning_rate': uniform(0.01, 0.19),\n",
    "        'ts_subsample': uniform(),\n",
    "        'reg_lambda': uniform(0.1, 10.0)\n",
    "    }\n",
    "    \n",
    "    # Initialize the model\n",
    "    model = XGBoostExponentialSmoothing()\n",
    "    \n",
    "    tscv = TimeSeriesSplit(n_splits=3)\n",
    "    \n",
    "    # Use RandomizedSearchCV to find the best parameters\n",
    "    random_search = RandomizedSearchCV(\n",
    "        estimator=model,\n",
    "        param_distributions=param_dist,\n",
    "        scoring=make_scorer(xgb_stes_scoring_function),\n",
    "        cv=tscv,\n",
    "        n_iter=50,  # Number of parameter settings that are sampled\n",
    "        verbose=1,\n",
    "        random_state=42,\n",
    "        error_score='raise',\n",
    "    )\n",
    "\n",
    "    random_search.fit(X, y)\n",
    "    \n",
    "    return random_search.best_params_\n"
   ]
  },
  {
   "cell_type": "code",
   "execution_count": 110,
   "metadata": {},
   "outputs": [],
   "source": [
    "xgb_stes_rmses = []\n",
    "es_os_rmses = []\n",
    "\n",
    "np.random.seed(0)\n",
    "rand_seeds = np.random.randint(0, 1e6, size=10)\n",
    "for i in range(10):\n",
    "    np.random.seed(rand_seeds[i])\n",
    "    simulated_garch_return, simulated_garch_var = simulate_contaminated_garch(n=2500, mu=0, omega=0.02, alpha=0.11, beta=0.87, eta=4)\n",
    "    simulated_garch_feature_matrix = pd.DataFrame.from_dict({\n",
    "        'returns': simulated_garch_return[:-1],\n",
    "        'abs(returns)': np.abs(simulated_garch_return[:-1]),\n",
    "        'returns^2': simulated_garch_return[:-1]**2,\n",
    "        'label': simulated_garch_return[1:]**2,\n",
    "    })\n",
    "    \n",
    "    xgb_es_model = XGBoostExponentialSmoothing(**xgb_params)\n",
    "    xgb_es_model.fit(simulated_garch_feature_matrix.iloc[500:2000, :])\n",
    "\n",
    "    xgb_es_predicted_garch_var_fs = xgb_es_model.forecast_variance(\n",
    "        simulated_garch_feature_matrix.iloc[:, :-1]\n",
    "    )\n",
    "    os_xgb_es_rmse = np.sqrt(np.mean((xgb_es_predicted_garch_var_fs[-500:] - simulated_garch_feature_matrix.iloc[-500:, -1])**2))\n",
    "\n",
    "    _, os_es_rmse, _, _, _, _, _ = fit_es_least_square(\n",
    "        returns=simulated_garch_return\n",
    "    )\n",
    "\n",
    "    xgb_stes_rmses.append(os_xgb_es_rmse)\n",
    "    es_os_rmses.append(os_es_rmse)\n"
   ]
  },
  {
   "cell_type": "code",
   "execution_count": 111,
   "metadata": {},
   "outputs": [
    {
     "data": {
      "text/plain": [
       "[7.580650464157596,\n",
       " 1.4840364695052803,\n",
       " 2.0573728075183424,\n",
       " 1.9516528570577154,\n",
       " 2.153670437654188,\n",
       " 3.480865804496944,\n",
       " 1.975124788175122,\n",
       " 3.2363359834362266,\n",
       " 2.885783926917695,\n",
       " 1.5973134223080971]"
      ]
     },
     "execution_count": 111,
     "metadata": {},
     "output_type": "execute_result"
    }
   ],
   "source": [
    "xgb_stes_rmses"
   ]
  },
  {
   "cell_type": "code",
   "execution_count": 112,
   "metadata": {},
   "outputs": [
    {
     "data": {
      "text/plain": [
       "[6.942802813195433,\n",
       " 1.1629124618185565,\n",
       " 1.9029483679644152,\n",
       " 1.7326920596926112,\n",
       " 1.952208574462799,\n",
       " 3.330179650524508,\n",
       " 1.8271526835376872,\n",
       " 3.012780974611026,\n",
       " 2.575031933054428,\n",
       " 1.4257287738495066]"
      ]
     },
     "execution_count": 112,
     "metadata": {},
     "output_type": "execute_result"
    }
   ],
   "source": [
    "es_os_rmses"
   ]
  },
  {
   "cell_type": "code",
   "execution_count": null,
   "metadata": {},
   "outputs": [],
   "source": []
  },
  {
   "cell_type": "code",
   "execution_count": null,
   "metadata": {},
   "outputs": [],
   "source": []
  },
  {
   "cell_type": "code",
   "execution_count": null,
   "metadata": {},
   "outputs": [],
   "source": []
  },
  {
   "cell_type": "code",
   "execution_count": 114,
   "metadata": {},
   "outputs": [],
   "source": [
    "spy_feature_matrix = pd.DataFrame.from_dict({\n",
    "    'returns': spy_log_returns.to_numpy()[:-1],\n",
    "    'abs(returns)': np.abs(spy_log_returns.to_numpy()[:-1]),\n",
    "    'returns^2': spy_log_returns.to_numpy()[:-1]**2,\n",
    "    'label': spy_log_returns.to_numpy()[1:]**2,\n",
    "})"
   ]
  },
  {
   "cell_type": "code",
   "execution_count": 115,
   "metadata": {},
   "outputs": [
    {
     "name": "stdout",
     "output_type": "stream",
     "text": [
      "Fitting 3 folds for each of 50 candidates, totalling 150 fits\n",
      "Best Parameters: {'learning_rate': 0.06629196608377566, 'max_depth': 1, 'reg_lambda': 0.8455064367977082, 'ts_subsample': 0.9868869366005173}\n"
     ]
    }
   ],
   "source": [
    "X = spy_feature_matrix.iloc[:4000]\n",
    "y = spy_feature_matrix.iloc[:4000:, -1]\n",
    "\n",
    "# Perform hyperparameter tuning\n",
    "best_params = tune_xgboost_model(X, y)\n",
    "print(\"Best Parameters:\", best_params)\n"
   ]
  },
  {
   "cell_type": "code",
   "execution_count": 121,
   "metadata": {},
   "outputs": [
    {
     "data": {
      "text/plain": [
       "{'max_depth': 1,\n",
       " 'learning_rate': 0.06629196608377566,\n",
       " 'num_boost_round': 100,\n",
       " 'colsample_bytree': 0.8,\n",
       " 'colsample_bylevel': 0.8,\n",
       " 'colsample_bynode': 0.8,\n",
       " 'reg_lambda': 0.8455064367977082,\n",
       " 'random_state': 42,\n",
       " 'ts_subsample': 0.9868869366005173}"
      ]
     },
     "execution_count": 121,
     "metadata": {},
     "output_type": "execute_result"
    }
   ],
   "source": [
    "best_params_tuned = xgb_params | best_params\n",
    "best_params_tuned\n"
   ]
  },
  {
   "cell_type": "code",
   "execution_count": 122,
   "metadata": {},
   "outputs": [
    {
     "data": {
      "text/plain": [
       "<xgboost.core.Booster at 0x168dca770>"
      ]
     },
     "execution_count": 122,
     "metadata": {},
     "output_type": "execute_result"
    }
   ],
   "source": [
    "xgb_stes_spy_model = XGBoostExponentialSmoothing(**best_params_tuned)\n",
    "xgb_stes_spy_model.fit(spy_feature_matrix.iloc[:4000,:])\n"
   ]
  },
  {
   "cell_type": "code",
   "execution_count": 123,
   "metadata": {},
   "outputs": [
    {
     "data": {
      "text/plain": [
       "array([-2.1304412, -3.6255996, -5.6719337, ..., -6.2800193, -6.2800193,\n",
       "       -6.2800193], dtype=float32)"
      ]
     },
     "execution_count": 123,
     "metadata": {},
     "output_type": "execute_result"
    }
   ],
   "source": [
    "xgb_stes_spy_model.predict(spy_feature_matrix.iloc[:4000, :-1])"
   ]
  },
  {
   "cell_type": "code",
   "execution_count": 124,
   "metadata": {},
   "outputs": [
    {
     "data": {
      "text/plain": [
       "[<matplotlib.lines.Line2D at 0x168dbc6a0>]"
      ]
     },
     "execution_count": 124,
     "metadata": {},
     "output_type": "execute_result"
    },
    {
     "data": {
      "image/png": "[encoded data removed]",
      "text/plain": [
       "<Figure size 640x480 with 1 Axes>"
      ]
     },
     "metadata": {},
     "output_type": "display_data"
    }
   ],
   "source": [
    "os_xgb_stes_spy_pred = expit(xgb_stes_spy_model.predict(spy_feature_matrix))\n",
    "plt.plot(os_xgb_stes_spy_pred)"
   ]
  },
  {
   "cell_type": "code",
   "execution_count": 126,
   "metadata": {},
   "outputs": [],
   "source": [
    "xgb_stes_predicted_spy_var_fs = xgb_stes_spy_model.forecast_variance(\n",
    "    spy_feature_matrix\n",
    ")"
   ]
  },
  {
   "cell_type": "code",
   "execution_count": 127,
   "metadata": {},
   "outputs": [],
   "source": [
    "os_xgb_stes_spy_rmse = np.sqrt(np.mean((xgb_stes_predicted_spy_var_fs[4000:] - spy_log_returns[:-1][4000:].to_numpy()**2)**2))\n",
    "\n",
    "_,        os_es_spy_rmse, _, _, _, _, _ = fit_es_least_square(returns=spy_log_returns.to_numpy(), is_index=10, os_index=4000)\n",
    "_,  os_stes_eae_spy_rmse, _, _, _, _, _ = fit_stes_eae_least_square(returns=spy_log_returns.to_numpy(), is_index=10, os_index=4000)\n",
    "_,  os_stes_ese_spy_rmse, _, _, _, _, _ = fit_stes_ese_least_square(returns=spy_log_returns.to_numpy(), is_index=10, os_index=4000)\n",
    "_, os_stes_aese_spy_rmse, _, _, _, _, _ = fit_stes_aese_least_square(returns=spy_log_returns.to_numpy(), is_index=10, os_index=4000)"
   ]
  },
  {
   "cell_type": "code",
   "execution_count": 128,
   "metadata": {},
   "outputs": [
    {
     "name": "stdout",
     "output_type": "stream",
     "text": [
      "XGB STES SPY Error: 4.287417170477376\n",
      "ES SPY Error: 4.63983472238446\n",
      "STES E&AE SPY Error: 4.520467608115644\n",
      "STES E&SE SPY Error: 4.498323449171581\n",
      "STES AE&SE SPY Error: 4.496550031690598\n"
     ]
    }
   ],
   "source": [
    "print(f\"XGB STES SPY Error: {os_xgb_stes_spy_rmse}\")\n",
    "print(f\"ES SPY Error: {os_es_spy_rmse}\")\n",
    "print(f\"STES E&AE SPY Error: {os_stes_eae_spy_rmse}\")\n",
    "print(f\"STES E&SE SPY Error: {os_stes_ese_spy_rmse}\")\n",
    "print(f\"STES AE&SE SPY Error: {os_stes_aese_spy_rmse}\")"
   ]
  },
  {
   "cell_type": "code",
   "execution_count": null,
   "metadata": {},
   "outputs": [],
   "source": []
  }
 ],
 "metadata": {
  "kernelspec": {
   "display_name": "ml_env",
   "language": "python",
   "name": "python3"
  },
  "language_info": {
   "codemirror_mode": {
    "name": "ipython",
    "version": 3
   },
   "file_extension": ".py",
   "mimetype": "text/x-python",
   "name": "python",
   "nbconvert_exporter": "python",
   "pygments_lexer": "ipython3",
   "version": "3.11.6"
  }
 },
 "nbformat": 4,
 "nbformat_minor": 2
}
